{
 "cells": [
  {
   "cell_type": "markdown",
   "metadata": {},
   "source": [
    "# Welcome to Jupyter Notebook"
   ]
  },
  {
   "cell_type": "markdown",
   "metadata": {},
   "source": [
    "## Work With Python Code and Markdown Cells in Jupyter Notebook"
   ]
  },
  {
   "cell_type": "markdown",
   "metadata": {},
   "source": [
    "There are two types of cells in Jupyter notebook\n",
    "\n",
    "* Text\n",
    "* Code"
   ]
  },
  {
   "cell_type": "markdown",
   "metadata": {},
   "source": [
    "## 1. Code cell\n",
    "Code cells allow you to write and run programming code "
   ]
  },
  {
   "cell_type": "code",
   "execution_count": 1,
   "metadata": {},
   "outputs": [
    {
     "data": {
      "text/plain": "True"
     },
     "execution_count": 1,
     "metadata": {},
     "output_type": "execute_result"
    }
   ],
   "source": [
    "#This is a code cell\n",
    "1 + 2 == 3"
   ]
  },
  {
   "cell_type": "markdown",
   "metadata": {},
   "source": [
    "## 2. Text Cells \n",
    "Text cells allow you to write and render Markdown syntax. This is where you can describe and document your workflow."
   ]
  },
  {
   "cell_type": "code",
   "execution_count": null,
   "metadata": {},
   "outputs": [],
   "source": []
  },
  {
   "cell_type": "markdown",
   "metadata": {},
   "source": [
    "Change existing cell to markdown"
   ]
  },
  {
   "cell_type": "markdown",
   "metadata": {},
   "source": [
    "## 3. Create New Cells"
   ]
  },
  {
   "cell_type": "markdown",
   "metadata": {},
   "source": [
    "#### Keyboard shortcuts\n",
    "\n",
    "`Esc + a` (above) <br/>\n",
    "\n",
    "`Esc + b` (below)"
   ]
  },
  {
   "cell_type": "markdown",
   "metadata": {},
   "source": [
    "#### Menu Tools\n",
    "\n",
    "Insert→ Insert Cell Above OR Insert → Insert Cell Below"
   ]
  },
  {
   "cell_type": "markdown",
   "metadata": {},
   "source": [
    "    "
   ]
  },
  {
   "cell_type": "markdown",
   "metadata": {},
   "source": [
    "## 4. The default cell type for new cells is Code, you can change the cell type\n",
    "\n",
    "#### Keyboard shortcut\n",
    "\n",
    "to change it to markdown text <br/>\n",
    "`Esc + m`\n",
    "\n",
    "to change it to code <br/>\n",
    "`Esc + y`\n",
    "\n",
    "#### Menu Tools <br/>\n",
    "\n",
    "Cell → Cell Type"
   ]
  },
  {
   "cell_type": "markdown",
   "metadata": {},
   "source": [
    "    "
   ]
  },
  {
   "cell_type": "markdown",
   "metadata": {},
   "source": [
    "## 5. Run Cells"
   ]
  },
  {
   "cell_type": "markdown",
   "metadata": {},
   "source": [
    "#### Keyboard shortcut\n",
    "\n",
    "`Ctrl + enter`\n",
    "\n",
    "`Shift + enter` will run the current cell and create a next cell\n",
    "\n",
    "#### Menu Tools <br/>\n",
    "\n",
    "Cell → Run Cell"
   ]
  },
  {
   "cell_type": "markdown",
   "metadata": {},
   "source": [
    "    "
   ]
  },
  {
   "cell_type": "markdown",
   "metadata": {},
   "source": [
    "## 6. Markdown cells"
   ]
  },
  {
   "cell_type": "raw",
   "metadata": {},
   "source": [
    "### This is a subtitle in Markdown\n",
    "\n",
    "#### This is a smaller subtitle\n",
    "\n",
    "##### This is an even smaller subtitle\n",
    "\n",
    "* is used for creating bullets\n",
    "\n",
    "**word** is used to bold words or sentence"
   ]
  },
  {
   "cell_type": "markdown",
   "metadata": {},
   "source": [
    "### This is a subtitle in Markdown\n",
    "\n",
    "#### This is a smaller subtitle\n",
    "\n",
    "##### This is an even smaller subtitle\n",
    "\n",
    "* is used for creating bullets\n",
    "\n",
    "**word** is used to bold words or a sentence"
   ]
  },
  {
   "cell_type": "markdown",
   "metadata": {},
   "source": [
    "    "
   ]
  },
  {
   "cell_type": "markdown",
   "metadata": {},
   "source": [
    "## 7. Rearrange Cells in a Jupyter Notebook"
   ]
  },
  {
   "cell_type": "markdown",
   "metadata": {},
   "source": [
    "You can change the order of cells within Jupyter Notebook using the `up arrow` and `down arrow` buttons on the menu bar. To do this, click inside the cell that you want to move and then press the desired arrow as many times as you need to move the cell to the desired location"
   ]
  },
  {
   "cell_type": "markdown",
   "metadata": {},
   "source": [
    "    "
   ]
  },
  {
   "cell_type": "markdown",
   "metadata": {},
   "source": [
    "## 8. Clear Results\n",
    "\n",
    "#### Menu Tools <br/>\n",
    "Cell → Current Outputs → Clear\n",
    "\n",
    "Cell → All Outputs → Clear"
   ]
  },
  {
   "cell_type": "markdown",
   "metadata": {},
   "source": [
    "## 9. Renaming a Notebook\n",
    "\n",
    "You can change the name of an open Jupyter Notebook file by clicking on the title textbox at the top of your notebook next to the Jupyter logo. Then, simply type in a new name into the title textbox and select Rename."
   ]
  },
  {
   "cell_type": "markdown",
   "metadata": {},
   "source": [
    "    "
   ]
  },
  {
   "cell_type": "markdown",
   "metadata": {},
   "source": [
    "## 10. Saving and Downloading a Notebook\n",
    "\n",
    "The notebook auto saves after every 2 minutes. You can also use `Esc + S` to save manually.\n",
    "\n",
    "For a full list of keyboard shortcuts, click the `help` button, then the `keyboard shortcuts` button or take a tour of the important features of Jupyter notebook by clicking `help` → `User Interface Tour`"
   ]
  },
  {
   "cell_type": "markdown",
   "metadata": {},
   "source": [
    "    "
   ]
  }
 ],
 "metadata": {
  "kernelspec": {
   "display_name": "Python 3 (ipykernel)",
   "language": "python",
   "name": "python3"
  },
  "language_info": {
   "codemirror_mode": {
    "name": "ipython",
    "version": 3
   },
   "file_extension": ".py",
   "mimetype": "text/x-python",
   "name": "python",
   "nbconvert_exporter": "python",
   "pygments_lexer": "ipython3",
   "version": "3.9.13"
  }
 },
 "nbformat": 4,
 "nbformat_minor": 4
}
