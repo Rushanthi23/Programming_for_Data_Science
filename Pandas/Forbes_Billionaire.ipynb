{
 "cells": [
  {
   "cell_type": "markdown",
   "metadata": {},
   "source": [
    "## In Class Practice with Pandas"
   ]
  },
  {
   "cell_type": "markdown",
   "metadata": {},
   "source": [
    "**Data Dictionary**\n",
    "\n",
    "* Name - Name of the person\n",
    "* Net worth in billions - Net worth of the person in billions\n",
    "* Country - Country where the person is from\n",
    "* Source - Source of the income\n",
    "* Rank - Rank of the person in the Billionaires list\n",
    "* Age - Age of the person\n",
    "* Industry - Industry to which the person is related to"
   ]
  },
  {
   "cell_type": "markdown",
   "metadata": {},
   "source": [
    "### Importing Pandas Library"
   ]
  },
  {
   "cell_type": "code",
   "execution_count": 1,
   "metadata": {
    "ExecuteTime": {
     "end_time": "2021-06-10T05:17:01.435413Z",
     "start_time": "2021-06-10T05:17:01.412953Z"
    }
   },
   "outputs": [],
   "source": [
    "import pandas as pd"
   ]
  },
  {
   "cell_type": "markdown",
   "metadata": {},
   "source": [
    "### Loading the dataset in a pandas dataframe"
   ]
  },
  {
   "cell_type": "code",
   "execution_count": 2,
   "metadata": {
    "ExecuteTime": {
     "end_time": "2021-06-10T05:17:01.964806Z",
     "start_time": "2021-06-10T05:17:01.941966Z"
    }
   },
   "outputs": [],
   "source": [
    "df = pd.read_csv('Forbes-list-2020.csv')"
   ]
  },
  {
   "cell_type": "markdown",
   "metadata": {},
   "source": [
    "### Print top 5 rows "
   ]
  },
  {
   "cell_type": "code",
   "execution_count": 3,
   "metadata": {
    "ExecuteTime": {
     "end_time": "2021-06-10T05:17:02.339539Z",
     "start_time": "2021-06-10T05:17:02.307528Z"
    }
   },
   "outputs": [
    {
     "data": {
      "text/plain": "                       Name  NetWorth in billions        Country  \\\n0                Jeff Bezos                 177.0  United States   \n1                 Elon Musk                 151.0  United States   \n2  Bernard Arnault & family                 150.0         France   \n3                Bill Gates                 124.0  United States   \n4           Mark Zuckerberg                  97.0  United States   \n\n          Source  Rank  Age          Industry  \n0         Amazon     1   57        Technology  \n1  Tesla, SpaceX     2   49        Automotive  \n2           LVMH     3   72  Fashion & Retail  \n3      Microsoft     4   65        Technology  \n4       Facebook     5   36        Technology  ",
      "text/html": "<div>\n<style scoped>\n    .dataframe tbody tr th:only-of-type {\n        vertical-align: middle;\n    }\n\n    .dataframe tbody tr th {\n        vertical-align: top;\n    }\n\n    .dataframe thead th {\n        text-align: right;\n    }\n</style>\n<table border=\"1\" class=\"dataframe\">\n  <thead>\n    <tr style=\"text-align: right;\">\n      <th></th>\n      <th>Name</th>\n      <th>NetWorth in billions</th>\n      <th>Country</th>\n      <th>Source</th>\n      <th>Rank</th>\n      <th>Age</th>\n      <th>Industry</th>\n    </tr>\n  </thead>\n  <tbody>\n    <tr>\n      <th>0</th>\n      <td>Jeff Bezos</td>\n      <td>177.0</td>\n      <td>United States</td>\n      <td>Amazon</td>\n      <td>1</td>\n      <td>57</td>\n      <td>Technology</td>\n    </tr>\n    <tr>\n      <th>1</th>\n      <td>Elon Musk</td>\n      <td>151.0</td>\n      <td>United States</td>\n      <td>Tesla, SpaceX</td>\n      <td>2</td>\n      <td>49</td>\n      <td>Automotive</td>\n    </tr>\n    <tr>\n      <th>2</th>\n      <td>Bernard Arnault &amp; family</td>\n      <td>150.0</td>\n      <td>France</td>\n      <td>LVMH</td>\n      <td>3</td>\n      <td>72</td>\n      <td>Fashion &amp; Retail</td>\n    </tr>\n    <tr>\n      <th>3</th>\n      <td>Bill Gates</td>\n      <td>124.0</td>\n      <td>United States</td>\n      <td>Microsoft</td>\n      <td>4</td>\n      <td>65</td>\n      <td>Technology</td>\n    </tr>\n    <tr>\n      <th>4</th>\n      <td>Mark Zuckerberg</td>\n      <td>97.0</td>\n      <td>United States</td>\n      <td>Facebook</td>\n      <td>5</td>\n      <td>36</td>\n      <td>Technology</td>\n    </tr>\n  </tbody>\n</table>\n</div>"
     },
     "execution_count": 3,
     "metadata": {},
     "output_type": "execute_result"
    }
   ],
   "source": [
    "df.head(5)"
   ]
  },
  {
   "cell_type": "markdown",
   "metadata": {},
   "source": [
    "#### <span style=\"color:crimson\">Q1. Whose name is assigned to the 0th index in the dataframe</span>"
   ]
  },
  {
   "cell_type": "markdown",
   "source": [
    "Jeff Bezos"
   ],
   "metadata": {
    "collapsed": false
   }
  },
  {
   "cell_type": "markdown",
   "metadata": {},
   "source": [
    "### Print the dimensions of data"
   ]
  },
  {
   "cell_type": "code",
   "execution_count": 4,
   "metadata": {
    "ExecuteTime": {
     "end_time": "2021-06-10T05:17:02.647182Z",
     "start_time": "2021-06-10T05:17:02.627530Z"
    }
   },
   "outputs": [
    {
     "data": {
      "text/plain": "(2755, 7)"
     },
     "execution_count": 4,
     "metadata": {},
     "output_type": "execute_result"
    }
   ],
   "source": [
    "df.shape"
   ]
  },
  {
   "cell_type": "markdown",
   "metadata": {},
   "source": [
    "#### <span style=\"color:crimson\">Q2. How many records do you have in this dataset?</span>"
   ]
  },
  {
   "cell_type": "markdown",
   "source": [
    "2755"
   ],
   "metadata": {
    "collapsed": false
   }
  },
  {
   "cell_type": "markdown",
   "metadata": {},
   "source": [
    "### Datatypes of all the fields in the data"
   ]
  },
  {
   "cell_type": "code",
   "execution_count": 5,
   "metadata": {
    "ExecuteTime": {
     "end_time": "2021-06-10T05:17:03.018995Z",
     "start_time": "2021-06-10T05:17:02.982351Z"
    }
   },
   "outputs": [
    {
     "data": {
      "text/plain": "Name                     object\nNetWorth in billions    float64\nCountry                  object\nSource                   object\nRank                      int64\nAge                       int64\nIndustry                 object\ndtype: object"
     },
     "execution_count": 5,
     "metadata": {},
     "output_type": "execute_result"
    }
   ],
   "source": [
    "df.dtypes"
   ]
  },
  {
   "cell_type": "markdown",
   "metadata": {},
   "source": [
    "#### <span style=\"color:crimson\">Q3. What is the data type of the variable Source</span>"
   ]
  },
  {
   "cell_type": "markdown",
   "source": [
    "object"
   ],
   "metadata": {
    "collapsed": false
   }
  },
  {
   "cell_type": "markdown",
   "metadata": {},
   "source": [
    "### Checking for missing values"
   ]
  },
  {
   "cell_type": "code",
   "execution_count": 6,
   "metadata": {
    "ExecuteTime": {
     "end_time": "2021-06-10T05:17:03.813480Z",
     "start_time": "2021-06-10T05:17:03.793781Z"
    }
   },
   "outputs": [
    {
     "data": {
      "text/plain": "Name                    0\nNetWorth in billions    0\nCountry                 0\nSource                  0\nRank                    0\nAge                     0\nIndustry                0\ndtype: int64"
     },
     "execution_count": 6,
     "metadata": {},
     "output_type": "execute_result"
    }
   ],
   "source": [
    "df.isnull().sum()"
   ]
  },
  {
   "cell_type": "code",
   "execution_count": 7,
   "outputs": [
    {
     "name": "stdout",
     "output_type": "stream",
     "text": [
      "<class 'pandas.core.frame.DataFrame'>\n",
      "RangeIndex: 2755 entries, 0 to 2754\n",
      "Data columns (total 7 columns):\n",
      " #   Column                Non-Null Count  Dtype  \n",
      "---  ------                --------------  -----  \n",
      " 0   Name                  2755 non-null   object \n",
      " 1   NetWorth in billions  2755 non-null   float64\n",
      " 2   Country               2755 non-null   object \n",
      " 3   Source                2755 non-null   object \n",
      " 4   Rank                  2755 non-null   int64  \n",
      " 5   Age                   2755 non-null   int64  \n",
      " 6   Industry              2755 non-null   object \n",
      "dtypes: float64(1), int64(2), object(4)\n",
      "memory usage: 150.8+ KB\n"
     ]
    }
   ],
   "source": [
    "df.info()"
   ],
   "metadata": {
    "collapsed": false
   }
  },
  {
   "cell_type": "markdown",
   "metadata": {},
   "source": [
    "#### <span style=\"color:crimson\">Q4. How many missing values exists in the industry feature</span>"
   ]
  },
  {
   "cell_type": "markdown",
   "source": [
    "0"
   ],
   "metadata": {
    "collapsed": false
   }
  },
  {
   "cell_type": "markdown",
   "metadata": {},
   "source": [
    "### Print the basic stats for this dataset"
   ]
  },
  {
   "cell_type": "code",
   "execution_count": 8,
   "metadata": {},
   "outputs": [
    {
     "data": {
      "text/plain": "       NetWorth in billions         Rank          Age\ncount           2755.000000  2755.000000  2755.000000\nmean               4.749220  1345.663521    63.014519\nstd                9.615358   772.669811    13.259017\nmin                1.000000     1.000000    18.000000\n25%                1.500000   680.000000    54.000000\n50%                2.300000  1362.000000    62.000000\n75%                4.200000  2035.000000    72.000000\nmax              177.000000  2674.000000    97.000000",
      "text/html": "<div>\n<style scoped>\n    .dataframe tbody tr th:only-of-type {\n        vertical-align: middle;\n    }\n\n    .dataframe tbody tr th {\n        vertical-align: top;\n    }\n\n    .dataframe thead th {\n        text-align: right;\n    }\n</style>\n<table border=\"1\" class=\"dataframe\">\n  <thead>\n    <tr style=\"text-align: right;\">\n      <th></th>\n      <th>NetWorth in billions</th>\n      <th>Rank</th>\n      <th>Age</th>\n    </tr>\n  </thead>\n  <tbody>\n    <tr>\n      <th>count</th>\n      <td>2755.000000</td>\n      <td>2755.000000</td>\n      <td>2755.000000</td>\n    </tr>\n    <tr>\n      <th>mean</th>\n      <td>4.749220</td>\n      <td>1345.663521</td>\n      <td>63.014519</td>\n    </tr>\n    <tr>\n      <th>std</th>\n      <td>9.615358</td>\n      <td>772.669811</td>\n      <td>13.259017</td>\n    </tr>\n    <tr>\n      <th>min</th>\n      <td>1.000000</td>\n      <td>1.000000</td>\n      <td>18.000000</td>\n    </tr>\n    <tr>\n      <th>25%</th>\n      <td>1.500000</td>\n      <td>680.000000</td>\n      <td>54.000000</td>\n    </tr>\n    <tr>\n      <th>50%</th>\n      <td>2.300000</td>\n      <td>1362.000000</td>\n      <td>62.000000</td>\n    </tr>\n    <tr>\n      <th>75%</th>\n      <td>4.200000</td>\n      <td>2035.000000</td>\n      <td>72.000000</td>\n    </tr>\n    <tr>\n      <th>max</th>\n      <td>177.000000</td>\n      <td>2674.000000</td>\n      <td>97.000000</td>\n    </tr>\n  </tbody>\n</table>\n</div>"
     },
     "execution_count": 8,
     "metadata": {},
     "output_type": "execute_result"
    }
   ],
   "source": [
    "df.describe()"
   ]
  },
  {
   "cell_type": "markdown",
   "metadata": {},
   "source": [
    "#### <span style=\"color:crimson\">Q5. Who is the yongest billionare in this list?</span>"
   ]
  },
  {
   "cell_type": "markdown",
   "metadata": {},
   "source": [
    "    Kevin David Lehmann"
   ]
  },
  {
   "cell_type": "markdown",
   "metadata": {},
   "source": [
    "### Sort the dataset  by Age (ascending) and reset the index"
   ]
  },
  {
   "cell_type": "code",
   "execution_count": 9,
   "metadata": {},
   "outputs": [
    {
     "data": {
      "text/plain": "                     Name  NetWorth in billions        Country  \\\n0     Kevin David Lehmann                   3.3        Germany   \n1      Alexandra Andresen                   1.4         Norway   \n2             Wang Zelong                   1.5          China   \n3      Katharina Andresen                   1.4         Norway   \n4          Austin Russell                   2.4  United States   \n...                   ...                   ...            ...   \n2750        Masatoshi Ito                   4.0          Japan   \n2751    S. Daniel Abraham                   2.0  United States   \n2752       Charles Munger                   2.0  United States   \n2753        David Murdock                   2.1  United States   \n2754          Robert Kuok                  12.6       Malaysia   \n\n                            Source  Rank  Age               Industry  \n0                       drugstores   925   18       Fashion & Retail  \n1                      investments  2141   24            Diversified  \n2                        chemicals  2035   24        Metals & Mining  \n3                      investments  2141   25            Diversified  \n4                          Unknown  1299   26             Automotive  \n...                            ...   ...  ...                    ...  \n2750                        retail   727   96       Fashion & Retail  \n2751                     Slim-Fast  1580   96        Food & Beverage  \n2752            Berkshire Hathaway  1580   97  Finance & Investments  \n2753             Dole, real estate  1517   97        Food & Beverage  \n2754  palm oil, shipping, property   171   97            Diversified  \n\n[2755 rows x 7 columns]",
      "text/html": "<div>\n<style scoped>\n    .dataframe tbody tr th:only-of-type {\n        vertical-align: middle;\n    }\n\n    .dataframe tbody tr th {\n        vertical-align: top;\n    }\n\n    .dataframe thead th {\n        text-align: right;\n    }\n</style>\n<table border=\"1\" class=\"dataframe\">\n  <thead>\n    <tr style=\"text-align: right;\">\n      <th></th>\n      <th>Name</th>\n      <th>NetWorth in billions</th>\n      <th>Country</th>\n      <th>Source</th>\n      <th>Rank</th>\n      <th>Age</th>\n      <th>Industry</th>\n    </tr>\n  </thead>\n  <tbody>\n    <tr>\n      <th>0</th>\n      <td>Kevin David Lehmann</td>\n      <td>3.3</td>\n      <td>Germany</td>\n      <td>drugstores</td>\n      <td>925</td>\n      <td>18</td>\n      <td>Fashion &amp; Retail</td>\n    </tr>\n    <tr>\n      <th>1</th>\n      <td>Alexandra Andresen</td>\n      <td>1.4</td>\n      <td>Norway</td>\n      <td>investments</td>\n      <td>2141</td>\n      <td>24</td>\n      <td>Diversified</td>\n    </tr>\n    <tr>\n      <th>2</th>\n      <td>Wang Zelong</td>\n      <td>1.5</td>\n      <td>China</td>\n      <td>chemicals</td>\n      <td>2035</td>\n      <td>24</td>\n      <td>Metals &amp; Mining</td>\n    </tr>\n    <tr>\n      <th>3</th>\n      <td>Katharina Andresen</td>\n      <td>1.4</td>\n      <td>Norway</td>\n      <td>investments</td>\n      <td>2141</td>\n      <td>25</td>\n      <td>Diversified</td>\n    </tr>\n    <tr>\n      <th>4</th>\n      <td>Austin Russell</td>\n      <td>2.4</td>\n      <td>United States</td>\n      <td>Unknown</td>\n      <td>1299</td>\n      <td>26</td>\n      <td>Automotive</td>\n    </tr>\n    <tr>\n      <th>...</th>\n      <td>...</td>\n      <td>...</td>\n      <td>...</td>\n      <td>...</td>\n      <td>...</td>\n      <td>...</td>\n      <td>...</td>\n    </tr>\n    <tr>\n      <th>2750</th>\n      <td>Masatoshi Ito</td>\n      <td>4.0</td>\n      <td>Japan</td>\n      <td>retail</td>\n      <td>727</td>\n      <td>96</td>\n      <td>Fashion &amp; Retail</td>\n    </tr>\n    <tr>\n      <th>2751</th>\n      <td>S. Daniel Abraham</td>\n      <td>2.0</td>\n      <td>United States</td>\n      <td>Slim-Fast</td>\n      <td>1580</td>\n      <td>96</td>\n      <td>Food &amp; Beverage</td>\n    </tr>\n    <tr>\n      <th>2752</th>\n      <td>Charles Munger</td>\n      <td>2.0</td>\n      <td>United States</td>\n      <td>Berkshire Hathaway</td>\n      <td>1580</td>\n      <td>97</td>\n      <td>Finance &amp; Investments</td>\n    </tr>\n    <tr>\n      <th>2753</th>\n      <td>David Murdock</td>\n      <td>2.1</td>\n      <td>United States</td>\n      <td>Dole, real estate</td>\n      <td>1517</td>\n      <td>97</td>\n      <td>Food &amp; Beverage</td>\n    </tr>\n    <tr>\n      <th>2754</th>\n      <td>Robert Kuok</td>\n      <td>12.6</td>\n      <td>Malaysia</td>\n      <td>palm oil, shipping, property</td>\n      <td>171</td>\n      <td>97</td>\n      <td>Diversified</td>\n    </tr>\n  </tbody>\n</table>\n<p>2755 rows × 7 columns</p>\n</div>"
     },
     "execution_count": 9,
     "metadata": {},
     "output_type": "execute_result"
    }
   ],
   "source": [
    "df.sort_values('Age', ascending= True, inplace = True)\n",
    "df.reset_index(drop=True, inplace= True)\n",
    "df"
   ]
  },
  {
   "cell_type": "markdown",
   "metadata": {},
   "source": [
    "    "
   ]
  },
  {
   "cell_type": "code",
   "execution_count": 10,
   "metadata": {},
   "outputs": [
    {
     "data": {
      "text/plain": "'sensor technology'"
     },
     "execution_count": 10,
     "metadata": {},
     "output_type": "execute_result"
    }
   ],
   "source": [
    "# run \n",
    "df.iloc[1200,3]"
   ]
  },
  {
   "cell_type": "code",
   "execution_count": 11,
   "outputs": [
    {
     "data": {
      "text/plain": "'sensor technology'"
     },
     "execution_count": 11,
     "metadata": {},
     "output_type": "execute_result"
    }
   ],
   "source": [
    "df.iloc[1200,3]"
   ],
   "metadata": {
    "collapsed": false
   }
  },
  {
   "cell_type": "code",
   "execution_count": 12,
   "outputs": [
    {
     "data": {
      "text/plain": "'sensor technology'"
     },
     "execution_count": 12,
     "metadata": {},
     "output_type": "execute_result"
    }
   ],
   "source": [
    "df.iloc[1200,3]"
   ],
   "metadata": {
    "collapsed": false
   }
  },
  {
   "cell_type": "code",
   "execution_count": 13,
   "outputs": [
    {
     "data": {
      "text/plain": "Name                     Sebastian Glaser\nNetWorth in billions                  2.4\nCountry                           Germany\nSource                  sensor technology\nRank                                 1299\nAge                                    60\nIndustry                       Technology\nName: 1200, dtype: object"
     },
     "execution_count": 13,
     "metadata": {},
     "output_type": "execute_result"
    }
   ],
   "source": [
    "df.iloc[1200,]"
   ],
   "metadata": {
    "collapsed": false
   }
  },
  {
   "cell_type": "markdown",
   "metadata": {},
   "source": [
    "#### <span style=\"color:crimson\">Q6. What is the output of `df.iloc[1200,3]`?</span>"
   ]
  },
  {
   "cell_type": "markdown",
   "metadata": {},
   "source": [
    "sensor technology"
   ]
  },
  {
   "cell_type": "markdown",
   "metadata": {},
   "source": [
    "### Create a new column `Year_of_birth`\n",
    "Note: The dataset is from the year 2020. The age of those Billionaires is as of 2020."
   ]
  },
  {
   "cell_type": "code",
   "execution_count": 14,
   "metadata": {},
   "outputs": [],
   "source": [
    "# create a new column 'Year_of_birth'\n",
    "df['Year_of_birth'] = 2020 - df['Age']"
   ]
  },
  {
   "cell_type": "code",
   "execution_count": 15,
   "metadata": {},
   "outputs": [
    {
     "data": {
      "text/plain": "                     Name  NetWorth in billions        Country  \\\n0     Kevin David Lehmann                   3.3        Germany   \n1      Alexandra Andresen                   1.4         Norway   \n2             Wang Zelong                   1.5          China   \n3      Katharina Andresen                   1.4         Norway   \n4          Austin Russell                   2.4  United States   \n...                   ...                   ...            ...   \n2750        Masatoshi Ito                   4.0          Japan   \n2751    S. Daniel Abraham                   2.0  United States   \n2752       Charles Munger                   2.0  United States   \n2753        David Murdock                   2.1  United States   \n2754          Robert Kuok                  12.6       Malaysia   \n\n                            Source  Rank  Age               Industry  \\\n0                       drugstores   925   18       Fashion & Retail   \n1                      investments  2141   24            Diversified   \n2                        chemicals  2035   24        Metals & Mining   \n3                      investments  2141   25            Diversified   \n4                          Unknown  1299   26             Automotive   \n...                            ...   ...  ...                    ...   \n2750                        retail   727   96       Fashion & Retail   \n2751                     Slim-Fast  1580   96        Food & Beverage   \n2752            Berkshire Hathaway  1580   97  Finance & Investments   \n2753             Dole, real estate  1517   97        Food & Beverage   \n2754  palm oil, shipping, property   171   97            Diversified   \n\n      Year_of_birth  \n0              2002  \n1              1996  \n2              1996  \n3              1995  \n4              1994  \n...             ...  \n2750           1924  \n2751           1924  \n2752           1923  \n2753           1923  \n2754           1923  \n\n[2755 rows x 8 columns]",
      "text/html": "<div>\n<style scoped>\n    .dataframe tbody tr th:only-of-type {\n        vertical-align: middle;\n    }\n\n    .dataframe tbody tr th {\n        vertical-align: top;\n    }\n\n    .dataframe thead th {\n        text-align: right;\n    }\n</style>\n<table border=\"1\" class=\"dataframe\">\n  <thead>\n    <tr style=\"text-align: right;\">\n      <th></th>\n      <th>Name</th>\n      <th>NetWorth in billions</th>\n      <th>Country</th>\n      <th>Source</th>\n      <th>Rank</th>\n      <th>Age</th>\n      <th>Industry</th>\n      <th>Year_of_birth</th>\n    </tr>\n  </thead>\n  <tbody>\n    <tr>\n      <th>0</th>\n      <td>Kevin David Lehmann</td>\n      <td>3.3</td>\n      <td>Germany</td>\n      <td>drugstores</td>\n      <td>925</td>\n      <td>18</td>\n      <td>Fashion &amp; Retail</td>\n      <td>2002</td>\n    </tr>\n    <tr>\n      <th>1</th>\n      <td>Alexandra Andresen</td>\n      <td>1.4</td>\n      <td>Norway</td>\n      <td>investments</td>\n      <td>2141</td>\n      <td>24</td>\n      <td>Diversified</td>\n      <td>1996</td>\n    </tr>\n    <tr>\n      <th>2</th>\n      <td>Wang Zelong</td>\n      <td>1.5</td>\n      <td>China</td>\n      <td>chemicals</td>\n      <td>2035</td>\n      <td>24</td>\n      <td>Metals &amp; Mining</td>\n      <td>1996</td>\n    </tr>\n    <tr>\n      <th>3</th>\n      <td>Katharina Andresen</td>\n      <td>1.4</td>\n      <td>Norway</td>\n      <td>investments</td>\n      <td>2141</td>\n      <td>25</td>\n      <td>Diversified</td>\n      <td>1995</td>\n    </tr>\n    <tr>\n      <th>4</th>\n      <td>Austin Russell</td>\n      <td>2.4</td>\n      <td>United States</td>\n      <td>Unknown</td>\n      <td>1299</td>\n      <td>26</td>\n      <td>Automotive</td>\n      <td>1994</td>\n    </tr>\n    <tr>\n      <th>...</th>\n      <td>...</td>\n      <td>...</td>\n      <td>...</td>\n      <td>...</td>\n      <td>...</td>\n      <td>...</td>\n      <td>...</td>\n      <td>...</td>\n    </tr>\n    <tr>\n      <th>2750</th>\n      <td>Masatoshi Ito</td>\n      <td>4.0</td>\n      <td>Japan</td>\n      <td>retail</td>\n      <td>727</td>\n      <td>96</td>\n      <td>Fashion &amp; Retail</td>\n      <td>1924</td>\n    </tr>\n    <tr>\n      <th>2751</th>\n      <td>S. Daniel Abraham</td>\n      <td>2.0</td>\n      <td>United States</td>\n      <td>Slim-Fast</td>\n      <td>1580</td>\n      <td>96</td>\n      <td>Food &amp; Beverage</td>\n      <td>1924</td>\n    </tr>\n    <tr>\n      <th>2752</th>\n      <td>Charles Munger</td>\n      <td>2.0</td>\n      <td>United States</td>\n      <td>Berkshire Hathaway</td>\n      <td>1580</td>\n      <td>97</td>\n      <td>Finance &amp; Investments</td>\n      <td>1923</td>\n    </tr>\n    <tr>\n      <th>2753</th>\n      <td>David Murdock</td>\n      <td>2.1</td>\n      <td>United States</td>\n      <td>Dole, real estate</td>\n      <td>1517</td>\n      <td>97</td>\n      <td>Food &amp; Beverage</td>\n      <td>1923</td>\n    </tr>\n    <tr>\n      <th>2754</th>\n      <td>Robert Kuok</td>\n      <td>12.6</td>\n      <td>Malaysia</td>\n      <td>palm oil, shipping, property</td>\n      <td>171</td>\n      <td>97</td>\n      <td>Diversified</td>\n      <td>1923</td>\n    </tr>\n  </tbody>\n</table>\n<p>2755 rows × 8 columns</p>\n</div>"
     },
     "execution_count": 15,
     "metadata": {},
     "output_type": "execute_result"
    }
   ],
   "source": [
    "#view the data\n",
    "df"
   ]
  },
  {
   "cell_type": "code",
   "execution_count": 16,
   "outputs": [
    {
     "data": {
      "text/plain": "Name                     object\nNetWorth in billions    float64\nCountry                  object\nSource                   object\nRank                      int64\nAge                       int64\nIndustry                 object\nYear_of_birth             int64\ndtype: object"
     },
     "execution_count": 16,
     "metadata": {},
     "output_type": "execute_result"
    }
   ],
   "source": [
    "df.dtypes"
   ],
   "metadata": {
    "collapsed": false
   }
  },
  {
   "cell_type": "markdown",
   "metadata": {},
   "source": []
  },
  {
   "cell_type": "markdown",
   "metadata": {},
   "source": [
    "### Select Billionaires born in 1996"
   ]
  },
  {
   "cell_type": "code",
   "execution_count": 17,
   "outputs": [
    {
     "data": {
      "text/plain": "Name                    2\nNetWorth in billions    2\nCountry                 2\nSource                  2\nRank                    2\nAge                     2\nIndustry                2\nYear_of_birth           2\ndtype: int64"
     },
     "execution_count": 17,
     "metadata": {},
     "output_type": "execute_result"
    }
   ],
   "source": [
    "#using where condition\n",
    "dob = df.Year_of_birth\n",
    "df.where(dob == 1996).count()"
   ],
   "metadata": {
    "collapsed": false
   }
  },
  {
   "cell_type": "markdown",
   "metadata": {},
   "source": [
    "#### <span style=\"color:crimson\">Q7. How many Billionaires were born in 1996?</span>"
   ]
  },
  {
   "cell_type": "markdown",
   "source": [
    "2"
   ],
   "metadata": {
    "collapsed": false
   }
  },
  {
   "cell_type": "code",
   "execution_count": 17,
   "outputs": [],
   "source": [],
   "metadata": {
    "collapsed": false
   }
  }
 ],
 "metadata": {
  "kernelspec": {
   "display_name": "Python 3 (ipykernel)",
   "language": "python",
   "name": "python3"
  },
  "language_info": {
   "codemirror_mode": {
    "name": "ipython",
    "version": 3
   },
   "file_extension": ".py",
   "mimetype": "text/x-python",
   "name": "python",
   "nbconvert_exporter": "python",
   "pygments_lexer": "ipython3",
   "version": "3.9.13"
  },
  "toc": {
   "base_numbering": 1,
   "nav_menu": {},
   "number_sections": true,
   "sideBar": true,
   "skip_h1_title": false,
   "title_cell": "Table of Contents",
   "title_sidebar": "Contents",
   "toc_cell": false,
   "toc_position": {},
   "toc_section_display": true,
   "toc_window_display": false
  }
 },
 "nbformat": 4,
 "nbformat_minor": 4
}
