{
 "cells": [
  {
   "cell_type": "markdown",
   "metadata": {},
   "source": [
    "# Table of Content\n",
    "\n",
    "\n",
    "1. **[Importing Modules (Pandas)](#pandas)**\n",
    "<br><br> \n",
    "2. **[Pandas DataFrame](#dataframes)**\n",
    "<br><br>\n",
    "3. **[Manipulating DataFrame](#dataframes)**\n",
    "<br><br>\n",
    "4. **[Reading Data from Different Sources](#reading_data)**\n",
    "\n"
   ]
  },
  {
   "cell_type": "markdown",
   "metadata": {},
   "source": [
    "<a id=\"pandas\"> </a>\n",
    "# 1. Pandas"
   ]
  },
  {
   "cell_type": "markdown",
   "metadata": {},
   "source": [
    "<table align=\"left\">\n",
    "    <tr>\n",
    "        <td>\n",
    "            <div align=\"left\", style=\"font-size:120%\">\n",
    "                <font color=\"#21618C\">\n",
    "                    <b> Pandas contain data structures and data manipulation tools designed for data cleaning and analysis.\n",
    "<br><br>\n",
    "                       Pandas is designed for working with tabular data.<br><br>"
   ]
  },
  {
   "cell_type": "markdown",
   "metadata": {},
   "source": [
    "A module/library in python is simply a way to organize the code, and it contains either python classes or just functions. "
   ]
  },
  {
   "cell_type": "markdown",
   "metadata": {},
   "source": [
    "### Quick look at functions"
   ]
  },
  {
   "cell_type": "code",
   "execution_count": 8,
   "metadata": {},
   "outputs": [
    {
     "name": "stdout",
     "output_type": "stream",
     "text": [
      "12\n"
     ]
    }
   ],
   "source": [
    "# what are functions and arguments\n",
    "x,y = 5,7\n",
    "def add(x,y):\n",
    "    c = x+y\n",
    "    return c\n",
    "print(add(5,7))"
   ]
  },
  {
   "cell_type": "code",
   "execution_count": 10,
   "outputs": [
    {
     "data": {
      "text/plain": "12"
     },
     "execution_count": 10,
     "metadata": {},
     "output_type": "execute_result"
    }
   ],
   "source": [
    "import cal\n",
    "\n",
    "cal.add(5,7)"
   ],
   "metadata": {
    "collapsed": false
   }
  },
  {
   "cell_type": "code",
   "execution_count": 11,
   "outputs": [
    {
     "data": {
      "text/plain": "35"
     },
     "execution_count": 11,
     "metadata": {},
     "output_type": "execute_result"
    }
   ],
   "source": [
    "cal.cross(5,7)"
   ],
   "metadata": {
    "collapsed": false
   }
  },
  {
   "cell_type": "code",
   "execution_count": 2,
   "metadata": {},
   "outputs": [],
   "source": [
    "#Explain functions and how import works to students\n",
    "# import inspect\n",
    "# print(inspect.getsource(add.ad))"
   ]
  },
  {
   "cell_type": "markdown",
   "metadata": {},
   "source": [
    "    "
   ]
  },
  {
   "cell_type": "markdown",
   "metadata": {},
   "source": [
    "**How to install and import pandas?**<br>\n",
    "1. Install pandas:<br><br>\n",
    "`!pip install pandas`<br><br>\n",
    "2. Import pandas:<br><br>\n",
    "`import pandas as pd`"
   ]
  },
  {
   "cell_type": "code",
   "execution_count": 1,
   "metadata": {},
   "outputs": [
    {
     "name": "stdout",
     "output_type": "stream",
     "text": [
      "Package                       Version\n",
      "----------------------------- --------------------\n",
      "alabaster                     0.7.12\n",
      "anaconda-client               1.11.0\n",
      "anaconda-navigator            2.3.1\n",
      "anaconda-project              0.11.1\n",
      "anyio                         3.5.0\n",
      "appdirs                       1.4.4\n",
      "argon2-cffi                   21.3.0\n",
      "argon2-cffi-bindings          21.2.0\n",
      "arrow                         1.2.2\n",
      "astroid                       2.11.7\n",
      "astropy                       5.1\n",
      "atomicwrites                  1.4.0\n",
      "attrs                         21.4.0\n",
      "Automat                       20.2.0\n",
      "autopep8                      1.6.0\n",
      "Babel                         2.9.1\n",
      "backcall                      0.2.0\n",
      "backports.functools-lru-cache 1.6.4\n",
      "backports.tempfile            1.0\n",
      "backports.weakref             1.0.post1\n",
      "bcrypt                        3.2.0\n",
      "beautifulsoup4                4.11.1\n",
      "binaryornot                   0.4.4\n",
      "bitarray                      2.5.1\n",
      "bkcharts                      0.2\n",
      "black                         22.6.0\n",
      "bleach                        4.1.0\n",
      "bokeh                         2.4.3\n",
      "boto3                         1.24.28\n",
      "botocore                      1.27.28\n",
      "Bottleneck                    1.3.5\n",
      "brotlipy                      0.7.0\n",
      "certifi                       2022.9.14\n",
      "cffi                          1.15.1\n",
      "chardet                       4.0.0\n",
      "charset-normalizer            2.0.4\n",
      "click                         8.0.4\n",
      "cloudpickle                   2.0.0\n",
      "clyent                        1.2.2\n",
      "colorama                      0.4.5\n",
      "colorcet                      3.0.0\n",
      "comtypes                      1.1.10\n",
      "conda                         22.9.0\n",
      "conda-build                   3.22.0\n",
      "conda-content-trust           0.1.3\n",
      "conda-pack                    0.6.0\n",
      "conda-package-handling        1.9.0\n",
      "conda-repo-cli                1.0.20\n",
      "conda-token                   0.4.0\n",
      "conda-verify                  3.4.2\n",
      "constantly                    15.1.0\n",
      "cookiecutter                  1.7.3\n",
      "cryptography                  37.0.1\n",
      "cssselect                     1.1.0\n",
      "cycler                        0.11.0\n",
      "Cython                        0.29.32\n",
      "cytoolz                       0.11.0\n",
      "daal4py                       2021.6.0\n",
      "dask                          2022.7.0\n",
      "datashader                    0.14.1\n",
      "datashape                     0.5.4\n",
      "debugpy                       1.5.1\n",
      "decorator                     5.1.1\n",
      "defusedxml                    0.7.1\n",
      "diff-match-patch              20200713\n",
      "dill                          0.3.4\n",
      "distributed                   2022.7.0\n",
      "docutils                      0.18.1\n",
      "entrypoints                   0.4\n",
      "et-xmlfile                    1.1.0\n",
      "fastjsonschema                2.16.2\n",
      "filelock                      3.6.0\n",
      "flake8                        4.0.1\n",
      "Flask                         1.1.2\n",
      "fonttools                     4.25.0\n",
      "fsspec                        2022.7.1\n",
      "future                        0.18.2\n",
      "gensim                        4.1.2\n",
      "glob2                         0.7\n",
      "greenlet                      1.1.1\n",
      "h5py                          3.7.0\n",
      "HeapDict                      1.0.1\n",
      "holoviews                     1.15.0\n",
      "hvplot                        0.8.0\n",
      "hyperlink                     21.0.0\n",
      "idna                          3.3\n",
      "imagecodecs                   2021.8.26\n",
      "imageio                       2.19.3\n",
      "imagesize                     1.4.1\n",
      "importlib-metadata            4.11.3\n",
      "incremental                   21.3.0\n",
      "inflection                    0.5.1\n",
      "iniconfig                     1.1.1\n",
      "intake                        0.6.5\n",
      "intervaltree                  3.1.0\n",
      "ipykernel                     6.15.2\n",
      "ipython                       7.31.1\n",
      "ipython-genutils              0.2.0\n",
      "ipywidgets                    7.6.5\n",
      "isort                         5.9.3\n",
      "itemadapter                   0.3.0\n",
      "itemloaders                   1.0.4\n",
      "itsdangerous                  2.0.1\n",
      "jdcal                         1.4.1\n",
      "jedi                          0.18.1\n",
      "jellyfish                     0.9.0\n",
      "Jinja2                        2.11.3\n",
      "jinja2-time                   0.2.0\n",
      "jmespath                      0.10.0\n",
      "joblib                        1.1.0\n",
      "json5                         0.9.6\n",
      "jsonschema                    4.16.0\n",
      "jupyter                       1.0.0\n",
      "jupyter_client                7.3.4\n",
      "jupyter-console               6.4.3\n",
      "jupyter_core                  4.11.1\n",
      "jupyter-server                1.18.1\n",
      "jupyterlab                    3.4.4\n",
      "jupyterlab-pygments           0.1.2\n",
      "jupyterlab-server             2.10.3\n",
      "jupyterlab-widgets            1.0.0\n",
      "keyring                       23.4.0\n",
      "kiwisolver                    1.4.2\n",
      "lazy-object-proxy             1.6.0\n",
      "libarchive-c                  2.9\n",
      "llvmlite                      0.38.0\n",
      "locket                        1.0.0\n",
      "lxml                          4.9.1\n",
      "lz4                           3.1.3\n",
      "Markdown                      3.3.4\n",
      "MarkupSafe                    2.0.1\n",
      "matplotlib                    3.5.2\n",
      "matplotlib-inline             0.1.6\n",
      "mccabe                        0.6.1\n",
      "menuinst                      1.4.19\n",
      "mistune                       0.8.4\n",
      "mkl-fft                       1.3.1\n",
      "mkl-random                    1.2.2\n",
      "mkl-service                   2.4.0\n",
      "mock                          4.0.3\n",
      "mpmath                        1.2.1\n",
      "msgpack                       1.0.3\n",
      "multipledispatch              0.6.0\n",
      "munkres                       1.1.4\n",
      "mypy-extensions               0.4.3\n",
      "navigator-updater             0.3.0\n",
      "nbclassic                     0.3.5\n",
      "nbclient                      0.5.13\n",
      "nbconvert                     6.4.4\n",
      "nbformat                      5.5.0\n",
      "nest-asyncio                  1.5.5\n",
      "networkx                      2.8.4\n",
      "nltk                          3.7\n",
      "nose                          1.3.7\n",
      "notebook                      6.4.12\n",
      "numba                         0.55.1\n",
      "numexpr                       2.8.3\n",
      "numpy                         1.21.5\n",
      "numpydoc                      1.4.0\n",
      "olefile                       0.46\n",
      "openpyxl                      3.0.10\n",
      "packaging                     21.3\n",
      "pandas                        1.4.4\n",
      "pandocfilters                 1.5.0\n",
      "panel                         0.13.1\n",
      "param                         1.12.0\n",
      "paramiko                      2.8.1\n",
      "parsel                        1.6.0\n",
      "parso                         0.8.3\n",
      "partd                         1.2.0\n",
      "pathlib                       1.0.1\n",
      "pathspec                      0.9.0\n",
      "patsy                         0.5.2\n",
      "pep8                          1.7.1\n",
      "pexpect                       4.8.0\n",
      "pickleshare                   0.7.5\n",
      "Pillow                        9.2.0\n",
      "pip                           22.2.2\n",
      "pkginfo                       1.8.2\n",
      "platformdirs                  2.5.2\n",
      "plotly                        5.9.0\n",
      "pluggy                        1.0.0\n",
      "poyo                          0.5.0\n",
      "prometheus-client             0.14.1\n",
      "prompt-toolkit                3.0.20\n",
      "Protego                       0.1.16\n",
      "psutil                        5.9.0\n",
      "ptyprocess                    0.7.0\n",
      "py                            1.11.0\n",
      "pyasn1                        0.4.8\n",
      "pyasn1-modules                0.2.8\n",
      "pycodestyle                   2.8.0\n",
      "pycosat                       0.6.3\n",
      "pycparser                     2.21\n",
      "pyct                          0.4.8\n",
      "pycurl                        7.45.1\n",
      "PyDispatcher                  2.0.5\n",
      "pydocstyle                    6.1.1\n",
      "pyerfa                        2.0.0\n",
      "pyflakes                      2.4.0\n",
      "Pygments                      2.11.2\n",
      "PyHamcrest                    2.0.2\n",
      "PyJWT                         2.4.0\n",
      "pylint                        2.14.5\n",
      "pyls-spyder                   0.4.0\n",
      "PyNaCl                        1.5.0\n",
      "pyodbc                        4.0.34\n",
      "pyOpenSSL                     22.0.0\n",
      "pyparsing                     3.0.9\n",
      "pyrsistent                    0.18.0\n",
      "PySocks                       1.7.1\n",
      "pytest                        7.1.2\n",
      "python-dateutil               2.8.2\n",
      "python-lsp-black              1.0.0\n",
      "python-lsp-jsonrpc            1.0.0\n",
      "python-lsp-server             1.3.3\n",
      "python-slugify                5.0.2\n",
      "python-snappy                 0.6.0\n",
      "pytz                          2022.1\n",
      "pyviz-comms                   2.0.2\n",
      "PyWavelets                    1.3.0\n",
      "pywin32                       302\n",
      "pywin32-ctypes                0.2.0\n",
      "pywinpty                      2.0.2\n",
      "PyYAML                        6.0\n",
      "pyzmq                         23.2.0\n",
      "QDarkStyle                    3.0.2\n",
      "qstylizer                     0.1.10\n",
      "QtAwesome                     1.0.3\n",
      "qtconsole                     5.2.2\n",
      "QtPy                          2.2.0\n",
      "queuelib                      1.5.0\n",
      "regex                         2022.7.9\n",
      "requests                      2.28.1\n",
      "requests-file                 1.5.1\n",
      "rope                          0.22.0\n",
      "Rtree                         0.9.7\n",
      "ruamel-yaml-conda             0.15.100\n",
      "s3transfer                    0.6.0\n",
      "scikit-image                  0.19.2\n",
      "scikit-learn                  1.0.2\n",
      "scikit-learn-intelex          2021.20221004.171935\n",
      "scipy                         1.9.1\n",
      "Scrapy                        2.6.2\n",
      "seaborn                       0.11.2\n",
      "Send2Trash                    1.8.0\n",
      "service-identity              18.1.0\n",
      "setuptools                    63.4.1\n",
      "sip                           4.19.13\n",
      "six                           1.16.0\n",
      "smart-open                    5.2.1\n",
      "sniffio                       1.2.0\n",
      "snowballstemmer               2.2.0\n",
      "sortedcollections             2.1.0\n",
      "sortedcontainers              2.4.0\n",
      "soupsieve                     2.3.1\n",
      "Sphinx                        5.0.2\n",
      "sphinxcontrib-applehelp       1.0.2\n",
      "sphinxcontrib-devhelp         1.0.2\n",
      "sphinxcontrib-htmlhelp        2.0.0\n",
      "sphinxcontrib-jsmath          1.0.1\n",
      "sphinxcontrib-qthelp          1.0.3\n",
      "sphinxcontrib-serializinghtml 1.1.5\n",
      "spyder                        5.2.2\n",
      "spyder-kernels                2.2.1\n",
      "SQLAlchemy                    1.4.39\n",
      "statsmodels                   0.13.2\n",
      "sympy                         1.10.1\n",
      "tables                        3.6.1\n",
      "tabulate                      0.8.10\n",
      "TBB                           0.2\n",
      "tblib                         1.7.0\n",
      "tenacity                      8.0.1\n",
      "terminado                     0.13.1\n",
      "testpath                      0.6.0\n",
      "text-unidecode                1.3\n",
      "textdistance                  4.2.1\n",
      "threadpoolctl                 2.2.0\n",
      "three-merge                   0.1.1\n",
      "tifffile                      2021.7.2\n",
      "tinycss                       0.4\n",
      "tldextract                    3.2.0\n",
      "toml                          0.10.2\n",
      "tomli                         2.0.1\n",
      "tomlkit                       0.11.1\n",
      "toolz                         0.11.2\n",
      "tornado                       6.1\n",
      "tqdm                          4.64.1\n",
      "traitlets                     5.1.1\n",
      "Twisted                       22.2.0\n",
      "twisted-iocpsupport           1.0.2\n",
      "typing_extensions             4.3.0\n",
      "ujson                         5.4.0\n",
      "Unidecode                     1.2.0\n",
      "urllib3                       1.26.11\n",
      "w3lib                         1.21.0\n",
      "watchdog                      2.1.6\n",
      "wcwidth                       0.2.5\n",
      "webencodings                  0.5.1\n",
      "websocket-client              0.58.0\n",
      "Werkzeug                      2.0.3\n",
      "wheel                         0.37.1\n",
      "widgetsnbextension            3.5.2\n",
      "win-inet-pton                 1.1.0\n",
      "win-unicode-console           0.5\n",
      "wincertstore                  0.2\n",
      "wrapt                         1.14.1\n",
      "xarray                        0.20.1\n",
      "xlrd                          2.0.1\n",
      "XlsxWriter                    3.0.3\n",
      "xlwings                       0.27.15\n",
      "yapf                          0.31.0\n",
      "zict                          2.1.0\n",
      "zipp                          3.8.0\n",
      "zope.interface                5.4.0\n"
     ]
    }
   ],
   "source": [
    "#Check the list of base packages\n",
    "!pip list"
   ]
  },
  {
   "cell_type": "code",
   "execution_count": null,
   "metadata": {},
   "outputs": [],
   "source": [
    "# install pandas (one time only)\n",
    "# !pip install pandas"
   ]
  },
  {
   "cell_type": "code",
   "execution_count": 1,
   "metadata": {},
   "outputs": [],
   "source": [
    "#import pandas 'library/package/modules'\n",
    "import pandas as pd"
   ]
  },
  {
   "cell_type": "markdown",
   "metadata": {},
   "source": [
    " `as` is used as an alias in pandas. So from now on we will use `pd.` instead of `pandas.` \n",
    " \n",
    "<br>\n",
    "<span style=\"color:crimson\">Always use libraries if they are freely available. It saves time, and those codes are already tested, debugged and optimized.</span>"
   ]
  },
  {
   "cell_type": "markdown",
   "metadata": {},
   "source": [
    "<a id=\"dataframes\"> </a>\n",
    "# 2. Pandas DataFrames"
   ]
  },
  {
   "cell_type": "markdown",
   "metadata": {},
   "source": [
    "<table align=\"left\">\n",
    "    <tr>\n",
    "        <td>\n",
    "            <div align=\"left\", style=\"font-size:120%\">\n",
    "                <font color=\"#21618C\">\n",
    "                    <b> A DataFrame is a tabular representation of data containing an ordered collection of columns, each of which can be a different type (numeric, string, boolean, and so on). <br><br>                    </b>\n",
    "                </font>\n",
    "            </div>\n",
    "        </td>\n",
    "    </tr>\n",
    "</table>"
   ]
  },
  {
   "cell_type": "markdown",
   "metadata": {},
   "source": [
    "## <span style=\"color:darkgreen;\">To read data from a csv file</span>"
   ]
  },
  {
   "cell_type": "code",
   "execution_count": 2,
   "metadata": {},
   "outputs": [],
   "source": [
    "# read the example.csv file in a dataframe\n",
    "data1 = pd.read_csv('BMI.csv')\n",
    "data2 = pd.read_csv('missingdata.csv')"
   ]
  },
  {
   "cell_type": "code",
   "execution_count": 4,
   "metadata": {},
   "outputs": [
    {
     "data": {
      "text/plain": "pandas.core.frame.DataFrame"
     },
     "execution_count": 4,
     "metadata": {},
     "output_type": "execute_result"
    }
   ],
   "source": [
    "# check the type\n",
    "type(data1)"
   ]
  },
  {
   "cell_type": "code",
   "execution_count": 5,
   "outputs": [
    {
     "data": {
      "text/plain": "pandas.core.frame.DataFrame"
     },
     "execution_count": 5,
     "metadata": {},
     "output_type": "execute_result"
    }
   ],
   "source": [
    "type(data2)"
   ],
   "metadata": {
    "collapsed": false
   }
  },
  {
   "cell_type": "markdown",
   "metadata": {},
   "source": [
    "On checking the data type, we notice it is read as pandas data frame."
   ]
  },
  {
   "cell_type": "markdown",
   "metadata": {},
   "source": [
    "## <span style=\"color:darkgreen;\">To print top & bottom rows of the data</span>"
   ]
  },
  {
   "cell_type": "code",
   "execution_count": 6,
   "metadata": {},
   "outputs": [
    {
     "data": {
      "text/plain": "   Age  Weight (in kg)  Height (in m)\n0   45              60           1.35\n1   12              43           1.21\n2   54              78           1.50",
      "text/html": "<div>\n<style scoped>\n    .dataframe tbody tr th:only-of-type {\n        vertical-align: middle;\n    }\n\n    .dataframe tbody tr th {\n        vertical-align: top;\n    }\n\n    .dataframe thead th {\n        text-align: right;\n    }\n</style>\n<table border=\"1\" class=\"dataframe\">\n  <thead>\n    <tr style=\"text-align: right;\">\n      <th></th>\n      <th>Age</th>\n      <th>Weight (in kg)</th>\n      <th>Height (in m)</th>\n    </tr>\n  </thead>\n  <tbody>\n    <tr>\n      <th>0</th>\n      <td>45</td>\n      <td>60</td>\n      <td>1.35</td>\n    </tr>\n    <tr>\n      <th>1</th>\n      <td>12</td>\n      <td>43</td>\n      <td>1.21</td>\n    </tr>\n    <tr>\n      <th>2</th>\n      <td>54</td>\n      <td>78</td>\n      <td>1.50</td>\n    </tr>\n  </tbody>\n</table>\n</div>"
     },
     "execution_count": 6,
     "metadata": {},
     "output_type": "execute_result"
    }
   ],
   "source": [
    "#top 3 rows\n",
    "data1.head(3)"
   ]
  },
  {
   "cell_type": "markdown",
   "metadata": {},
   "source": [
    "By default, the `.head()` will display **first** five rows. However, we can set the desired number of rows to be displayed."
   ]
  },
  {
   "cell_type": "code",
   "execution_count": 7,
   "metadata": {},
   "outputs": [
    {
     "data": {
      "text/plain": "    Age  Weight (in kg)  Height (in m)\n18   67              78           1.85\n19   26              65           1.21\n20   68              50           1.32\n21   56              76           1.69\n22   67              78           1.85",
      "text/html": "<div>\n<style scoped>\n    .dataframe tbody tr th:only-of-type {\n        vertical-align: middle;\n    }\n\n    .dataframe tbody tr th {\n        vertical-align: top;\n    }\n\n    .dataframe thead th {\n        text-align: right;\n    }\n</style>\n<table border=\"1\" class=\"dataframe\">\n  <thead>\n    <tr style=\"text-align: right;\">\n      <th></th>\n      <th>Age</th>\n      <th>Weight (in kg)</th>\n      <th>Height (in m)</th>\n    </tr>\n  </thead>\n  <tbody>\n    <tr>\n      <th>18</th>\n      <td>67</td>\n      <td>78</td>\n      <td>1.85</td>\n    </tr>\n    <tr>\n      <th>19</th>\n      <td>26</td>\n      <td>65</td>\n      <td>1.21</td>\n    </tr>\n    <tr>\n      <th>20</th>\n      <td>68</td>\n      <td>50</td>\n      <td>1.32</td>\n    </tr>\n    <tr>\n      <th>21</th>\n      <td>56</td>\n      <td>76</td>\n      <td>1.69</td>\n    </tr>\n    <tr>\n      <th>22</th>\n      <td>67</td>\n      <td>78</td>\n      <td>1.85</td>\n    </tr>\n  </tbody>\n</table>\n</div>"
     },
     "execution_count": 7,
     "metadata": {},
     "output_type": "execute_result"
    }
   ],
   "source": [
    "#bottom 3 rows\n",
    "data1.tail(5)"
   ]
  },
  {
   "cell_type": "markdown",
   "metadata": {},
   "source": [
    "By default, the `.tail()` will display **last** five rows. However, we can set the desired number of rows to be displayed."
   ]
  },
  {
   "cell_type": "markdown",
   "metadata": {},
   "source": [
    "## <span style=\"color:darkgreen;\">To obtain the dimensions of the data</span>"
   ]
  },
  {
   "cell_type": "code",
   "execution_count": 9,
   "metadata": {},
   "outputs": [
    {
     "name": "stdout",
     "output_type": "stream",
     "text": [
      "69\n"
     ]
    }
   ],
   "source": [
    "# get the shape of the dataset\n",
    "data1.shape\n",
    "\n",
    "#size of the dataset\n",
    "size = data1.size\n",
    "print(size)"
   ]
  },
  {
   "cell_type": "code",
   "execution_count": 26,
   "outputs": [
    {
     "data": {
      "text/plain": "(23, 3)"
     },
     "execution_count": 26,
     "metadata": {},
     "output_type": "execute_result"
    }
   ],
   "source": [
    "data1.shape"
   ],
   "metadata": {
    "collapsed": false
   }
  },
  {
   "cell_type": "markdown",
   "metadata": {},
   "source": [
    "## <span style=\"color:darkgreen;\">To know the data types of a data frame</span>"
   ]
  },
  {
   "cell_type": "code",
   "execution_count": 12,
   "metadata": {},
   "outputs": [
    {
     "data": {
      "text/plain": "Age                 int64\nWeight (in kg)      int64\nHeight (in m)     float64\ndtype: object"
     },
     "execution_count": 12,
     "metadata": {},
     "output_type": "execute_result"
    }
   ],
   "source": [
    "# get all the data types\n",
    "data1.dtypes"
   ]
  },
  {
   "cell_type": "code",
   "execution_count": 13,
   "outputs": [
    {
     "data": {
      "text/plain": "Age               float64\nWeight (in kg)    float64\nHeight (in m)     float64\ndtype: object"
     },
     "execution_count": 13,
     "metadata": {},
     "output_type": "execute_result"
    }
   ],
   "source": [
    "data2.dtypes"
   ],
   "metadata": {
    "collapsed": false
   }
  },
  {
   "cell_type": "markdown",
   "metadata": {},
   "source": [
    "We see the data type of each variable."
   ]
  },
  {
   "cell_type": "markdown",
   "metadata": {},
   "source": [
    "## <span style=\"color:darkgreen;\">Print more information about the data</span>"
   ]
  },
  {
   "cell_type": "code",
   "execution_count": 14,
   "metadata": {},
   "outputs": [
    {
     "name": "stdout",
     "output_type": "stream",
     "text": [
      "<class 'pandas.core.frame.DataFrame'>\n",
      "RangeIndex: 23 entries, 0 to 22\n",
      "Data columns (total 3 columns):\n",
      " #   Column          Non-Null Count  Dtype  \n",
      "---  ------          --------------  -----  \n",
      " 0   Age             23 non-null     int64  \n",
      " 1   Weight (in kg)  23 non-null     int64  \n",
      " 2   Height (in m)   23 non-null     float64\n",
      "dtypes: float64(1), int64(2)\n",
      "memory usage: 680.0 bytes\n"
     ]
    }
   ],
   "source": [
    "# All information together\n",
    "data1.info()"
   ]
  },
  {
   "cell_type": "markdown",
   "metadata": {},
   "source": [
    "We see this output gives the number of rows present in the data `RangeIndex: 23 entries, 0 to 22` There are 23 rows numbered from 0 to 22. And there are a total of three columns - `Data columns (total 3 columns)`. \n",
    "\n",
    "Consider `Age 23 non-null int64` indicates that the column named 'Age' has 23 non-null observations having the data type 'int64'\n",
    "\n",
    "And finally the memory used to save this dataframe is 680 bytes."
   ]
  },
  {
   "cell_type": "markdown",
   "metadata": {},
   "source": [
    "    "
   ]
  },
  {
   "cell_type": "code",
   "execution_count": 15,
   "metadata": {},
   "outputs": [
    {
     "data": {
      "text/plain": "             Age  Weight (in kg)  Height (in m)\ncount  23.000000       23.000000      23.000000\nmean   44.521739       58.304348       1.528261\nstd    20.586557       19.401112       0.227309\nmin    10.000000       21.000000       1.210000\n25%    26.000000       44.000000       1.320000\n50%    54.000000       65.000000       1.520000\n75%    62.000000       76.000000       1.690000\nmax    75.000000       89.000000       1.850000",
      "text/html": "<div>\n<style scoped>\n    .dataframe tbody tr th:only-of-type {\n        vertical-align: middle;\n    }\n\n    .dataframe tbody tr th {\n        vertical-align: top;\n    }\n\n    .dataframe thead th {\n        text-align: right;\n    }\n</style>\n<table border=\"1\" class=\"dataframe\">\n  <thead>\n    <tr style=\"text-align: right;\">\n      <th></th>\n      <th>Age</th>\n      <th>Weight (in kg)</th>\n      <th>Height (in m)</th>\n    </tr>\n  </thead>\n  <tbody>\n    <tr>\n      <th>count</th>\n      <td>23.000000</td>\n      <td>23.000000</td>\n      <td>23.000000</td>\n    </tr>\n    <tr>\n      <th>mean</th>\n      <td>44.521739</td>\n      <td>58.304348</td>\n      <td>1.528261</td>\n    </tr>\n    <tr>\n      <th>std</th>\n      <td>20.586557</td>\n      <td>19.401112</td>\n      <td>0.227309</td>\n    </tr>\n    <tr>\n      <th>min</th>\n      <td>10.000000</td>\n      <td>21.000000</td>\n      <td>1.210000</td>\n    </tr>\n    <tr>\n      <th>25%</th>\n      <td>26.000000</td>\n      <td>44.000000</td>\n      <td>1.320000</td>\n    </tr>\n    <tr>\n      <th>50%</th>\n      <td>54.000000</td>\n      <td>65.000000</td>\n      <td>1.520000</td>\n    </tr>\n    <tr>\n      <th>75%</th>\n      <td>62.000000</td>\n      <td>76.000000</td>\n      <td>1.690000</td>\n    </tr>\n    <tr>\n      <th>max</th>\n      <td>75.000000</td>\n      <td>89.000000</td>\n      <td>1.850000</td>\n    </tr>\n  </tbody>\n</table>\n</div>"
     },
     "execution_count": 15,
     "metadata": {},
     "output_type": "execute_result"
    }
   ],
   "source": [
    "# describe your data\n",
    "data1.describe()"
   ]
  },
  {
   "cell_type": "markdown",
   "metadata": {},
   "source": [
    "    "
   ]
  },
  {
   "cell_type": "markdown",
   "metadata": {},
   "source": [
    "# `.loc` and `.iloc` methods"
   ]
  },
  {
   "cell_type": "markdown",
   "metadata": {},
   "source": [
    "## <span style=\"color:darkgreen;\">Indexing a dataframe using `.loc`</span>\n",
    "\n",
    "`DataFrame.loc[]` is label-based method, which means that you have to specify rows and columns based on their row and column labels.\n",
    "https://www.geeksforgeeks.org/indexing-and-selecting-data-with-pandas/\n",
    "this is also called slice and dicing of dataset."
   ]
  },
  {
   "cell_type": "code",
   "execution_count": null,
   "metadata": {},
   "outputs": [],
   "source": [
    "#syntax\n",
    "#data1.loc[row-start:row-end, column-start:column-end]"
   ]
  },
  {
   "cell_type": "code",
   "execution_count": 32,
   "outputs": [
    {
     "data": {
      "text/plain": "Age               45.00\nWeight (in kg)    60.00\nHeight (in m)      1.35\nName: 0, dtype: float64"
     },
     "execution_count": 32,
     "metadata": {},
     "output_type": "execute_result"
    }
   ],
   "source": [
    "data1.loc[0]"
   ],
   "metadata": {
    "collapsed": false
   }
  },
  {
   "cell_type": "code",
   "execution_count": 20,
   "metadata": {},
   "outputs": [
    {
     "data": {
      "text/plain": "   Age  Weight (in kg)  Height (in m)\n0   45              60           1.35",
      "text/html": "<div>\n<style scoped>\n    .dataframe tbody tr th:only-of-type {\n        vertical-align: middle;\n    }\n\n    .dataframe tbody tr th {\n        vertical-align: top;\n    }\n\n    .dataframe thead th {\n        text-align: right;\n    }\n</style>\n<table border=\"1\" class=\"dataframe\">\n  <thead>\n    <tr style=\"text-align: right;\">\n      <th></th>\n      <th>Age</th>\n      <th>Weight (in kg)</th>\n      <th>Height (in m)</th>\n    </tr>\n  </thead>\n  <tbody>\n    <tr>\n      <th>0</th>\n      <td>45</td>\n      <td>60</td>\n      <td>1.35</td>\n    </tr>\n  </tbody>\n</table>\n</div>"
     },
     "execution_count": 20,
     "metadata": {},
     "output_type": "execute_result"
    }
   ],
   "source": [
    "# get first row with all columns\n",
    "data1.loc[[0], :]"
   ]
  },
  {
   "cell_type": "code",
   "execution_count": 21,
   "outputs": [
    {
     "data": {
      "text/plain": "   Age  Weight (in kg)  Height (in m)\n0   45              60           1.35",
      "text/html": "<div>\n<style scoped>\n    .dataframe tbody tr th:only-of-type {\n        vertical-align: middle;\n    }\n\n    .dataframe tbody tr th {\n        vertical-align: top;\n    }\n\n    .dataframe thead th {\n        text-align: right;\n    }\n</style>\n<table border=\"1\" class=\"dataframe\">\n  <thead>\n    <tr style=\"text-align: right;\">\n      <th></th>\n      <th>Age</th>\n      <th>Weight (in kg)</th>\n      <th>Height (in m)</th>\n    </tr>\n  </thead>\n  <tbody>\n    <tr>\n      <th>0</th>\n      <td>45</td>\n      <td>60</td>\n      <td>1.35</td>\n    </tr>\n  </tbody>\n</table>\n</div>"
     },
     "execution_count": 21,
     "metadata": {},
     "output_type": "execute_result"
    }
   ],
   "source": [
    "data1.iloc[[0]]"
   ],
   "metadata": {
    "collapsed": false
   }
  },
  {
   "cell_type": "code",
   "execution_count": 35,
   "metadata": {},
   "outputs": [
    {
     "data": {
      "text/plain": "   Age\n0   45",
      "text/html": "<div>\n<style scoped>\n    .dataframe tbody tr th:only-of-type {\n        vertical-align: middle;\n    }\n\n    .dataframe tbody tr th {\n        vertical-align: top;\n    }\n\n    .dataframe thead th {\n        text-align: right;\n    }\n</style>\n<table border=\"1\" class=\"dataframe\">\n  <thead>\n    <tr style=\"text-align: right;\">\n      <th></th>\n      <th>Age</th>\n    </tr>\n  </thead>\n  <tbody>\n    <tr>\n      <th>0</th>\n      <td>45</td>\n    </tr>\n  </tbody>\n</table>\n</div>"
     },
     "execution_count": 35,
     "metadata": {},
     "output_type": "execute_result"
    }
   ],
   "source": [
    "\n",
    "data1.loc[[0], [\"Age\"]]"
   ]
  },
  {
   "cell_type": "code",
   "execution_count": 34,
   "outputs": [
    {
     "data": {
      "text/plain": "45"
     },
     "execution_count": 34,
     "metadata": {},
     "output_type": "execute_result"
    }
   ],
   "source": [
    "# get the value of Age in the 1st row\n",
    "data1.loc[0, 'Age']"
   ],
   "metadata": {
    "collapsed": false
   }
  },
  {
   "cell_type": "markdown",
   "metadata": {},
   "source": [
    "## <span style=\"color:darkgreen;\">Selecting multiple rows</span>"
   ]
  },
  {
   "cell_type": "code",
   "execution_count": 36,
   "metadata": {},
   "outputs": [
    {
     "data": {
      "text/plain": "   Age  Weight (in kg)  Height (in m)\n3   26              65           1.21\n5   21              43           1.52\n9   32              21           1.52",
      "text/html": "<div>\n<style scoped>\n    .dataframe tbody tr th:only-of-type {\n        vertical-align: middle;\n    }\n\n    .dataframe tbody tr th {\n        vertical-align: top;\n    }\n\n    .dataframe thead th {\n        text-align: right;\n    }\n</style>\n<table border=\"1\" class=\"dataframe\">\n  <thead>\n    <tr style=\"text-align: right;\">\n      <th></th>\n      <th>Age</th>\n      <th>Weight (in kg)</th>\n      <th>Height (in m)</th>\n    </tr>\n  </thead>\n  <tbody>\n    <tr>\n      <th>3</th>\n      <td>26</td>\n      <td>65</td>\n      <td>1.21</td>\n    </tr>\n    <tr>\n      <th>5</th>\n      <td>21</td>\n      <td>43</td>\n      <td>1.52</td>\n    </tr>\n    <tr>\n      <th>9</th>\n      <td>32</td>\n      <td>21</td>\n      <td>1.52</td>\n    </tr>\n  </tbody>\n</table>\n</div>"
     },
     "execution_count": 36,
     "metadata": {},
     "output_type": "execute_result"
    }
   ],
   "source": [
    "# select row 4, 6, 10\n",
    "data1.iloc[[3,5,9]]"
   ]
  },
  {
   "cell_type": "markdown",
   "metadata": {},
   "source": [
    "We use two square brackets since we are passing a list of row numbers to be accessed."
   ]
  },
  {
   "cell_type": "markdown",
   "metadata": {},
   "source": [
    "## <span style=\"color:darkgreen;\">Selecting a range of rows</span>"
   ]
  },
  {
   "cell_type": "code",
   "execution_count": 37,
   "metadata": {
    "scrolled": true
   },
   "outputs": [
    {
     "data": {
      "text/plain": "    Age  Weight (in kg)  Height (in m)\n10   23              53           1.50\n11   34              65           1.76\n12   55              89           1.65\n13   23              45           1.75\n14   56              76           1.69\n15   67              78           1.85\n16   26              65           1.21",
      "text/html": "<div>\n<style scoped>\n    .dataframe tbody tr th:only-of-type {\n        vertical-align: middle;\n    }\n\n    .dataframe tbody tr th {\n        vertical-align: top;\n    }\n\n    .dataframe thead th {\n        text-align: right;\n    }\n</style>\n<table border=\"1\" class=\"dataframe\">\n  <thead>\n    <tr style=\"text-align: right;\">\n      <th></th>\n      <th>Age</th>\n      <th>Weight (in kg)</th>\n      <th>Height (in m)</th>\n    </tr>\n  </thead>\n  <tbody>\n    <tr>\n      <th>10</th>\n      <td>23</td>\n      <td>53</td>\n      <td>1.50</td>\n    </tr>\n    <tr>\n      <th>11</th>\n      <td>34</td>\n      <td>65</td>\n      <td>1.76</td>\n    </tr>\n    <tr>\n      <th>12</th>\n      <td>55</td>\n      <td>89</td>\n      <td>1.65</td>\n    </tr>\n    <tr>\n      <th>13</th>\n      <td>23</td>\n      <td>45</td>\n      <td>1.75</td>\n    </tr>\n    <tr>\n      <th>14</th>\n      <td>56</td>\n      <td>76</td>\n      <td>1.69</td>\n    </tr>\n    <tr>\n      <th>15</th>\n      <td>67</td>\n      <td>78</td>\n      <td>1.85</td>\n    </tr>\n    <tr>\n      <th>16</th>\n      <td>26</td>\n      <td>65</td>\n      <td>1.21</td>\n    </tr>\n  </tbody>\n</table>\n</div>"
     },
     "execution_count": 37,
     "metadata": {},
     "output_type": "execute_result"
    }
   ],
   "source": [
    "# select rows from 11 to 18\n",
    "data1.iloc[10:17]"
   ]
  },
  {
   "cell_type": "markdown",
   "metadata": {},
   "source": [
    "    "
   ]
  },
  {
   "cell_type": "markdown",
   "metadata": {},
   "source": [
    "## <span style=\"color:darkgreen;\">Selecting the first column</span>"
   ]
  },
  {
   "cell_type": "code",
   "execution_count": 39,
   "outputs": [
    {
     "data": {
      "text/plain": "    Age\n0    45\n1    12\n2    54\n3    26\n4    68\n5    21\n6    10\n7    57\n8    75\n9    32\n10   23\n11   34\n12   55\n13   23\n14   56\n15   67\n16   26\n17   56\n18   67\n19   26\n20   68\n21   56\n22   67",
      "text/html": "<div>\n<style scoped>\n    .dataframe tbody tr th:only-of-type {\n        vertical-align: middle;\n    }\n\n    .dataframe tbody tr th {\n        vertical-align: top;\n    }\n\n    .dataframe thead th {\n        text-align: right;\n    }\n</style>\n<table border=\"1\" class=\"dataframe\">\n  <thead>\n    <tr style=\"text-align: right;\">\n      <th></th>\n      <th>Age</th>\n    </tr>\n  </thead>\n  <tbody>\n    <tr>\n      <th>0</th>\n      <td>45</td>\n    </tr>\n    <tr>\n      <th>1</th>\n      <td>12</td>\n    </tr>\n    <tr>\n      <th>2</th>\n      <td>54</td>\n    </tr>\n    <tr>\n      <th>3</th>\n      <td>26</td>\n    </tr>\n    <tr>\n      <th>4</th>\n      <td>68</td>\n    </tr>\n    <tr>\n      <th>5</th>\n      <td>21</td>\n    </tr>\n    <tr>\n      <th>6</th>\n      <td>10</td>\n    </tr>\n    <tr>\n      <th>7</th>\n      <td>57</td>\n    </tr>\n    <tr>\n      <th>8</th>\n      <td>75</td>\n    </tr>\n    <tr>\n      <th>9</th>\n      <td>32</td>\n    </tr>\n    <tr>\n      <th>10</th>\n      <td>23</td>\n    </tr>\n    <tr>\n      <th>11</th>\n      <td>34</td>\n    </tr>\n    <tr>\n      <th>12</th>\n      <td>55</td>\n    </tr>\n    <tr>\n      <th>13</th>\n      <td>23</td>\n    </tr>\n    <tr>\n      <th>14</th>\n      <td>56</td>\n    </tr>\n    <tr>\n      <th>15</th>\n      <td>67</td>\n    </tr>\n    <tr>\n      <th>16</th>\n      <td>26</td>\n    </tr>\n    <tr>\n      <th>17</th>\n      <td>56</td>\n    </tr>\n    <tr>\n      <th>18</th>\n      <td>67</td>\n    </tr>\n    <tr>\n      <th>19</th>\n      <td>26</td>\n    </tr>\n    <tr>\n      <th>20</th>\n      <td>68</td>\n    </tr>\n    <tr>\n      <th>21</th>\n      <td>56</td>\n    </tr>\n    <tr>\n      <th>22</th>\n      <td>67</td>\n    </tr>\n  </tbody>\n</table>\n</div>"
     },
     "execution_count": 39,
     "metadata": {},
     "output_type": "execute_result"
    }
   ],
   "source": [
    "data1.loc[:, :'Age']"
   ],
   "metadata": {
    "collapsed": false
   }
  },
  {
   "cell_type": "code",
   "execution_count": 28,
   "metadata": {},
   "outputs": [
    {
     "data": {
      "text/plain": "    Age\n0    45\n1    12\n2    54\n3    26\n4    68\n5    21\n6    10\n7    57\n8    75\n9    32\n10   23\n11   34\n12   55\n13   23\n14   56\n15   67\n16   26\n17   56\n18   67\n19   26\n20   68\n21   56\n22   67",
      "text/html": "<div>\n<style scoped>\n    .dataframe tbody tr th:only-of-type {\n        vertical-align: middle;\n    }\n\n    .dataframe tbody tr th {\n        vertical-align: top;\n    }\n\n    .dataframe thead th {\n        text-align: right;\n    }\n</style>\n<table border=\"1\" class=\"dataframe\">\n  <thead>\n    <tr style=\"text-align: right;\">\n      <th></th>\n      <th>Age</th>\n    </tr>\n  </thead>\n  <tbody>\n    <tr>\n      <th>0</th>\n      <td>45</td>\n    </tr>\n    <tr>\n      <th>1</th>\n      <td>12</td>\n    </tr>\n    <tr>\n      <th>2</th>\n      <td>54</td>\n    </tr>\n    <tr>\n      <th>3</th>\n      <td>26</td>\n    </tr>\n    <tr>\n      <th>4</th>\n      <td>68</td>\n    </tr>\n    <tr>\n      <th>5</th>\n      <td>21</td>\n    </tr>\n    <tr>\n      <th>6</th>\n      <td>10</td>\n    </tr>\n    <tr>\n      <th>7</th>\n      <td>57</td>\n    </tr>\n    <tr>\n      <th>8</th>\n      <td>75</td>\n    </tr>\n    <tr>\n      <th>9</th>\n      <td>32</td>\n    </tr>\n    <tr>\n      <th>10</th>\n      <td>23</td>\n    </tr>\n    <tr>\n      <th>11</th>\n      <td>34</td>\n    </tr>\n    <tr>\n      <th>12</th>\n      <td>55</td>\n    </tr>\n    <tr>\n      <th>13</th>\n      <td>23</td>\n    </tr>\n    <tr>\n      <th>14</th>\n      <td>56</td>\n    </tr>\n    <tr>\n      <th>15</th>\n      <td>67</td>\n    </tr>\n    <tr>\n      <th>16</th>\n      <td>26</td>\n    </tr>\n    <tr>\n      <th>17</th>\n      <td>56</td>\n    </tr>\n    <tr>\n      <th>18</th>\n      <td>67</td>\n    </tr>\n    <tr>\n      <th>19</th>\n      <td>26</td>\n    </tr>\n    <tr>\n      <th>20</th>\n      <td>68</td>\n    </tr>\n    <tr>\n      <th>21</th>\n      <td>56</td>\n    </tr>\n    <tr>\n      <th>22</th>\n      <td>67</td>\n    </tr>\n  </tbody>\n</table>\n</div>"
     },
     "execution_count": 28,
     "metadata": {},
     "output_type": "execute_result"
    }
   ],
   "source": [
    "# select 1st column with all rows\n",
    "data1.iloc[:, [0]]"
   ]
  },
  {
   "cell_type": "markdown",
   "metadata": {},
   "source": [
    "To select the last column we use -1, to select the second last column we use -2"
   ]
  },
  {
   "cell_type": "markdown",
   "metadata": {},
   "source": [
    "## <span style=\"color:darkgreen;\">Select the first two columns</span>"
   ]
  },
  {
   "cell_type": "code",
   "execution_count": 31,
   "metadata": {},
   "outputs": [
    {
     "data": {
      "text/plain": "    Age  Weight (in kg)\n0    45              60\n1    12              43\n2    54              78\n3    26              65\n4    68              50\n5    21              43\n6    10              32\n7    57              34\n8    75              23\n9    32              21\n10   23              53\n11   34              65\n12   55              89\n13   23              45\n14   56              76\n15   67              78\n16   26              65\n17   56              74\n18   67              78\n19   26              65\n20   68              50\n21   56              76\n22   67              78",
      "text/html": "<div>\n<style scoped>\n    .dataframe tbody tr th:only-of-type {\n        vertical-align: middle;\n    }\n\n    .dataframe tbody tr th {\n        vertical-align: top;\n    }\n\n    .dataframe thead th {\n        text-align: right;\n    }\n</style>\n<table border=\"1\" class=\"dataframe\">\n  <thead>\n    <tr style=\"text-align: right;\">\n      <th></th>\n      <th>Age</th>\n      <th>Weight (in kg)</th>\n    </tr>\n  </thead>\n  <tbody>\n    <tr>\n      <th>0</th>\n      <td>45</td>\n      <td>60</td>\n    </tr>\n    <tr>\n      <th>1</th>\n      <td>12</td>\n      <td>43</td>\n    </tr>\n    <tr>\n      <th>2</th>\n      <td>54</td>\n      <td>78</td>\n    </tr>\n    <tr>\n      <th>3</th>\n      <td>26</td>\n      <td>65</td>\n    </tr>\n    <tr>\n      <th>4</th>\n      <td>68</td>\n      <td>50</td>\n    </tr>\n    <tr>\n      <th>5</th>\n      <td>21</td>\n      <td>43</td>\n    </tr>\n    <tr>\n      <th>6</th>\n      <td>10</td>\n      <td>32</td>\n    </tr>\n    <tr>\n      <th>7</th>\n      <td>57</td>\n      <td>34</td>\n    </tr>\n    <tr>\n      <th>8</th>\n      <td>75</td>\n      <td>23</td>\n    </tr>\n    <tr>\n      <th>9</th>\n      <td>32</td>\n      <td>21</td>\n    </tr>\n    <tr>\n      <th>10</th>\n      <td>23</td>\n      <td>53</td>\n    </tr>\n    <tr>\n      <th>11</th>\n      <td>34</td>\n      <td>65</td>\n    </tr>\n    <tr>\n      <th>12</th>\n      <td>55</td>\n      <td>89</td>\n    </tr>\n    <tr>\n      <th>13</th>\n      <td>23</td>\n      <td>45</td>\n    </tr>\n    <tr>\n      <th>14</th>\n      <td>56</td>\n      <td>76</td>\n    </tr>\n    <tr>\n      <th>15</th>\n      <td>67</td>\n      <td>78</td>\n    </tr>\n    <tr>\n      <th>16</th>\n      <td>26</td>\n      <td>65</td>\n    </tr>\n    <tr>\n      <th>17</th>\n      <td>56</td>\n      <td>74</td>\n    </tr>\n    <tr>\n      <th>18</th>\n      <td>67</td>\n      <td>78</td>\n    </tr>\n    <tr>\n      <th>19</th>\n      <td>26</td>\n      <td>65</td>\n    </tr>\n    <tr>\n      <th>20</th>\n      <td>68</td>\n      <td>50</td>\n    </tr>\n    <tr>\n      <th>21</th>\n      <td>56</td>\n      <td>76</td>\n    </tr>\n    <tr>\n      <th>22</th>\n      <td>67</td>\n      <td>78</td>\n    </tr>\n  </tbody>\n</table>\n</div>"
     },
     "execution_count": 31,
     "metadata": {},
     "output_type": "execute_result"
    }
   ],
   "source": [
    "# select the first two columns with all rows\n",
    "data1.iloc[: , 0:2]"
   ]
  },
  {
   "cell_type": "markdown",
   "metadata": {},
   "source": [
    "    "
   ]
  },
  {
   "cell_type": "markdown",
   "metadata": {},
   "source": [
    "## <span style=\"color:darkgreen;\">Indexing a dataframe using `.iloc`</span>\n",
    "\n",
    "`DataFrame.iloc[]` is integer position-based, so you have to specify rows and columns by their integer position values (0-based integer position)."
   ]
  },
  {
   "cell_type": "markdown",
   "metadata": {},
   "source": [
    "**Note:** the row names are numbers "
   ]
  },
  {
   "cell_type": "code",
   "execution_count": 40,
   "metadata": {},
   "outputs": [
    {
     "data": {
      "text/plain": "    Age  Weight (in kg)\n0    45              60\n1    12              43\n2    54              78\n3    26              65\n4    68              50\n5    21              43\n6    10              32\n7    57              34\n8    75              23\n9    32              21\n10   23              53\n11   34              65\n12   55              89\n13   23              45\n14   56              76\n15   67              78\n16   26              65\n17   56              74\n18   67              78\n19   26              65\n20   68              50\n21   56              76\n22   67              78",
      "text/html": "<div>\n<style scoped>\n    .dataframe tbody tr th:only-of-type {\n        vertical-align: middle;\n    }\n\n    .dataframe tbody tr th {\n        vertical-align: top;\n    }\n\n    .dataframe thead th {\n        text-align: right;\n    }\n</style>\n<table border=\"1\" class=\"dataframe\">\n  <thead>\n    <tr style=\"text-align: right;\">\n      <th></th>\n      <th>Age</th>\n      <th>Weight (in kg)</th>\n    </tr>\n  </thead>\n  <tbody>\n    <tr>\n      <th>0</th>\n      <td>45</td>\n      <td>60</td>\n    </tr>\n    <tr>\n      <th>1</th>\n      <td>12</td>\n      <td>43</td>\n    </tr>\n    <tr>\n      <th>2</th>\n      <td>54</td>\n      <td>78</td>\n    </tr>\n    <tr>\n      <th>3</th>\n      <td>26</td>\n      <td>65</td>\n    </tr>\n    <tr>\n      <th>4</th>\n      <td>68</td>\n      <td>50</td>\n    </tr>\n    <tr>\n      <th>5</th>\n      <td>21</td>\n      <td>43</td>\n    </tr>\n    <tr>\n      <th>6</th>\n      <td>10</td>\n      <td>32</td>\n    </tr>\n    <tr>\n      <th>7</th>\n      <td>57</td>\n      <td>34</td>\n    </tr>\n    <tr>\n      <th>8</th>\n      <td>75</td>\n      <td>23</td>\n    </tr>\n    <tr>\n      <th>9</th>\n      <td>32</td>\n      <td>21</td>\n    </tr>\n    <tr>\n      <th>10</th>\n      <td>23</td>\n      <td>53</td>\n    </tr>\n    <tr>\n      <th>11</th>\n      <td>34</td>\n      <td>65</td>\n    </tr>\n    <tr>\n      <th>12</th>\n      <td>55</td>\n      <td>89</td>\n    </tr>\n    <tr>\n      <th>13</th>\n      <td>23</td>\n      <td>45</td>\n    </tr>\n    <tr>\n      <th>14</th>\n      <td>56</td>\n      <td>76</td>\n    </tr>\n    <tr>\n      <th>15</th>\n      <td>67</td>\n      <td>78</td>\n    </tr>\n    <tr>\n      <th>16</th>\n      <td>26</td>\n      <td>65</td>\n    </tr>\n    <tr>\n      <th>17</th>\n      <td>56</td>\n      <td>74</td>\n    </tr>\n    <tr>\n      <th>18</th>\n      <td>67</td>\n      <td>78</td>\n    </tr>\n    <tr>\n      <th>19</th>\n      <td>26</td>\n      <td>65</td>\n    </tr>\n    <tr>\n      <th>20</th>\n      <td>68</td>\n      <td>50</td>\n    </tr>\n    <tr>\n      <th>21</th>\n      <td>56</td>\n      <td>76</td>\n    </tr>\n    <tr>\n      <th>22</th>\n      <td>67</td>\n      <td>78</td>\n    </tr>\n  </tbody>\n</table>\n</div>"
     },
     "execution_count": 40,
     "metadata": {},
     "output_type": "execute_result"
    }
   ],
   "source": [
    "# using iloc select 'Age' & 'Weight (in kg)'\n",
    "data1.iloc[:, 0:2]"
   ]
  },
  {
   "cell_type": "markdown",
   "metadata": {},
   "source": [
    "<a id=\"manipulatingDF\"> </a>\n",
    "# 3. Manipulating a Dataframe"
   ]
  },
  {
   "cell_type": "markdown",
   "metadata": {},
   "source": [
    "<table align=\"left\">\n",
    "    <tr>\n",
    "        <td>\n",
    "            <div align=\"left\", style=\"font-size:120%\">\n",
    "                <font color=\"#21618C\">\n",
    "                    <b> CAUTION:<br>\n",
    "                        1. DataFrame[column] works for any column name, but DataFrame.column only works when the column name is a valid Python variable name.<br>\n",
    "                        2. New columns cannot be created with the ` data.BMI ` syntax.\n",
    "                    </b>\n",
    "                </font>\n",
    "            </div>\n",
    "        </td>\n",
    "    </tr>\n",
    "</table>"
   ]
  },
  {
   "cell_type": "markdown",
   "metadata": {},
   "source": [
    "## <span style=\"color:darkgreen;\">Adding a new column to the dataframe</span>"
   ]
  },
  {
   "cell_type": "markdown",
   "metadata": {},
   "source": [
    "columns/variables/features mean the same"
   ]
  },
  {
   "cell_type": "code",
   "execution_count": null,
   "outputs": [],
   "source": [
    "data1[['Age', 'Weight (in kg)']]"
   ],
   "metadata": {
    "collapsed": false
   }
  },
  {
   "cell_type": "markdown",
   "source": [
    "Feature Engineering"
   ],
   "metadata": {
    "collapsed": false
   }
  },
  {
   "cell_type": "code",
   "execution_count": 4,
   "metadata": {},
   "outputs": [
    {
     "data": {
      "text/plain": "   Age  Weight (in kg)  Height (in m)        BMI\n0   45              60           1.35  32.921811\n1   12              43           1.21  29.369579\n2   54              78           1.50  34.666667\n3   26              65           1.21  44.395875\n4   68              50           1.32  28.696051",
      "text/html": "<div>\n<style scoped>\n    .dataframe tbody tr th:only-of-type {\n        vertical-align: middle;\n    }\n\n    .dataframe tbody tr th {\n        vertical-align: top;\n    }\n\n    .dataframe thead th {\n        text-align: right;\n    }\n</style>\n<table border=\"1\" class=\"dataframe\">\n  <thead>\n    <tr style=\"text-align: right;\">\n      <th></th>\n      <th>Age</th>\n      <th>Weight (in kg)</th>\n      <th>Height (in m)</th>\n      <th>BMI</th>\n    </tr>\n  </thead>\n  <tbody>\n    <tr>\n      <th>0</th>\n      <td>45</td>\n      <td>60</td>\n      <td>1.35</td>\n      <td>32.921811</td>\n    </tr>\n    <tr>\n      <th>1</th>\n      <td>12</td>\n      <td>43</td>\n      <td>1.21</td>\n      <td>29.369579</td>\n    </tr>\n    <tr>\n      <th>2</th>\n      <td>54</td>\n      <td>78</td>\n      <td>1.50</td>\n      <td>34.666667</td>\n    </tr>\n    <tr>\n      <th>3</th>\n      <td>26</td>\n      <td>65</td>\n      <td>1.21</td>\n      <td>44.395875</td>\n    </tr>\n    <tr>\n      <th>4</th>\n      <td>68</td>\n      <td>50</td>\n      <td>1.32</td>\n      <td>28.696051</td>\n    </tr>\n  </tbody>\n</table>\n</div>"
     },
     "execution_count": 4,
     "metadata": {},
     "output_type": "execute_result"
    }
   ],
   "source": [
    "# create a new column BMI which is given by weight / H**2\n",
    "data1['BMI'] = data1['Weight (in kg)']/data1['Height (in m)']**2\n",
    "data1.head()"
   ]
  },
  {
   "cell_type": "code",
   "execution_count": 5,
   "metadata": {},
   "outputs": [
    {
     "data": {
      "text/plain": "(23, 4)"
     },
     "execution_count": 5,
     "metadata": {},
     "output_type": "execute_result"
    }
   ],
   "source": [
    "# check the shape of the data\n",
    "data1.shape"
   ]
  },
  {
   "cell_type": "markdown",
   "metadata": {},
   "source": [
    "## <span style=\"color:darkgreen;\">Adding a new row to the dataframe</span>"
   ]
  },
  {
   "cell_type": "code",
   "execution_count": 6,
   "metadata": {},
   "outputs": [
    {
     "data": {
      "text/plain": "     Age  Weight (in kg)  Height (in m)        BMI\n22  67.0            78.0           1.85  22.790358\n23  56.0            76.0           1.69  26.609713",
      "text/html": "<div>\n<style scoped>\n    .dataframe tbody tr th:only-of-type {\n        vertical-align: middle;\n    }\n\n    .dataframe tbody tr th {\n        vertical-align: top;\n    }\n\n    .dataframe thead th {\n        text-align: right;\n    }\n</style>\n<table border=\"1\" class=\"dataframe\">\n  <thead>\n    <tr style=\"text-align: right;\">\n      <th></th>\n      <th>Age</th>\n      <th>Weight (in kg)</th>\n      <th>Height (in m)</th>\n      <th>BMI</th>\n    </tr>\n  </thead>\n  <tbody>\n    <tr>\n      <th>22</th>\n      <td>67.0</td>\n      <td>78.0</td>\n      <td>1.85</td>\n      <td>22.790358</td>\n    </tr>\n    <tr>\n      <th>23</th>\n      <td>56.0</td>\n      <td>76.0</td>\n      <td>1.69</td>\n      <td>26.609713</td>\n    </tr>\n  </tbody>\n</table>\n</div>"
     },
     "execution_count": 6,
     "metadata": {},
     "output_type": "execute_result"
    }
   ],
   "source": [
    "# add a new row to the data with values [56, 76, 1.69, 26.609713] using .loc method\n",
    "data1.loc[23] = [56, 76, 1.69, 26.609713]\n",
    "data1.tail(2)"
   ]
  },
  {
   "cell_type": "markdown",
   "metadata": {},
   "source": [
    "We see that a new row number 23 has be added to the data."
   ]
  },
  {
   "cell_type": "markdown",
   "metadata": {},
   "source": [
    "## <span style=\"color:darkgreen;\">Sorting the dataframe</span>"
   ]
  },
  {
   "cell_type": "code",
   "execution_count": null,
   "metadata": {},
   "outputs": [],
   "source": [
    "pd??"
   ]
  },
  {
   "cell_type": "code",
   "execution_count": 14,
   "metadata": {},
   "outputs": [
    {
     "data": {
      "text/plain": "    Age  Weight (in kg)  Height (in m)        BMI\n8    75              23           1.24  14.958377\n4    68              50           1.32  28.696051\n20   68              50           1.32  28.696051\n22   67              78           1.85  22.790358\n18   67              78           1.85  22.790358\n15   67              78           1.85  22.790358\n7    57              34           1.61  13.116778\n23   56              76           1.69  26.609713\n14   56              76           1.69  26.609713\n21   56              76           1.69  26.609713\n17   56              74           1.69  25.909457\n12   55              89           1.65  32.690542\n2    54              78           1.50  34.666667\n0    45              60           1.35  32.921811\n11   34              65           1.76  20.983988\n9    32              21           1.52   9.089335\n16   26              65           1.21  44.395875\n19   26              65           1.21  44.395875\n3    26              65           1.21  44.395875\n13   23              45           1.75  14.693878\n10   23              53           1.50  23.555556\n5    21              43           1.52  18.611496\n1    12              43           1.21  29.369579\n6    10              32           1.65  11.753903",
      "text/html": "<div>\n<style scoped>\n    .dataframe tbody tr th:only-of-type {\n        vertical-align: middle;\n    }\n\n    .dataframe tbody tr th {\n        vertical-align: top;\n    }\n\n    .dataframe thead th {\n        text-align: right;\n    }\n</style>\n<table border=\"1\" class=\"dataframe\">\n  <thead>\n    <tr style=\"text-align: right;\">\n      <th></th>\n      <th>Age</th>\n      <th>Weight (in kg)</th>\n      <th>Height (in m)</th>\n      <th>BMI</th>\n    </tr>\n  </thead>\n  <tbody>\n    <tr>\n      <th>8</th>\n      <td>75</td>\n      <td>23</td>\n      <td>1.24</td>\n      <td>14.958377</td>\n    </tr>\n    <tr>\n      <th>4</th>\n      <td>68</td>\n      <td>50</td>\n      <td>1.32</td>\n      <td>28.696051</td>\n    </tr>\n    <tr>\n      <th>20</th>\n      <td>68</td>\n      <td>50</td>\n      <td>1.32</td>\n      <td>28.696051</td>\n    </tr>\n    <tr>\n      <th>22</th>\n      <td>67</td>\n      <td>78</td>\n      <td>1.85</td>\n      <td>22.790358</td>\n    </tr>\n    <tr>\n      <th>18</th>\n      <td>67</td>\n      <td>78</td>\n      <td>1.85</td>\n      <td>22.790358</td>\n    </tr>\n    <tr>\n      <th>15</th>\n      <td>67</td>\n      <td>78</td>\n      <td>1.85</td>\n      <td>22.790358</td>\n    </tr>\n    <tr>\n      <th>7</th>\n      <td>57</td>\n      <td>34</td>\n      <td>1.61</td>\n      <td>13.116778</td>\n    </tr>\n    <tr>\n      <th>23</th>\n      <td>56</td>\n      <td>76</td>\n      <td>1.69</td>\n      <td>26.609713</td>\n    </tr>\n    <tr>\n      <th>14</th>\n      <td>56</td>\n      <td>76</td>\n      <td>1.69</td>\n      <td>26.609713</td>\n    </tr>\n    <tr>\n      <th>21</th>\n      <td>56</td>\n      <td>76</td>\n      <td>1.69</td>\n      <td>26.609713</td>\n    </tr>\n    <tr>\n      <th>17</th>\n      <td>56</td>\n      <td>74</td>\n      <td>1.69</td>\n      <td>25.909457</td>\n    </tr>\n    <tr>\n      <th>12</th>\n      <td>55</td>\n      <td>89</td>\n      <td>1.65</td>\n      <td>32.690542</td>\n    </tr>\n    <tr>\n      <th>2</th>\n      <td>54</td>\n      <td>78</td>\n      <td>1.50</td>\n      <td>34.666667</td>\n    </tr>\n    <tr>\n      <th>0</th>\n      <td>45</td>\n      <td>60</td>\n      <td>1.35</td>\n      <td>32.921811</td>\n    </tr>\n    <tr>\n      <th>11</th>\n      <td>34</td>\n      <td>65</td>\n      <td>1.76</td>\n      <td>20.983988</td>\n    </tr>\n    <tr>\n      <th>9</th>\n      <td>32</td>\n      <td>21</td>\n      <td>1.52</td>\n      <td>9.089335</td>\n    </tr>\n    <tr>\n      <th>16</th>\n      <td>26</td>\n      <td>65</td>\n      <td>1.21</td>\n      <td>44.395875</td>\n    </tr>\n    <tr>\n      <th>19</th>\n      <td>26</td>\n      <td>65</td>\n      <td>1.21</td>\n      <td>44.395875</td>\n    </tr>\n    <tr>\n      <th>3</th>\n      <td>26</td>\n      <td>65</td>\n      <td>1.21</td>\n      <td>44.395875</td>\n    </tr>\n    <tr>\n      <th>13</th>\n      <td>23</td>\n      <td>45</td>\n      <td>1.75</td>\n      <td>14.693878</td>\n    </tr>\n    <tr>\n      <th>10</th>\n      <td>23</td>\n      <td>53</td>\n      <td>1.50</td>\n      <td>23.555556</td>\n    </tr>\n    <tr>\n      <th>5</th>\n      <td>21</td>\n      <td>43</td>\n      <td>1.52</td>\n      <td>18.611496</td>\n    </tr>\n    <tr>\n      <th>1</th>\n      <td>12</td>\n      <td>43</td>\n      <td>1.21</td>\n      <td>29.369579</td>\n    </tr>\n    <tr>\n      <th>6</th>\n      <td>10</td>\n      <td>32</td>\n      <td>1.65</td>\n      <td>11.753903</td>\n    </tr>\n  </tbody>\n</table>\n</div>"
     },
     "execution_count": 14,
     "metadata": {},
     "output_type": "execute_result"
    }
   ],
   "source": [
    "# sort the data frame on basis of 'Age' values, by default the values will get sorted in ascending order\n",
    "# Note: 'ascending = False' will sort the data frame in descending order.\n",
    "# data1.sort_values('Age', ascending= True)\n",
    "# inplace argument do it and apply to the same dataframe\n",
    "data1.sort_values('Age', ascending= False, inplace=True)\n",
    "data1"
   ]
  },
  {
   "cell_type": "code",
   "execution_count": 8,
   "outputs": [
    {
     "data": {
      "text/plain": "0     32.92\n1     29.37\n2     34.67\n3     44.40\n4     28.70\n5     18.61\n6     11.75\n7     13.12\n8     14.96\n9      9.09\n10    23.56\n11    20.98\n12    32.69\n13    14.69\n14    26.61\n15    22.79\n16    44.40\n17    25.91\n18    22.79\n19    44.40\n20    28.70\n21    26.61\n22    22.79\n23    26.61\nName: BMI, dtype: float64"
     },
     "execution_count": 8,
     "metadata": {},
     "output_type": "execute_result"
    }
   ],
   "source": [
    "round(data1['BMI'], 2)"
   ],
   "metadata": {
    "collapsed": false
   }
  },
  {
   "cell_type": "code",
   "execution_count": 9,
   "outputs": [],
   "source": [
    "data1['Age'] = data1['Age'].astype(int)"
   ],
   "metadata": {
    "collapsed": false
   }
  },
  {
   "cell_type": "code",
   "execution_count": 10,
   "outputs": [],
   "source": [
    "data1['Weight (in kg)'] = data1['Weight (in kg)'].astype(int)"
   ],
   "metadata": {
    "collapsed": false
   }
  },
  {
   "cell_type": "code",
   "execution_count": 13,
   "outputs": [
    {
     "data": {
      "text/plain": "Age                 int32\nWeight (in kg)      int32\nHeight (in m)     float64\nBMI               float64\ndtype: object"
     },
     "execution_count": 13,
     "metadata": {},
     "output_type": "execute_result"
    }
   ],
   "source": [
    "data1.dtypes"
   ],
   "metadata": {
    "collapsed": false
   }
  },
  {
   "cell_type": "code",
   "execution_count": null,
   "outputs": [],
   "source": [
    "data1.assign(blank = None)"
   ],
   "metadata": {
    "collapsed": false
   }
  },
  {
   "cell_type": "code",
   "execution_count": 17,
   "outputs": [],
   "source": [
    "data1 =data1.reset_index(drop=True)"
   ],
   "metadata": {
    "collapsed": false
   }
  },
  {
   "cell_type": "markdown",
   "metadata": {},
   "source": [
    "## <span style=\"color:darkgreen;\">Droping Rows and Columns</span>"
   ]
  },
  {
   "cell_type": "code",
   "execution_count": 18,
   "metadata": {},
   "outputs": [
    {
     "data": {
      "text/plain": "    Age  Weight (in kg)  Height (in m)        BMI\n0    75              23           1.24  14.958377\n1    68              50           1.32  28.696051\n2    68              50           1.32  28.696051\n3    67              78           1.85  22.790358\n4    67              78           1.85  22.790358\n5    67              78           1.85  22.790358\n6    57              34           1.61  13.116778\n7    56              76           1.69  26.609713\n8    56              76           1.69  26.609713\n9    56              76           1.69  26.609713\n10   56              74           1.69  25.909457\n11   55              89           1.65  32.690542\n12   54              78           1.50  34.666667\n13   45              60           1.35  32.921811\n14   34              65           1.76  20.983988\n15   32              21           1.52   9.089335\n16   26              65           1.21  44.395875\n17   26              65           1.21  44.395875\n18   26              65           1.21  44.395875\n19   23              45           1.75  14.693878\n20   23              53           1.50  23.555556\n21   21              43           1.52  18.611496\n22   12              43           1.21  29.369579\n23   10              32           1.65  11.753903",
      "text/html": "<div>\n<style scoped>\n    .dataframe tbody tr th:only-of-type {\n        vertical-align: middle;\n    }\n\n    .dataframe tbody tr th {\n        vertical-align: top;\n    }\n\n    .dataframe thead th {\n        text-align: right;\n    }\n</style>\n<table border=\"1\" class=\"dataframe\">\n  <thead>\n    <tr style=\"text-align: right;\">\n      <th></th>\n      <th>Age</th>\n      <th>Weight (in kg)</th>\n      <th>Height (in m)</th>\n      <th>BMI</th>\n    </tr>\n  </thead>\n  <tbody>\n    <tr>\n      <th>0</th>\n      <td>75</td>\n      <td>23</td>\n      <td>1.24</td>\n      <td>14.958377</td>\n    </tr>\n    <tr>\n      <th>1</th>\n      <td>68</td>\n      <td>50</td>\n      <td>1.32</td>\n      <td>28.696051</td>\n    </tr>\n    <tr>\n      <th>2</th>\n      <td>68</td>\n      <td>50</td>\n      <td>1.32</td>\n      <td>28.696051</td>\n    </tr>\n    <tr>\n      <th>3</th>\n      <td>67</td>\n      <td>78</td>\n      <td>1.85</td>\n      <td>22.790358</td>\n    </tr>\n    <tr>\n      <th>4</th>\n      <td>67</td>\n      <td>78</td>\n      <td>1.85</td>\n      <td>22.790358</td>\n    </tr>\n    <tr>\n      <th>5</th>\n      <td>67</td>\n      <td>78</td>\n      <td>1.85</td>\n      <td>22.790358</td>\n    </tr>\n    <tr>\n      <th>6</th>\n      <td>57</td>\n      <td>34</td>\n      <td>1.61</td>\n      <td>13.116778</td>\n    </tr>\n    <tr>\n      <th>7</th>\n      <td>56</td>\n      <td>76</td>\n      <td>1.69</td>\n      <td>26.609713</td>\n    </tr>\n    <tr>\n      <th>8</th>\n      <td>56</td>\n      <td>76</td>\n      <td>1.69</td>\n      <td>26.609713</td>\n    </tr>\n    <tr>\n      <th>9</th>\n      <td>56</td>\n      <td>76</td>\n      <td>1.69</td>\n      <td>26.609713</td>\n    </tr>\n    <tr>\n      <th>10</th>\n      <td>56</td>\n      <td>74</td>\n      <td>1.69</td>\n      <td>25.909457</td>\n    </tr>\n    <tr>\n      <th>11</th>\n      <td>55</td>\n      <td>89</td>\n      <td>1.65</td>\n      <td>32.690542</td>\n    </tr>\n    <tr>\n      <th>12</th>\n      <td>54</td>\n      <td>78</td>\n      <td>1.50</td>\n      <td>34.666667</td>\n    </tr>\n    <tr>\n      <th>13</th>\n      <td>45</td>\n      <td>60</td>\n      <td>1.35</td>\n      <td>32.921811</td>\n    </tr>\n    <tr>\n      <th>14</th>\n      <td>34</td>\n      <td>65</td>\n      <td>1.76</td>\n      <td>20.983988</td>\n    </tr>\n    <tr>\n      <th>15</th>\n      <td>32</td>\n      <td>21</td>\n      <td>1.52</td>\n      <td>9.089335</td>\n    </tr>\n    <tr>\n      <th>16</th>\n      <td>26</td>\n      <td>65</td>\n      <td>1.21</td>\n      <td>44.395875</td>\n    </tr>\n    <tr>\n      <th>17</th>\n      <td>26</td>\n      <td>65</td>\n      <td>1.21</td>\n      <td>44.395875</td>\n    </tr>\n    <tr>\n      <th>18</th>\n      <td>26</td>\n      <td>65</td>\n      <td>1.21</td>\n      <td>44.395875</td>\n    </tr>\n    <tr>\n      <th>19</th>\n      <td>23</td>\n      <td>45</td>\n      <td>1.75</td>\n      <td>14.693878</td>\n    </tr>\n    <tr>\n      <th>20</th>\n      <td>23</td>\n      <td>53</td>\n      <td>1.50</td>\n      <td>23.555556</td>\n    </tr>\n    <tr>\n      <th>21</th>\n      <td>21</td>\n      <td>43</td>\n      <td>1.52</td>\n      <td>18.611496</td>\n    </tr>\n    <tr>\n      <th>22</th>\n      <td>12</td>\n      <td>43</td>\n      <td>1.21</td>\n      <td>29.369579</td>\n    </tr>\n    <tr>\n      <th>23</th>\n      <td>10</td>\n      <td>32</td>\n      <td>1.65</td>\n      <td>11.753903</td>\n    </tr>\n  </tbody>\n</table>\n</div>"
     },
     "execution_count": 18,
     "metadata": {},
     "output_type": "execute_result"
    }
   ],
   "source": [
    "# create a copy of the dataframe\n",
    "data3 = data1.copy()\n",
    "data3"
   ]
  },
  {
   "cell_type": "code",
   "execution_count": 33,
   "metadata": {},
   "outputs": [
    {
     "ename": "KeyError",
     "evalue": "\"['BMI'] not found in axis\"",
     "output_type": "error",
     "traceback": [
      "\u001B[1;31m---------------------------------------------------------------------------\u001B[0m",
      "\u001B[1;31mKeyError\u001B[0m                                  Traceback (most recent call last)",
      "\u001B[1;32m~\\AppData\\Local\\Temp\\ipykernel_20208\\1289369930.py\u001B[0m in \u001B[0;36m<module>\u001B[1;34m\u001B[0m\n\u001B[0;32m      2\u001B[0m \u001B[1;31m# axis 1 column, 0 is row, by default its 0 which is a column\u001B[0m\u001B[1;33m\u001B[0m\u001B[1;33m\u001B[0m\u001B[0m\n\u001B[0;32m      3\u001B[0m \u001B[1;31m# data3 =data1.drop('BMI', axis=1)\u001B[0m\u001B[1;33m\u001B[0m\u001B[1;33m\u001B[0m\u001B[0m\n\u001B[1;32m----> 4\u001B[1;33m \u001B[0mdata3\u001B[0m\u001B[1;33m.\u001B[0m\u001B[0mdrop\u001B[0m\u001B[1;33m(\u001B[0m\u001B[1;34m'BMI'\u001B[0m\u001B[1;33m,\u001B[0m \u001B[0maxis\u001B[0m\u001B[1;33m=\u001B[0m\u001B[1;36m1\u001B[0m\u001B[1;33m,\u001B[0m \u001B[0minplace\u001B[0m\u001B[1;33m=\u001B[0m\u001B[1;32mTrue\u001B[0m\u001B[1;33m)\u001B[0m\u001B[1;33m\u001B[0m\u001B[1;33m\u001B[0m\u001B[0m\n\u001B[0m",
      "\u001B[1;32m~\\anaconda3\\lib\\site-packages\\pandas\\util\\_decorators.py\u001B[0m in \u001B[0;36mwrapper\u001B[1;34m(*args, **kwargs)\u001B[0m\n\u001B[0;32m    309\u001B[0m                     \u001B[0mstacklevel\u001B[0m\u001B[1;33m=\u001B[0m\u001B[0mstacklevel\u001B[0m\u001B[1;33m,\u001B[0m\u001B[1;33m\u001B[0m\u001B[1;33m\u001B[0m\u001B[0m\n\u001B[0;32m    310\u001B[0m                 )\n\u001B[1;32m--> 311\u001B[1;33m             \u001B[1;32mreturn\u001B[0m \u001B[0mfunc\u001B[0m\u001B[1;33m(\u001B[0m\u001B[1;33m*\u001B[0m\u001B[0margs\u001B[0m\u001B[1;33m,\u001B[0m \u001B[1;33m**\u001B[0m\u001B[0mkwargs\u001B[0m\u001B[1;33m)\u001B[0m\u001B[1;33m\u001B[0m\u001B[1;33m\u001B[0m\u001B[0m\n\u001B[0m\u001B[0;32m    312\u001B[0m \u001B[1;33m\u001B[0m\u001B[0m\n\u001B[0;32m    313\u001B[0m         \u001B[1;32mreturn\u001B[0m \u001B[0mwrapper\u001B[0m\u001B[1;33m\u001B[0m\u001B[1;33m\u001B[0m\u001B[0m\n",
      "\u001B[1;32m~\\anaconda3\\lib\\site-packages\\pandas\\core\\frame.py\u001B[0m in \u001B[0;36mdrop\u001B[1;34m(self, labels, axis, index, columns, level, inplace, errors)\u001B[0m\n\u001B[0;32m   4955\u001B[0m                 \u001B[0mweight\u001B[0m  \u001B[1;36m1.0\u001B[0m     \u001B[1;36m0.8\u001B[0m\u001B[1;33m\u001B[0m\u001B[1;33m\u001B[0m\u001B[0m\n\u001B[0;32m   4956\u001B[0m         \"\"\"\n\u001B[1;32m-> 4957\u001B[1;33m         return super().drop(\n\u001B[0m\u001B[0;32m   4958\u001B[0m             \u001B[0mlabels\u001B[0m\u001B[1;33m=\u001B[0m\u001B[0mlabels\u001B[0m\u001B[1;33m,\u001B[0m\u001B[1;33m\u001B[0m\u001B[1;33m\u001B[0m\u001B[0m\n\u001B[0;32m   4959\u001B[0m             \u001B[0maxis\u001B[0m\u001B[1;33m=\u001B[0m\u001B[0maxis\u001B[0m\u001B[1;33m,\u001B[0m\u001B[1;33m\u001B[0m\u001B[1;33m\u001B[0m\u001B[0m\n",
      "\u001B[1;32m~\\anaconda3\\lib\\site-packages\\pandas\\core\\generic.py\u001B[0m in \u001B[0;36mdrop\u001B[1;34m(self, labels, axis, index, columns, level, inplace, errors)\u001B[0m\n\u001B[0;32m   4265\u001B[0m         \u001B[1;32mfor\u001B[0m \u001B[0maxis\u001B[0m\u001B[1;33m,\u001B[0m \u001B[0mlabels\u001B[0m \u001B[1;32min\u001B[0m \u001B[0maxes\u001B[0m\u001B[1;33m.\u001B[0m\u001B[0mitems\u001B[0m\u001B[1;33m(\u001B[0m\u001B[1;33m)\u001B[0m\u001B[1;33m:\u001B[0m\u001B[1;33m\u001B[0m\u001B[1;33m\u001B[0m\u001B[0m\n\u001B[0;32m   4266\u001B[0m             \u001B[1;32mif\u001B[0m \u001B[0mlabels\u001B[0m \u001B[1;32mis\u001B[0m \u001B[1;32mnot\u001B[0m \u001B[1;32mNone\u001B[0m\u001B[1;33m:\u001B[0m\u001B[1;33m\u001B[0m\u001B[1;33m\u001B[0m\u001B[0m\n\u001B[1;32m-> 4267\u001B[1;33m                 \u001B[0mobj\u001B[0m \u001B[1;33m=\u001B[0m \u001B[0mobj\u001B[0m\u001B[1;33m.\u001B[0m\u001B[0m_drop_axis\u001B[0m\u001B[1;33m(\u001B[0m\u001B[0mlabels\u001B[0m\u001B[1;33m,\u001B[0m \u001B[0maxis\u001B[0m\u001B[1;33m,\u001B[0m \u001B[0mlevel\u001B[0m\u001B[1;33m=\u001B[0m\u001B[0mlevel\u001B[0m\u001B[1;33m,\u001B[0m \u001B[0merrors\u001B[0m\u001B[1;33m=\u001B[0m\u001B[0merrors\u001B[0m\u001B[1;33m)\u001B[0m\u001B[1;33m\u001B[0m\u001B[1;33m\u001B[0m\u001B[0m\n\u001B[0m\u001B[0;32m   4268\u001B[0m \u001B[1;33m\u001B[0m\u001B[0m\n\u001B[0;32m   4269\u001B[0m         \u001B[1;32mif\u001B[0m \u001B[0minplace\u001B[0m\u001B[1;33m:\u001B[0m\u001B[1;33m\u001B[0m\u001B[1;33m\u001B[0m\u001B[0m\n",
      "\u001B[1;32m~\\anaconda3\\lib\\site-packages\\pandas\\core\\generic.py\u001B[0m in \u001B[0;36m_drop_axis\u001B[1;34m(self, labels, axis, level, errors, consolidate, only_slice)\u001B[0m\n\u001B[0;32m   4309\u001B[0m                 \u001B[0mnew_axis\u001B[0m \u001B[1;33m=\u001B[0m \u001B[0maxis\u001B[0m\u001B[1;33m.\u001B[0m\u001B[0mdrop\u001B[0m\u001B[1;33m(\u001B[0m\u001B[0mlabels\u001B[0m\u001B[1;33m,\u001B[0m \u001B[0mlevel\u001B[0m\u001B[1;33m=\u001B[0m\u001B[0mlevel\u001B[0m\u001B[1;33m,\u001B[0m \u001B[0merrors\u001B[0m\u001B[1;33m=\u001B[0m\u001B[0merrors\u001B[0m\u001B[1;33m)\u001B[0m\u001B[1;33m\u001B[0m\u001B[1;33m\u001B[0m\u001B[0m\n\u001B[0;32m   4310\u001B[0m             \u001B[1;32melse\u001B[0m\u001B[1;33m:\u001B[0m\u001B[1;33m\u001B[0m\u001B[1;33m\u001B[0m\u001B[0m\n\u001B[1;32m-> 4311\u001B[1;33m                 \u001B[0mnew_axis\u001B[0m \u001B[1;33m=\u001B[0m \u001B[0maxis\u001B[0m\u001B[1;33m.\u001B[0m\u001B[0mdrop\u001B[0m\u001B[1;33m(\u001B[0m\u001B[0mlabels\u001B[0m\u001B[1;33m,\u001B[0m \u001B[0merrors\u001B[0m\u001B[1;33m=\u001B[0m\u001B[0merrors\u001B[0m\u001B[1;33m)\u001B[0m\u001B[1;33m\u001B[0m\u001B[1;33m\u001B[0m\u001B[0m\n\u001B[0m\u001B[0;32m   4312\u001B[0m             \u001B[0mindexer\u001B[0m \u001B[1;33m=\u001B[0m \u001B[0maxis\u001B[0m\u001B[1;33m.\u001B[0m\u001B[0mget_indexer\u001B[0m\u001B[1;33m(\u001B[0m\u001B[0mnew_axis\u001B[0m\u001B[1;33m)\u001B[0m\u001B[1;33m\u001B[0m\u001B[1;33m\u001B[0m\u001B[0m\n\u001B[0;32m   4313\u001B[0m \u001B[1;33m\u001B[0m\u001B[0m\n",
      "\u001B[1;32m~\\anaconda3\\lib\\site-packages\\pandas\\core\\indexes\\base.py\u001B[0m in \u001B[0;36mdrop\u001B[1;34m(self, labels, errors)\u001B[0m\n\u001B[0;32m   6659\u001B[0m         \u001B[1;32mif\u001B[0m \u001B[0mmask\u001B[0m\u001B[1;33m.\u001B[0m\u001B[0many\u001B[0m\u001B[1;33m(\u001B[0m\u001B[1;33m)\u001B[0m\u001B[1;33m:\u001B[0m\u001B[1;33m\u001B[0m\u001B[1;33m\u001B[0m\u001B[0m\n\u001B[0;32m   6660\u001B[0m             \u001B[1;32mif\u001B[0m \u001B[0merrors\u001B[0m \u001B[1;33m!=\u001B[0m \u001B[1;34m\"ignore\"\u001B[0m\u001B[1;33m:\u001B[0m\u001B[1;33m\u001B[0m\u001B[1;33m\u001B[0m\u001B[0m\n\u001B[1;32m-> 6661\u001B[1;33m                 \u001B[1;32mraise\u001B[0m \u001B[0mKeyError\u001B[0m\u001B[1;33m(\u001B[0m\u001B[1;34mf\"{list(labels[mask])} not found in axis\"\u001B[0m\u001B[1;33m)\u001B[0m\u001B[1;33m\u001B[0m\u001B[1;33m\u001B[0m\u001B[0m\n\u001B[0m\u001B[0;32m   6662\u001B[0m             \u001B[0mindexer\u001B[0m \u001B[1;33m=\u001B[0m \u001B[0mindexer\u001B[0m\u001B[1;33m[\u001B[0m\u001B[1;33m~\u001B[0m\u001B[0mmask\u001B[0m\u001B[1;33m]\u001B[0m\u001B[1;33m\u001B[0m\u001B[1;33m\u001B[0m\u001B[0m\n\u001B[0;32m   6663\u001B[0m         \u001B[1;32mreturn\u001B[0m \u001B[0mself\u001B[0m\u001B[1;33m.\u001B[0m\u001B[0mdelete\u001B[0m\u001B[1;33m(\u001B[0m\u001B[0mindexer\u001B[0m\u001B[1;33m)\u001B[0m\u001B[1;33m\u001B[0m\u001B[1;33m\u001B[0m\u001B[0m\n",
      "\u001B[1;31mKeyError\u001B[0m: \"['BMI'] not found in axis\""
     ]
    }
   ],
   "source": [
    "# drop the BMI column\n",
    "# axis 1 column, 0 is row, by default its 0 which is a column\n",
    "# data3 =data1.drop('BMI', axis=1)\n",
    "data3.drop('BMI', axis=1, inplace=True)"
   ]
  },
  {
   "cell_type": "code",
   "execution_count": 20,
   "outputs": [
    {
     "data": {
      "text/plain": "    Age  Weight (in kg)  Height (in m)        BMI\n0    75              23           1.24  14.958377\n1    68              50           1.32  28.696051\n2    68              50           1.32  28.696051\n3    67              78           1.85  22.790358\n4    67              78           1.85  22.790358\n5    67              78           1.85  22.790358\n6    57              34           1.61  13.116778\n7    56              76           1.69  26.609713\n8    56              76           1.69  26.609713\n9    56              76           1.69  26.609713\n10   56              74           1.69  25.909457\n11   55              89           1.65  32.690542\n12   54              78           1.50  34.666667\n13   45              60           1.35  32.921811\n14   34              65           1.76  20.983988\n15   32              21           1.52   9.089335\n16   26              65           1.21  44.395875\n17   26              65           1.21  44.395875\n18   26              65           1.21  44.395875\n19   23              45           1.75  14.693878\n20   23              53           1.50  23.555556\n21   21              43           1.52  18.611496\n22   12              43           1.21  29.369579\n23   10              32           1.65  11.753903",
      "text/html": "<div>\n<style scoped>\n    .dataframe tbody tr th:only-of-type {\n        vertical-align: middle;\n    }\n\n    .dataframe tbody tr th {\n        vertical-align: top;\n    }\n\n    .dataframe thead th {\n        text-align: right;\n    }\n</style>\n<table border=\"1\" class=\"dataframe\">\n  <thead>\n    <tr style=\"text-align: right;\">\n      <th></th>\n      <th>Age</th>\n      <th>Weight (in kg)</th>\n      <th>Height (in m)</th>\n      <th>BMI</th>\n    </tr>\n  </thead>\n  <tbody>\n    <tr>\n      <th>0</th>\n      <td>75</td>\n      <td>23</td>\n      <td>1.24</td>\n      <td>14.958377</td>\n    </tr>\n    <tr>\n      <th>1</th>\n      <td>68</td>\n      <td>50</td>\n      <td>1.32</td>\n      <td>28.696051</td>\n    </tr>\n    <tr>\n      <th>2</th>\n      <td>68</td>\n      <td>50</td>\n      <td>1.32</td>\n      <td>28.696051</td>\n    </tr>\n    <tr>\n      <th>3</th>\n      <td>67</td>\n      <td>78</td>\n      <td>1.85</td>\n      <td>22.790358</td>\n    </tr>\n    <tr>\n      <th>4</th>\n      <td>67</td>\n      <td>78</td>\n      <td>1.85</td>\n      <td>22.790358</td>\n    </tr>\n    <tr>\n      <th>5</th>\n      <td>67</td>\n      <td>78</td>\n      <td>1.85</td>\n      <td>22.790358</td>\n    </tr>\n    <tr>\n      <th>6</th>\n      <td>57</td>\n      <td>34</td>\n      <td>1.61</td>\n      <td>13.116778</td>\n    </tr>\n    <tr>\n      <th>7</th>\n      <td>56</td>\n      <td>76</td>\n      <td>1.69</td>\n      <td>26.609713</td>\n    </tr>\n    <tr>\n      <th>8</th>\n      <td>56</td>\n      <td>76</td>\n      <td>1.69</td>\n      <td>26.609713</td>\n    </tr>\n    <tr>\n      <th>9</th>\n      <td>56</td>\n      <td>76</td>\n      <td>1.69</td>\n      <td>26.609713</td>\n    </tr>\n    <tr>\n      <th>10</th>\n      <td>56</td>\n      <td>74</td>\n      <td>1.69</td>\n      <td>25.909457</td>\n    </tr>\n    <tr>\n      <th>11</th>\n      <td>55</td>\n      <td>89</td>\n      <td>1.65</td>\n      <td>32.690542</td>\n    </tr>\n    <tr>\n      <th>12</th>\n      <td>54</td>\n      <td>78</td>\n      <td>1.50</td>\n      <td>34.666667</td>\n    </tr>\n    <tr>\n      <th>13</th>\n      <td>45</td>\n      <td>60</td>\n      <td>1.35</td>\n      <td>32.921811</td>\n    </tr>\n    <tr>\n      <th>14</th>\n      <td>34</td>\n      <td>65</td>\n      <td>1.76</td>\n      <td>20.983988</td>\n    </tr>\n    <tr>\n      <th>15</th>\n      <td>32</td>\n      <td>21</td>\n      <td>1.52</td>\n      <td>9.089335</td>\n    </tr>\n    <tr>\n      <th>16</th>\n      <td>26</td>\n      <td>65</td>\n      <td>1.21</td>\n      <td>44.395875</td>\n    </tr>\n    <tr>\n      <th>17</th>\n      <td>26</td>\n      <td>65</td>\n      <td>1.21</td>\n      <td>44.395875</td>\n    </tr>\n    <tr>\n      <th>18</th>\n      <td>26</td>\n      <td>65</td>\n      <td>1.21</td>\n      <td>44.395875</td>\n    </tr>\n    <tr>\n      <th>19</th>\n      <td>23</td>\n      <td>45</td>\n      <td>1.75</td>\n      <td>14.693878</td>\n    </tr>\n    <tr>\n      <th>20</th>\n      <td>23</td>\n      <td>53</td>\n      <td>1.50</td>\n      <td>23.555556</td>\n    </tr>\n    <tr>\n      <th>21</th>\n      <td>21</td>\n      <td>43</td>\n      <td>1.52</td>\n      <td>18.611496</td>\n    </tr>\n    <tr>\n      <th>22</th>\n      <td>12</td>\n      <td>43</td>\n      <td>1.21</td>\n      <td>29.369579</td>\n    </tr>\n    <tr>\n      <th>23</th>\n      <td>10</td>\n      <td>32</td>\n      <td>1.65</td>\n      <td>11.753903</td>\n    </tr>\n  </tbody>\n</table>\n</div>"
     },
     "execution_count": 20,
     "metadata": {},
     "output_type": "execute_result"
    }
   ],
   "source": [
    "data1"
   ],
   "metadata": {
    "collapsed": false
   }
  },
  {
   "cell_type": "code",
   "execution_count": 31,
   "outputs": [
    {
     "data": {
      "text/plain": "    Age  Weight (in kg)  Height (in m)\n0    75              23           1.24\n1    68              50           1.32\n2    68              50           1.32\n3    67              78           1.85\n4    67              78           1.85\n5    67              78           1.85\n6    57              34           1.61\n7    56              76           1.69\n8    56              76           1.69\n9    56              76           1.69\n10   56              74           1.69\n11   55              89           1.65\n12   54              78           1.50\n13   45              60           1.35\n14   34              65           1.76\n15   32              21           1.52\n16   26              65           1.21\n17   26              65           1.21\n18   26              65           1.21\n19   23              45           1.75\n20   23              53           1.50\n21   21              43           1.52\n22   12              43           1.21",
      "text/html": "<div>\n<style scoped>\n    .dataframe tbody tr th:only-of-type {\n        vertical-align: middle;\n    }\n\n    .dataframe tbody tr th {\n        vertical-align: top;\n    }\n\n    .dataframe thead th {\n        text-align: right;\n    }\n</style>\n<table border=\"1\" class=\"dataframe\">\n  <thead>\n    <tr style=\"text-align: right;\">\n      <th></th>\n      <th>Age</th>\n      <th>Weight (in kg)</th>\n      <th>Height (in m)</th>\n    </tr>\n  </thead>\n  <tbody>\n    <tr>\n      <th>0</th>\n      <td>75</td>\n      <td>23</td>\n      <td>1.24</td>\n    </tr>\n    <tr>\n      <th>1</th>\n      <td>68</td>\n      <td>50</td>\n      <td>1.32</td>\n    </tr>\n    <tr>\n      <th>2</th>\n      <td>68</td>\n      <td>50</td>\n      <td>1.32</td>\n    </tr>\n    <tr>\n      <th>3</th>\n      <td>67</td>\n      <td>78</td>\n      <td>1.85</td>\n    </tr>\n    <tr>\n      <th>4</th>\n      <td>67</td>\n      <td>78</td>\n      <td>1.85</td>\n    </tr>\n    <tr>\n      <th>5</th>\n      <td>67</td>\n      <td>78</td>\n      <td>1.85</td>\n    </tr>\n    <tr>\n      <th>6</th>\n      <td>57</td>\n      <td>34</td>\n      <td>1.61</td>\n    </tr>\n    <tr>\n      <th>7</th>\n      <td>56</td>\n      <td>76</td>\n      <td>1.69</td>\n    </tr>\n    <tr>\n      <th>8</th>\n      <td>56</td>\n      <td>76</td>\n      <td>1.69</td>\n    </tr>\n    <tr>\n      <th>9</th>\n      <td>56</td>\n      <td>76</td>\n      <td>1.69</td>\n    </tr>\n    <tr>\n      <th>10</th>\n      <td>56</td>\n      <td>74</td>\n      <td>1.69</td>\n    </tr>\n    <tr>\n      <th>11</th>\n      <td>55</td>\n      <td>89</td>\n      <td>1.65</td>\n    </tr>\n    <tr>\n      <th>12</th>\n      <td>54</td>\n      <td>78</td>\n      <td>1.50</td>\n    </tr>\n    <tr>\n      <th>13</th>\n      <td>45</td>\n      <td>60</td>\n      <td>1.35</td>\n    </tr>\n    <tr>\n      <th>14</th>\n      <td>34</td>\n      <td>65</td>\n      <td>1.76</td>\n    </tr>\n    <tr>\n      <th>15</th>\n      <td>32</td>\n      <td>21</td>\n      <td>1.52</td>\n    </tr>\n    <tr>\n      <th>16</th>\n      <td>26</td>\n      <td>65</td>\n      <td>1.21</td>\n    </tr>\n    <tr>\n      <th>17</th>\n      <td>26</td>\n      <td>65</td>\n      <td>1.21</td>\n    </tr>\n    <tr>\n      <th>18</th>\n      <td>26</td>\n      <td>65</td>\n      <td>1.21</td>\n    </tr>\n    <tr>\n      <th>19</th>\n      <td>23</td>\n      <td>45</td>\n      <td>1.75</td>\n    </tr>\n    <tr>\n      <th>20</th>\n      <td>23</td>\n      <td>53</td>\n      <td>1.50</td>\n    </tr>\n    <tr>\n      <th>21</th>\n      <td>21</td>\n      <td>43</td>\n      <td>1.52</td>\n    </tr>\n    <tr>\n      <th>22</th>\n      <td>12</td>\n      <td>43</td>\n      <td>1.21</td>\n    </tr>\n  </tbody>\n</table>\n</div>"
     },
     "execution_count": 31,
     "metadata": {},
     "output_type": "execute_result"
    }
   ],
   "source": [
    "data3"
   ],
   "metadata": {
    "collapsed": false
   }
  },
  {
   "cell_type": "code",
   "execution_count": 28,
   "metadata": {},
   "outputs": [
    {
     "data": {
      "text/plain": "    Age  Weight (in kg)  Height (in m)        BMI\n0    75              23           1.24  14.958377\n1    68              50           1.32  28.696051\n2    68              50           1.32  28.696051\n3    67              78           1.85  22.790358\n4    67              78           1.85  22.790358\n5    67              78           1.85  22.790358\n6    57              34           1.61  13.116778\n7    56              76           1.69  26.609713\n8    56              76           1.69  26.609713\n9    56              76           1.69  26.609713\n10   56              74           1.69  25.909457\n11   55              89           1.65  32.690542\n12   54              78           1.50  34.666667\n13   45              60           1.35  32.921811\n14   34              65           1.76  20.983988\n15   32              21           1.52   9.089335\n16   26              65           1.21  44.395875\n17   26              65           1.21  44.395875\n18   26              65           1.21  44.395875\n19   23              45           1.75  14.693878\n20   23              53           1.50  23.555556\n21   21              43           1.52  18.611496\n22   12              43           1.21  29.369579",
      "text/html": "<div>\n<style scoped>\n    .dataframe tbody tr th:only-of-type {\n        vertical-align: middle;\n    }\n\n    .dataframe tbody tr th {\n        vertical-align: top;\n    }\n\n    .dataframe thead th {\n        text-align: right;\n    }\n</style>\n<table border=\"1\" class=\"dataframe\">\n  <thead>\n    <tr style=\"text-align: right;\">\n      <th></th>\n      <th>Age</th>\n      <th>Weight (in kg)</th>\n      <th>Height (in m)</th>\n      <th>BMI</th>\n    </tr>\n  </thead>\n  <tbody>\n    <tr>\n      <th>0</th>\n      <td>75</td>\n      <td>23</td>\n      <td>1.24</td>\n      <td>14.958377</td>\n    </tr>\n    <tr>\n      <th>1</th>\n      <td>68</td>\n      <td>50</td>\n      <td>1.32</td>\n      <td>28.696051</td>\n    </tr>\n    <tr>\n      <th>2</th>\n      <td>68</td>\n      <td>50</td>\n      <td>1.32</td>\n      <td>28.696051</td>\n    </tr>\n    <tr>\n      <th>3</th>\n      <td>67</td>\n      <td>78</td>\n      <td>1.85</td>\n      <td>22.790358</td>\n    </tr>\n    <tr>\n      <th>4</th>\n      <td>67</td>\n      <td>78</td>\n      <td>1.85</td>\n      <td>22.790358</td>\n    </tr>\n    <tr>\n      <th>5</th>\n      <td>67</td>\n      <td>78</td>\n      <td>1.85</td>\n      <td>22.790358</td>\n    </tr>\n    <tr>\n      <th>6</th>\n      <td>57</td>\n      <td>34</td>\n      <td>1.61</td>\n      <td>13.116778</td>\n    </tr>\n    <tr>\n      <th>7</th>\n      <td>56</td>\n      <td>76</td>\n      <td>1.69</td>\n      <td>26.609713</td>\n    </tr>\n    <tr>\n      <th>8</th>\n      <td>56</td>\n      <td>76</td>\n      <td>1.69</td>\n      <td>26.609713</td>\n    </tr>\n    <tr>\n      <th>9</th>\n      <td>56</td>\n      <td>76</td>\n      <td>1.69</td>\n      <td>26.609713</td>\n    </tr>\n    <tr>\n      <th>10</th>\n      <td>56</td>\n      <td>74</td>\n      <td>1.69</td>\n      <td>25.909457</td>\n    </tr>\n    <tr>\n      <th>11</th>\n      <td>55</td>\n      <td>89</td>\n      <td>1.65</td>\n      <td>32.690542</td>\n    </tr>\n    <tr>\n      <th>12</th>\n      <td>54</td>\n      <td>78</td>\n      <td>1.50</td>\n      <td>34.666667</td>\n    </tr>\n    <tr>\n      <th>13</th>\n      <td>45</td>\n      <td>60</td>\n      <td>1.35</td>\n      <td>32.921811</td>\n    </tr>\n    <tr>\n      <th>14</th>\n      <td>34</td>\n      <td>65</td>\n      <td>1.76</td>\n      <td>20.983988</td>\n    </tr>\n    <tr>\n      <th>15</th>\n      <td>32</td>\n      <td>21</td>\n      <td>1.52</td>\n      <td>9.089335</td>\n    </tr>\n    <tr>\n      <th>16</th>\n      <td>26</td>\n      <td>65</td>\n      <td>1.21</td>\n      <td>44.395875</td>\n    </tr>\n    <tr>\n      <th>17</th>\n      <td>26</td>\n      <td>65</td>\n      <td>1.21</td>\n      <td>44.395875</td>\n    </tr>\n    <tr>\n      <th>18</th>\n      <td>26</td>\n      <td>65</td>\n      <td>1.21</td>\n      <td>44.395875</td>\n    </tr>\n    <tr>\n      <th>19</th>\n      <td>23</td>\n      <td>45</td>\n      <td>1.75</td>\n      <td>14.693878</td>\n    </tr>\n    <tr>\n      <th>20</th>\n      <td>23</td>\n      <td>53</td>\n      <td>1.50</td>\n      <td>23.555556</td>\n    </tr>\n    <tr>\n      <th>21</th>\n      <td>21</td>\n      <td>43</td>\n      <td>1.52</td>\n      <td>18.611496</td>\n    </tr>\n    <tr>\n      <th>22</th>\n      <td>12</td>\n      <td>43</td>\n      <td>1.21</td>\n      <td>29.369579</td>\n    </tr>\n  </tbody>\n</table>\n</div>"
     },
     "execution_count": 28,
     "metadata": {},
     "output_type": "execute_result"
    }
   ],
   "source": [
    "# dropping the 23rd row\n",
    "data3 = data1.drop(23)"
   ]
  },
  {
   "cell_type": "code",
   "execution_count": 32,
   "outputs": [
    {
     "ename": "KeyError",
     "evalue": "'[23] not found in axis'",
     "output_type": "error",
     "traceback": [
      "\u001B[1;31m---------------------------------------------------------------------------\u001B[0m",
      "\u001B[1;31mKeyError\u001B[0m                                  Traceback (most recent call last)",
      "\u001B[1;32m~\\AppData\\Local\\Temp\\ipykernel_20208\\138198044.py\u001B[0m in \u001B[0;36m<module>\u001B[1;34m\u001B[0m\n\u001B[1;32m----> 1\u001B[1;33m \u001B[0mdata3\u001B[0m\u001B[1;33m.\u001B[0m\u001B[0mdrop\u001B[0m\u001B[1;33m(\u001B[0m\u001B[1;36m23\u001B[0m\u001B[1;33m,\u001B[0m \u001B[0minplace\u001B[0m\u001B[1;33m=\u001B[0m\u001B[1;32mTrue\u001B[0m\u001B[1;33m)\u001B[0m\u001B[1;33m\u001B[0m\u001B[1;33m\u001B[0m\u001B[0m\n\u001B[0m",
      "\u001B[1;32m~\\anaconda3\\lib\\site-packages\\pandas\\util\\_decorators.py\u001B[0m in \u001B[0;36mwrapper\u001B[1;34m(*args, **kwargs)\u001B[0m\n\u001B[0;32m    309\u001B[0m                     \u001B[0mstacklevel\u001B[0m\u001B[1;33m=\u001B[0m\u001B[0mstacklevel\u001B[0m\u001B[1;33m,\u001B[0m\u001B[1;33m\u001B[0m\u001B[1;33m\u001B[0m\u001B[0m\n\u001B[0;32m    310\u001B[0m                 )\n\u001B[1;32m--> 311\u001B[1;33m             \u001B[1;32mreturn\u001B[0m \u001B[0mfunc\u001B[0m\u001B[1;33m(\u001B[0m\u001B[1;33m*\u001B[0m\u001B[0margs\u001B[0m\u001B[1;33m,\u001B[0m \u001B[1;33m**\u001B[0m\u001B[0mkwargs\u001B[0m\u001B[1;33m)\u001B[0m\u001B[1;33m\u001B[0m\u001B[1;33m\u001B[0m\u001B[0m\n\u001B[0m\u001B[0;32m    312\u001B[0m \u001B[1;33m\u001B[0m\u001B[0m\n\u001B[0;32m    313\u001B[0m         \u001B[1;32mreturn\u001B[0m \u001B[0mwrapper\u001B[0m\u001B[1;33m\u001B[0m\u001B[1;33m\u001B[0m\u001B[0m\n",
      "\u001B[1;32m~\\anaconda3\\lib\\site-packages\\pandas\\core\\frame.py\u001B[0m in \u001B[0;36mdrop\u001B[1;34m(self, labels, axis, index, columns, level, inplace, errors)\u001B[0m\n\u001B[0;32m   4955\u001B[0m                 \u001B[0mweight\u001B[0m  \u001B[1;36m1.0\u001B[0m     \u001B[1;36m0.8\u001B[0m\u001B[1;33m\u001B[0m\u001B[1;33m\u001B[0m\u001B[0m\n\u001B[0;32m   4956\u001B[0m         \"\"\"\n\u001B[1;32m-> 4957\u001B[1;33m         return super().drop(\n\u001B[0m\u001B[0;32m   4958\u001B[0m             \u001B[0mlabels\u001B[0m\u001B[1;33m=\u001B[0m\u001B[0mlabels\u001B[0m\u001B[1;33m,\u001B[0m\u001B[1;33m\u001B[0m\u001B[1;33m\u001B[0m\u001B[0m\n\u001B[0;32m   4959\u001B[0m             \u001B[0maxis\u001B[0m\u001B[1;33m=\u001B[0m\u001B[0maxis\u001B[0m\u001B[1;33m,\u001B[0m\u001B[1;33m\u001B[0m\u001B[1;33m\u001B[0m\u001B[0m\n",
      "\u001B[1;32m~\\anaconda3\\lib\\site-packages\\pandas\\core\\generic.py\u001B[0m in \u001B[0;36mdrop\u001B[1;34m(self, labels, axis, index, columns, level, inplace, errors)\u001B[0m\n\u001B[0;32m   4265\u001B[0m         \u001B[1;32mfor\u001B[0m \u001B[0maxis\u001B[0m\u001B[1;33m,\u001B[0m \u001B[0mlabels\u001B[0m \u001B[1;32min\u001B[0m \u001B[0maxes\u001B[0m\u001B[1;33m.\u001B[0m\u001B[0mitems\u001B[0m\u001B[1;33m(\u001B[0m\u001B[1;33m)\u001B[0m\u001B[1;33m:\u001B[0m\u001B[1;33m\u001B[0m\u001B[1;33m\u001B[0m\u001B[0m\n\u001B[0;32m   4266\u001B[0m             \u001B[1;32mif\u001B[0m \u001B[0mlabels\u001B[0m \u001B[1;32mis\u001B[0m \u001B[1;32mnot\u001B[0m \u001B[1;32mNone\u001B[0m\u001B[1;33m:\u001B[0m\u001B[1;33m\u001B[0m\u001B[1;33m\u001B[0m\u001B[0m\n\u001B[1;32m-> 4267\u001B[1;33m                 \u001B[0mobj\u001B[0m \u001B[1;33m=\u001B[0m \u001B[0mobj\u001B[0m\u001B[1;33m.\u001B[0m\u001B[0m_drop_axis\u001B[0m\u001B[1;33m(\u001B[0m\u001B[0mlabels\u001B[0m\u001B[1;33m,\u001B[0m \u001B[0maxis\u001B[0m\u001B[1;33m,\u001B[0m \u001B[0mlevel\u001B[0m\u001B[1;33m=\u001B[0m\u001B[0mlevel\u001B[0m\u001B[1;33m,\u001B[0m \u001B[0merrors\u001B[0m\u001B[1;33m=\u001B[0m\u001B[0merrors\u001B[0m\u001B[1;33m)\u001B[0m\u001B[1;33m\u001B[0m\u001B[1;33m\u001B[0m\u001B[0m\n\u001B[0m\u001B[0;32m   4268\u001B[0m \u001B[1;33m\u001B[0m\u001B[0m\n\u001B[0;32m   4269\u001B[0m         \u001B[1;32mif\u001B[0m \u001B[0minplace\u001B[0m\u001B[1;33m:\u001B[0m\u001B[1;33m\u001B[0m\u001B[1;33m\u001B[0m\u001B[0m\n",
      "\u001B[1;32m~\\anaconda3\\lib\\site-packages\\pandas\\core\\generic.py\u001B[0m in \u001B[0;36m_drop_axis\u001B[1;34m(self, labels, axis, level, errors, consolidate, only_slice)\u001B[0m\n\u001B[0;32m   4309\u001B[0m                 \u001B[0mnew_axis\u001B[0m \u001B[1;33m=\u001B[0m \u001B[0maxis\u001B[0m\u001B[1;33m.\u001B[0m\u001B[0mdrop\u001B[0m\u001B[1;33m(\u001B[0m\u001B[0mlabels\u001B[0m\u001B[1;33m,\u001B[0m \u001B[0mlevel\u001B[0m\u001B[1;33m=\u001B[0m\u001B[0mlevel\u001B[0m\u001B[1;33m,\u001B[0m \u001B[0merrors\u001B[0m\u001B[1;33m=\u001B[0m\u001B[0merrors\u001B[0m\u001B[1;33m)\u001B[0m\u001B[1;33m\u001B[0m\u001B[1;33m\u001B[0m\u001B[0m\n\u001B[0;32m   4310\u001B[0m             \u001B[1;32melse\u001B[0m\u001B[1;33m:\u001B[0m\u001B[1;33m\u001B[0m\u001B[1;33m\u001B[0m\u001B[0m\n\u001B[1;32m-> 4311\u001B[1;33m                 \u001B[0mnew_axis\u001B[0m \u001B[1;33m=\u001B[0m \u001B[0maxis\u001B[0m\u001B[1;33m.\u001B[0m\u001B[0mdrop\u001B[0m\u001B[1;33m(\u001B[0m\u001B[0mlabels\u001B[0m\u001B[1;33m,\u001B[0m \u001B[0merrors\u001B[0m\u001B[1;33m=\u001B[0m\u001B[0merrors\u001B[0m\u001B[1;33m)\u001B[0m\u001B[1;33m\u001B[0m\u001B[1;33m\u001B[0m\u001B[0m\n\u001B[0m\u001B[0;32m   4312\u001B[0m             \u001B[0mindexer\u001B[0m \u001B[1;33m=\u001B[0m \u001B[0maxis\u001B[0m\u001B[1;33m.\u001B[0m\u001B[0mget_indexer\u001B[0m\u001B[1;33m(\u001B[0m\u001B[0mnew_axis\u001B[0m\u001B[1;33m)\u001B[0m\u001B[1;33m\u001B[0m\u001B[1;33m\u001B[0m\u001B[0m\n\u001B[0;32m   4313\u001B[0m \u001B[1;33m\u001B[0m\u001B[0m\n",
      "\u001B[1;32m~\\anaconda3\\lib\\site-packages\\pandas\\core\\indexes\\base.py\u001B[0m in \u001B[0;36mdrop\u001B[1;34m(self, labels, errors)\u001B[0m\n\u001B[0;32m   6659\u001B[0m         \u001B[1;32mif\u001B[0m \u001B[0mmask\u001B[0m\u001B[1;33m.\u001B[0m\u001B[0many\u001B[0m\u001B[1;33m(\u001B[0m\u001B[1;33m)\u001B[0m\u001B[1;33m:\u001B[0m\u001B[1;33m\u001B[0m\u001B[1;33m\u001B[0m\u001B[0m\n\u001B[0;32m   6660\u001B[0m             \u001B[1;32mif\u001B[0m \u001B[0merrors\u001B[0m \u001B[1;33m!=\u001B[0m \u001B[1;34m\"ignore\"\u001B[0m\u001B[1;33m:\u001B[0m\u001B[1;33m\u001B[0m\u001B[1;33m\u001B[0m\u001B[0m\n\u001B[1;32m-> 6661\u001B[1;33m                 \u001B[1;32mraise\u001B[0m \u001B[0mKeyError\u001B[0m\u001B[1;33m(\u001B[0m\u001B[1;34mf\"{list(labels[mask])} not found in axis\"\u001B[0m\u001B[1;33m)\u001B[0m\u001B[1;33m\u001B[0m\u001B[1;33m\u001B[0m\u001B[0m\n\u001B[0m\u001B[0;32m   6662\u001B[0m             \u001B[0mindexer\u001B[0m \u001B[1;33m=\u001B[0m \u001B[0mindexer\u001B[0m\u001B[1;33m[\u001B[0m\u001B[1;33m~\u001B[0m\u001B[0mmask\u001B[0m\u001B[1;33m]\u001B[0m\u001B[1;33m\u001B[0m\u001B[1;33m\u001B[0m\u001B[0m\n\u001B[0;32m   6663\u001B[0m         \u001B[1;32mreturn\u001B[0m \u001B[0mself\u001B[0m\u001B[1;33m.\u001B[0m\u001B[0mdelete\u001B[0m\u001B[1;33m(\u001B[0m\u001B[0mindexer\u001B[0m\u001B[1;33m)\u001B[0m\u001B[1;33m\u001B[0m\u001B[1;33m\u001B[0m\u001B[0m\n",
      "\u001B[1;31mKeyError\u001B[0m: '[23] not found in axis'"
     ]
    }
   ],
   "source": [
    "data3.drop(23, inplace=True)"
   ],
   "metadata": {
    "collapsed": false
   }
  },
  {
   "cell_type": "code",
   "execution_count": 34,
   "outputs": [
    {
     "data": {
      "text/plain": "    Age  Weight (in kg)  Height (in m)\n0    75              23           1.24\n1    68              50           1.32\n2    68              50           1.32\n3    67              78           1.85\n4    67              78           1.85\n5    67              78           1.85\n6    57              34           1.61\n7    56              76           1.69\n8    56              76           1.69\n9    56              76           1.69\n10   56              74           1.69\n11   55              89           1.65\n12   54              78           1.50\n13   45              60           1.35\n14   34              65           1.76\n15   32              21           1.52\n16   26              65           1.21\n17   26              65           1.21\n18   26              65           1.21\n19   23              45           1.75\n20   23              53           1.50\n21   21              43           1.52\n22   12              43           1.21",
      "text/html": "<div>\n<style scoped>\n    .dataframe tbody tr th:only-of-type {\n        vertical-align: middle;\n    }\n\n    .dataframe tbody tr th {\n        vertical-align: top;\n    }\n\n    .dataframe thead th {\n        text-align: right;\n    }\n</style>\n<table border=\"1\" class=\"dataframe\">\n  <thead>\n    <tr style=\"text-align: right;\">\n      <th></th>\n      <th>Age</th>\n      <th>Weight (in kg)</th>\n      <th>Height (in m)</th>\n    </tr>\n  </thead>\n  <tbody>\n    <tr>\n      <th>0</th>\n      <td>75</td>\n      <td>23</td>\n      <td>1.24</td>\n    </tr>\n    <tr>\n      <th>1</th>\n      <td>68</td>\n      <td>50</td>\n      <td>1.32</td>\n    </tr>\n    <tr>\n      <th>2</th>\n      <td>68</td>\n      <td>50</td>\n      <td>1.32</td>\n    </tr>\n    <tr>\n      <th>3</th>\n      <td>67</td>\n      <td>78</td>\n      <td>1.85</td>\n    </tr>\n    <tr>\n      <th>4</th>\n      <td>67</td>\n      <td>78</td>\n      <td>1.85</td>\n    </tr>\n    <tr>\n      <th>5</th>\n      <td>67</td>\n      <td>78</td>\n      <td>1.85</td>\n    </tr>\n    <tr>\n      <th>6</th>\n      <td>57</td>\n      <td>34</td>\n      <td>1.61</td>\n    </tr>\n    <tr>\n      <th>7</th>\n      <td>56</td>\n      <td>76</td>\n      <td>1.69</td>\n    </tr>\n    <tr>\n      <th>8</th>\n      <td>56</td>\n      <td>76</td>\n      <td>1.69</td>\n    </tr>\n    <tr>\n      <th>9</th>\n      <td>56</td>\n      <td>76</td>\n      <td>1.69</td>\n    </tr>\n    <tr>\n      <th>10</th>\n      <td>56</td>\n      <td>74</td>\n      <td>1.69</td>\n    </tr>\n    <tr>\n      <th>11</th>\n      <td>55</td>\n      <td>89</td>\n      <td>1.65</td>\n    </tr>\n    <tr>\n      <th>12</th>\n      <td>54</td>\n      <td>78</td>\n      <td>1.50</td>\n    </tr>\n    <tr>\n      <th>13</th>\n      <td>45</td>\n      <td>60</td>\n      <td>1.35</td>\n    </tr>\n    <tr>\n      <th>14</th>\n      <td>34</td>\n      <td>65</td>\n      <td>1.76</td>\n    </tr>\n    <tr>\n      <th>15</th>\n      <td>32</td>\n      <td>21</td>\n      <td>1.52</td>\n    </tr>\n    <tr>\n      <th>16</th>\n      <td>26</td>\n      <td>65</td>\n      <td>1.21</td>\n    </tr>\n    <tr>\n      <th>17</th>\n      <td>26</td>\n      <td>65</td>\n      <td>1.21</td>\n    </tr>\n    <tr>\n      <th>18</th>\n      <td>26</td>\n      <td>65</td>\n      <td>1.21</td>\n    </tr>\n    <tr>\n      <th>19</th>\n      <td>23</td>\n      <td>45</td>\n      <td>1.75</td>\n    </tr>\n    <tr>\n      <th>20</th>\n      <td>23</td>\n      <td>53</td>\n      <td>1.50</td>\n    </tr>\n    <tr>\n      <th>21</th>\n      <td>21</td>\n      <td>43</td>\n      <td>1.52</td>\n    </tr>\n    <tr>\n      <th>22</th>\n      <td>12</td>\n      <td>43</td>\n      <td>1.21</td>\n    </tr>\n  </tbody>\n</table>\n</div>"
     },
     "execution_count": 34,
     "metadata": {},
     "output_type": "execute_result"
    }
   ],
   "source": [
    "data3"
   ],
   "metadata": {
    "collapsed": false
   }
  },
  {
   "cell_type": "code",
   "execution_count": 36,
   "outputs": [
    {
     "data": {
      "text/plain": "(23, 3)"
     },
     "execution_count": 36,
     "metadata": {},
     "output_type": "execute_result"
    }
   ],
   "source": [
    "data3.shape"
   ],
   "metadata": {
    "collapsed": false
   }
  },
  {
   "cell_type": "markdown",
   "metadata": {},
   "source": [
    "## <span style=\"color:darkgreen;\">Droping duplicates</span>"
   ]
  },
  {
   "cell_type": "code",
   "execution_count": 37,
   "metadata": {},
   "outputs": [
    {
     "data": {
      "text/plain": "7"
     },
     "execution_count": 37,
     "metadata": {},
     "output_type": "execute_result"
    }
   ],
   "source": [
    "# Check if data has duplicates\n",
    "data3.duplicated().sum()"
   ]
  },
  {
   "cell_type": "code",
   "execution_count": 38,
   "metadata": {},
   "outputs": [],
   "source": [
    "# drop duplicates from your data\n",
    "data3.drop_duplicates(inplace=True)\n"
   ]
  },
  {
   "cell_type": "code",
   "execution_count": 39,
   "outputs": [
    {
     "data": {
      "text/plain": "0"
     },
     "execution_count": 39,
     "metadata": {},
     "output_type": "execute_result"
    }
   ],
   "source": [
    "data3.duplicated().sum()"
   ],
   "metadata": {
    "collapsed": false
   }
  },
  {
   "cell_type": "code",
   "execution_count": 40,
   "outputs": [
    {
     "data": {
      "text/plain": "(16, 3)"
     },
     "execution_count": 40,
     "metadata": {},
     "output_type": "execute_result"
    }
   ],
   "source": [
    "data3.shape"
   ],
   "metadata": {
    "collapsed": false
   }
  },
  {
   "cell_type": "markdown",
   "metadata": {},
   "source": [
    "## <span style=\"color:darkgreen;\">Checking for missing values</span>"
   ]
  },
  {
   "cell_type": "markdown",
   "metadata": {},
   "source": [
    "Let's import a new dataset."
   ]
  },
  {
   "cell_type": "code",
   "execution_count": 41,
   "metadata": {},
   "outputs": [
    {
     "data": {
      "text/plain": "    Age  Weight (in kg)  Height (in m)\n0  45.0            60.0           1.35\n1  12.0            43.0           1.21",
      "text/html": "<div>\n<style scoped>\n    .dataframe tbody tr th:only-of-type {\n        vertical-align: middle;\n    }\n\n    .dataframe tbody tr th {\n        vertical-align: top;\n    }\n\n    .dataframe thead th {\n        text-align: right;\n    }\n</style>\n<table border=\"1\" class=\"dataframe\">\n  <thead>\n    <tr style=\"text-align: right;\">\n      <th></th>\n      <th>Age</th>\n      <th>Weight (in kg)</th>\n      <th>Height (in m)</th>\n    </tr>\n  </thead>\n  <tbody>\n    <tr>\n      <th>0</th>\n      <td>45.0</td>\n      <td>60.0</td>\n      <td>1.35</td>\n    </tr>\n    <tr>\n      <th>1</th>\n      <td>12.0</td>\n      <td>43.0</td>\n      <td>1.21</td>\n    </tr>\n  </tbody>\n</table>\n</div>"
     },
     "execution_count": 41,
     "metadata": {},
     "output_type": "execute_result"
    }
   ],
   "source": [
    "# Import missingdata.csv \n",
    "mdata = pd.read_csv('missingdata.csv')\n",
    "mdata.head(2)"
   ]
  },
  {
   "cell_type": "code",
   "execution_count": 42,
   "metadata": {},
   "outputs": [
    {
     "name": "stdout",
     "output_type": "stream",
     "text": [
      "<class 'pandas.core.frame.DataFrame'>\n",
      "RangeIndex: 23 entries, 0 to 22\n",
      "Data columns (total 3 columns):\n",
      " #   Column          Non-Null Count  Dtype  \n",
      "---  ------          --------------  -----  \n",
      " 0   Age             22 non-null     float64\n",
      " 1   Weight (in kg)  21 non-null     float64\n",
      " 2   Height (in m)   22 non-null     float64\n",
      "dtypes: float64(3)\n",
      "memory usage: 680.0 bytes\n"
     ]
    }
   ],
   "source": [
    "# check for nulls\n",
    "mdata.info()"
   ]
  },
  {
   "cell_type": "code",
   "execution_count": 43,
   "outputs": [
    {
     "data": {
      "text/plain": "Age               1\nWeight (in kg)    2\nHeight (in m)     1\ndtype: int64"
     },
     "execution_count": 43,
     "metadata": {},
     "output_type": "execute_result"
    }
   ],
   "source": [
    "mdata.isnull().sum()"
   ],
   "metadata": {
    "collapsed": false
   }
  },
  {
   "cell_type": "markdown",
   "metadata": {},
   "source": [
    "The function `.isnull` check whether the data is missing. The `sum()` sums the number of 'True' values in the column. The final output gives the number of missing values in each column.\n",
    "\n",
    "Here, we see there are 2 missing values in the 'weight' column and one missing value in other columns."
   ]
  },
  {
   "cell_type": "markdown",
   "metadata": {},
   "source": [
    "    "
   ]
  },
  {
   "cell_type": "markdown",
   "metadata": {},
   "source": [
    "    "
   ]
  },
  {
   "cell_type": "markdown",
   "metadata": {},
   "source": [
    "## <span style=\"color:crimson;\">Take home exercise</span>"
   ]
  },
  {
   "cell_type": "markdown",
   "metadata": {},
   "source": [
    "<a id=\"reading_data\"> </a>\n",
    "### Reading Data from Different Sources\n",
    "\n",
    "Note that the files names are used as examples only. You can try importing your own files to execute the below examples."
   ]
  },
  {
   "cell_type": "markdown",
   "metadata": {},
   "source": [
    "**1. Read a `.xlsx` file**"
   ]
  },
  {
   "cell_type": "markdown",
   "metadata": {
    "scrolled": true
   },
   "source": [
    "`pd.read_excel('example.xlsx')`"
   ]
  },
  {
   "cell_type": "markdown",
   "metadata": {},
   "source": [
    "**2. Read a `.txt` file**"
   ]
  },
  {
   "cell_type": "markdown",
   "metadata": {},
   "source": [
    "`data = pd.read_csv('example.txt', sep=\"\\t\")`"
   ]
  },
  {
   "cell_type": "markdown",
   "metadata": {},
   "source": [
    "**3. Read a `.zip` file**"
   ]
  },
  {
   "cell_type": "markdown",
   "metadata": {},
   "source": [
    "`import zipfile\n",
    "with zipfile.ZipFile('data.zip') as z:\n",
    "    with z.open('example.csv') as f:\n",
    "        file = pd.read_csv(f)\n",
    "        print(file.head())`"
   ]
  },
  {
   "cell_type": "markdown",
   "metadata": {},
   "source": [
    "**4. Read a `.html` file**"
   ]
  },
  {
   "cell_type": "markdown",
   "metadata": {},
   "source": [
    "`df = pd.read_html('example.html', header=1, index_col=0)`"
   ]
  },
  {
   "cell_type": "markdown",
   "metadata": {},
   "source": [
    "**5. Read a `.json` file**"
   ]
  },
  {
   "cell_type": "markdown",
   "metadata": {},
   "source": [
    "`pd.read_json('example.json')`"
   ]
  },
  {
   "cell_type": "markdown",
   "metadata": {},
   "source": [
    "    "
   ]
  },
  {
   "cell_type": "code",
   "execution_count": null,
   "metadata": {},
   "outputs": [],
   "source": []
  }
 ],
 "metadata": {
  "kernelspec": {
   "display_name": "Python 3 (ipykernel)",
   "language": "python",
   "name": "python3"
  },
  "language_info": {
   "codemirror_mode": {
    "name": "ipython",
    "version": 3
   },
   "file_extension": ".py",
   "mimetype": "text/x-python",
   "name": "python",
   "nbconvert_exporter": "python",
   "pygments_lexer": "ipython3",
   "version": "3.9.13"
  }
 },
 "nbformat": 4,
 "nbformat_minor": 2
}
