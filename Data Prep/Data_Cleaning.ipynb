{
 "cells": [
  {
   "cell_type": "markdown",
   "metadata": {},
   "source": [
    "# Data Cleaning"
   ]
  },
  {
   "cell_type": "markdown",
   "metadata": {},
   "source": [
    "**Important Note:** The slides in the deck have modified versions of the dataset to illustrate and provide examples for various errors to clean. The real dataset for this project may not have the same errors, so don't expect to find the exact same observations as in the slides."
   ]
  },
  {
   "cell_type": "markdown",
   "metadata": {},
   "source": [
    "    "
   ]
  },
  {
   "cell_type": "code",
   "execution_count": 1,
   "metadata": {},
   "outputs": [],
   "source": [
    "# First import the libraries you'll need\n",
    "import pandas as pd\n",
    "pd.set_option('display.max_columns', 100)\n",
    "\n",
    "import numpy as np\n",
    "\n",
    "from matplotlib import pyplot as plt\n",
    "%matplotlib inline\n",
    "\n",
    "import seaborn as sns"
   ]
  },
  {
   "cell_type": "code",
   "execution_count": 2,
   "metadata": {},
   "outputs": [
    {
     "data": {
      "text/plain": "    price  year_sold  property_tax  insurance  beds  baths  sqft  year_built  \\\n0  295850       2013           234         81     1      1   584        2013   \n1  216500       2006           169         51     1      1   612        1965   \n2  279900       2012           216         74     1      1   615        1963   \n3  379900       2005           265         92     1      1   618        2000   \n4  340000       2002            88         30     1      1   634        1992   \n\n   lot_size  basement property_type  \n0         0       NaN         Condo  \n1         0       1.0         Condo  \n2         0       NaN         Condo  \n3     33541       NaN         Condo  \n4         0       NaN         Condo  ",
      "text/html": "<div>\n<style scoped>\n    .dataframe tbody tr th:only-of-type {\n        vertical-align: middle;\n    }\n\n    .dataframe tbody tr th {\n        vertical-align: top;\n    }\n\n    .dataframe thead th {\n        text-align: right;\n    }\n</style>\n<table border=\"1\" class=\"dataframe\">\n  <thead>\n    <tr style=\"text-align: right;\">\n      <th></th>\n      <th>price</th>\n      <th>year_sold</th>\n      <th>property_tax</th>\n      <th>insurance</th>\n      <th>beds</th>\n      <th>baths</th>\n      <th>sqft</th>\n      <th>year_built</th>\n      <th>lot_size</th>\n      <th>basement</th>\n      <th>property_type</th>\n    </tr>\n  </thead>\n  <tbody>\n    <tr>\n      <th>0</th>\n      <td>295850</td>\n      <td>2013</td>\n      <td>234</td>\n      <td>81</td>\n      <td>1</td>\n      <td>1</td>\n      <td>584</td>\n      <td>2013</td>\n      <td>0</td>\n      <td>NaN</td>\n      <td>Condo</td>\n    </tr>\n    <tr>\n      <th>1</th>\n      <td>216500</td>\n      <td>2006</td>\n      <td>169</td>\n      <td>51</td>\n      <td>1</td>\n      <td>1</td>\n      <td>612</td>\n      <td>1965</td>\n      <td>0</td>\n      <td>1.0</td>\n      <td>Condo</td>\n    </tr>\n    <tr>\n      <th>2</th>\n      <td>279900</td>\n      <td>2012</td>\n      <td>216</td>\n      <td>74</td>\n      <td>1</td>\n      <td>1</td>\n      <td>615</td>\n      <td>1963</td>\n      <td>0</td>\n      <td>NaN</td>\n      <td>Condo</td>\n    </tr>\n    <tr>\n      <th>3</th>\n      <td>379900</td>\n      <td>2005</td>\n      <td>265</td>\n      <td>92</td>\n      <td>1</td>\n      <td>1</td>\n      <td>618</td>\n      <td>2000</td>\n      <td>33541</td>\n      <td>NaN</td>\n      <td>Condo</td>\n    </tr>\n    <tr>\n      <th>4</th>\n      <td>340000</td>\n      <td>2002</td>\n      <td>88</td>\n      <td>30</td>\n      <td>1</td>\n      <td>1</td>\n      <td>634</td>\n      <td>1992</td>\n      <td>0</td>\n      <td>NaN</td>\n      <td>Condo</td>\n    </tr>\n  </tbody>\n</table>\n</div>"
     },
     "execution_count": 2,
     "metadata": {},
     "output_type": "execute_result"
    }
   ],
   "source": [
    "# import the dataset\n",
    "df = pd.read_csv('real_estate.csv')\n",
    "df.head()"
   ]
  },
  {
   "cell_type": "markdown",
   "metadata": {},
   "source": [
    "#### Now let's get started with cleaning the data!"
   ]
  },
  {
   "cell_type": "markdown",
   "metadata": {},
   "source": [
    "## I. Handle Missing Data"
   ]
  },
  {
   "cell_type": "markdown",
   "metadata": {},
   "source": [
    "* For example, the `basement` feature? It has values **1** and **NaN**."
   ]
  },
  {
   "cell_type": "code",
   "execution_count": 3,
   "metadata": {},
   "outputs": [
    {
     "data": {
      "text/plain": "array([nan,  1.])"
     },
     "execution_count": 3,
     "metadata": {},
     "output_type": "execute_result"
    }
   ],
   "source": [
    "# Display unique values of 'basement'\n",
    "df['basement'].unique()"
   ]
  },
  {
   "cell_type": "markdown",
   "metadata": {},
   "source": [
    "The **NaN** values are missing values. They actually indicate that the property does not have a `basement`. Therefore, let's replace them with the value **0**."
   ]
  },
  {
   "cell_type": "markdown",
   "metadata": {},
   "source": [
    "Using the `.fillna()` function replace **NaN** values with 0. "
   ]
  },
  {
   "cell_type": "code",
   "execution_count": 6,
   "metadata": {},
   "outputs": [],
   "source": [
    "# Replace missing basement values to 0\n",
    "# inplace=True updates the values in the original DataFrame.\n",
    "df['basement'].fillna(value=0, inplace=True)"
   ]
  },
  {
   "cell_type": "code",
   "execution_count": 7,
   "metadata": {
    "scrolled": true
   },
   "outputs": [
    {
     "data": {
      "text/plain": "array([0., 1.])"
     },
     "execution_count": 7,
     "metadata": {},
     "output_type": "execute_result"
    }
   ],
   "source": [
    "# Display unique values of 'basement'\n",
    "df['basement'].unique()"
   ]
  },
  {
   "cell_type": "code",
   "execution_count": 8,
   "outputs": [
    {
     "data": {
      "text/plain": "array([0., 1.])"
     },
     "execution_count": 8,
     "metadata": {},
     "output_type": "execute_result"
    }
   ],
   "source": [
    "df.basement.unique()"
   ],
   "metadata": {
    "collapsed": false
   }
  },
  {
   "cell_type": "code",
   "execution_count": 10,
   "outputs": [
    {
     "data": {
      "text/plain": "1.0    1657\n0.0     226\nName: basement, dtype: int64"
     },
     "execution_count": 10,
     "metadata": {},
     "output_type": "execute_result"
    }
   ],
   "source": [
    "df.basement.value_counts()"
   ],
   "metadata": {
    "collapsed": false
   }
  },
  {
   "cell_type": "code",
   "execution_count": 15,
   "metadata": {},
   "outputs": [],
   "source": [
    "# change the basement type to integer\n",
    "df.basement = df.basement.astype(int)"
   ]
  },
  {
   "cell_type": "code",
   "execution_count": 16,
   "outputs": [
    {
     "data": {
      "text/plain": "dtype('int32')"
     },
     "execution_count": 16,
     "metadata": {},
     "output_type": "execute_result"
    }
   ],
   "source": [
    "df.basement.dtypes"
   ],
   "metadata": {
    "collapsed": false
   }
  },
  {
   "cell_type": "markdown",
   "metadata": {},
   "source": []
  },
  {
   "cell_type": "markdown",
   "metadata": {},
   "source": [
    "## II. Remove \"Guilty\" Outliers\n",
    "\n",
    "Outliers can cause problems with certain types of models. For example, linear regression models are less robust to outliers than decision tree models. If you have a good reason to remove an outlier, it will help your model's performance."
   ]
  },
  {
   "cell_type": "markdown",
   "metadata": {},
   "source": [
    "#### A. Plot the violin plots for <code style=\"color:steelblue\">'beds'</code>, <code style=\"color:steelblue\">'sqft'</code>, and <code style=\"color:steelblue\">'lot_size'</code>.\n",
    "* **Tip:** If you want to plot multiple charts in the same code cell, remember to separate them by <code style=\"color:steelblue\">plt.show()</code>, or else they will overlap.\n",
    "* Among those features, do any look like they have potential outliers?"
   ]
  },
  {
   "cell_type": "code",
   "execution_count": 17,
   "metadata": {},
   "outputs": [],
   "source": [
    "import warnings\n",
    "warnings.filterwarnings('ignore')"
   ]
  },
  {
   "cell_type": "code",
   "execution_count": 20,
   "metadata": {},
   "outputs": [
    {
     "data": {
      "text/plain": "<Figure size 640x480 with 1 Axes>",
      "image/png": "[encoded data removed]"
     },
     "metadata": {},
     "output_type": "display_data"
    },
    {
     "data": {
      "text/plain": "<Figure size 640x480 with 1 Axes>",
      "image/png": "[encoded data removed]"
     },
     "metadata": {},
     "output_type": "display_data"
    },
    {
     "data": {
      "text/plain": "<Figure size 640x480 with 1 Axes>",
      "image/png": "[encoded data removed]"
     },
     "metadata": {},
     "output_type": "display_data"
    }
   ],
   "source": [
    "# box plot of beds\n",
    "sns.boxplot(df.beds, data=df)\n",
    "plt.show()\n",
    "# box plot of sqft\n",
    "sns.boxplot(df.sqft, data=df)\n",
    "plt.show()\n",
    "# box plot of lot_size\n",
    "sns.boxplot(df.lot_size, data=df)\n",
    "plt.show()"
   ]
  },
  {
   "cell_type": "markdown",
   "metadata": {},
   "source": [
    "Among those three features, it looks like <code style=\"color:steelblue\">lot_size</code> has a potential outlier! Look at its long and skinny tail. Let's look at the largest 5 lot sizes just to confirm.\n",
    "\n",
    "#### B. Sort <code style=\"color:steelblue\">df.lot_size</code> and display the top 5 samples.\n",
    "* You can sort a Series with the <code style=\"color:steelblue\">.sort_values()</code> function.\n",
    "* **Tip:** <code style=\"color:steelblue\">.sort_values()</code> has an argument called <code style=\"color:steelblue\">ascending=</code>. By default, it's <code style=\"color:steelblue\">True</code>\n",
    "* **Tip:** You can chain functions together. This exercise can be completed in 1 line of code."
   ]
  },
  {
   "cell_type": "code",
   "execution_count": 24,
   "metadata": {},
   "outputs": [
    {
     "data": {
      "text/plain": "102     1220551\n1111     436471\n1832     436035\n1876     436035\n1839     435600\n         ...   \n285           0\n286           0\n287           0\n288           0\n0             0\nName: lot_size, Length: 1883, dtype: int64"
     },
     "execution_count": 24,
     "metadata": {},
     "output_type": "execute_result"
    }
   ],
   "source": [
    "# Print top 5 homes with largest lot_size\n",
    "df.lot_size.sort_values(ascending=False)\n",
    "df.head()"
   ]
  },
  {
   "cell_type": "code",
   "execution_count": null,
   "outputs": [],
   "source": [
    "df.lot_size.sort_values()"
   ],
   "metadata": {
    "collapsed": false
   }
  },
  {
   "cell_type": "markdown",
   "metadata": {},
   "source": [
    "The largest property has a lot_size of 1,220,551 sqft. The next largest has a lot_size of only 436,471 sqft.\n",
    "\n",
    "#### C. Display the entire row for that observation with the huge lot size.\n",
    "* How many bedrooms and bathrooms does the property have?\n",
    "* What's its property type?\n",
    "* What's its transaction price?\n",
    "* **Do you think this observation could be an outlier? Why?**"
   ]
  },
  {
   "cell_type": "code",
   "execution_count": 25,
   "metadata": {},
   "outputs": [
    {
     "data": {
      "text/plain": "price             292999\nyear_sold           2014\nproperty_tax         230\ninsurance             79\nbeds                   2\nbaths                  1\nsqft                 875\nyear_built          1950\nlot_size         1220551\nbasement               0\nproperty_type      Condo\nName: 102, dtype: object"
     },
     "execution_count": 25,
     "metadata": {},
     "output_type": "execute_result"
    }
   ],
   "source": [
    "# print the record where lot_size = 1220551\n",
    "df.iloc[102]"
   ]
  },
  {
   "cell_type": "code",
   "execution_count": 26,
   "outputs": [
    {
     "data": {
      "text/plain": "      price  year_sold  property_tax  insurance  beds  baths  sqft  \\\n102  292999       2014           230         79     2      1   875   \n\n     year_built  lot_size  basement property_type  \n102        1950   1220551         0         Condo  ",
      "text/html": "<div>\n<style scoped>\n    .dataframe tbody tr th:only-of-type {\n        vertical-align: middle;\n    }\n\n    .dataframe tbody tr th {\n        vertical-align: top;\n    }\n\n    .dataframe thead th {\n        text-align: right;\n    }\n</style>\n<table border=\"1\" class=\"dataframe\">\n  <thead>\n    <tr style=\"text-align: right;\">\n      <th></th>\n      <th>price</th>\n      <th>year_sold</th>\n      <th>property_tax</th>\n      <th>insurance</th>\n      <th>beds</th>\n      <th>baths</th>\n      <th>sqft</th>\n      <th>year_built</th>\n      <th>lot_size</th>\n      <th>basement</th>\n      <th>property_type</th>\n    </tr>\n  </thead>\n  <tbody>\n    <tr>\n      <th>102</th>\n      <td>292999</td>\n      <td>2014</td>\n      <td>230</td>\n      <td>79</td>\n      <td>2</td>\n      <td>1</td>\n      <td>875</td>\n      <td>1950</td>\n      <td>1220551</td>\n      <td>0</td>\n      <td>Condo</td>\n    </tr>\n  </tbody>\n</table>\n</div>"
     },
     "execution_count": 26,
     "metadata": {},
     "output_type": "execute_result"
    }
   ],
   "source": [
    "# Where clause another method to do the above method\n",
    "df[df.lot_size == 1220551]"
   ],
   "metadata": {
    "collapsed": false
   }
  },
  {
   "cell_type": "code",
   "execution_count": 31,
   "outputs": [
    {
     "name": "stdout",
     "output_type": "stream",
     "text": [
      "<class 'pandas.core.frame.DataFrame'>\n",
      "Int64Index: 1882 entries, 0 to 1882\n",
      "Data columns (total 11 columns):\n",
      " #   Column         Non-Null Count  Dtype \n",
      "---  ------         --------------  ----- \n",
      " 0   price          1882 non-null   int64 \n",
      " 1   year_sold      1882 non-null   int64 \n",
      " 2   property_tax   1882 non-null   int64 \n",
      " 3   insurance      1882 non-null   int64 \n",
      " 4   beds           1882 non-null   int64 \n",
      " 5   baths          1882 non-null   int64 \n",
      " 6   sqft           1882 non-null   int64 \n",
      " 7   year_built     1882 non-null   int64 \n",
      " 8   lot_size       1882 non-null   int64 \n",
      " 9   basement       1882 non-null   int32 \n",
      " 10  property_type  1882 non-null   object\n",
      "dtypes: int32(1), int64(9), object(1)\n",
      "memory usage: 169.1+ KB\n"
     ]
    }
   ],
   "source": [
    "df.info()"
   ],
   "metadata": {
    "collapsed": false
   }
  },
  {
   "cell_type": "markdown",
   "metadata": {},
   "source": [
    "#### D. Since all of the other observations are below 500,000 sqft, let's remove observations with <code style=\"color:steelblue\">lot_size</code> greater than 500,000 sqft.\n",
    "* You can use a boolean mask to do so (filter to keep only wanted observations).\n",
    "* Overwrite the existing <code style=\"color:steelblue\">df</code> object\n",
    "* Print the length of the new <code style=\"color:steelblue\">df</code> object."
   ]
  },
  {
   "cell_type": "code",
   "execution_count": 28,
   "metadata": {},
   "outputs": [],
   "source": [
    "# Drop the row with lot_size = 1220551\n",
    "df.drop(102, inplace=True)"
   ]
  },
  {
   "cell_type": "code",
   "execution_count": 30,
   "outputs": [
    {
     "data": {
      "text/plain": "Empty DataFrame\nColumns: [price, year_sold, property_tax, insurance, beds, baths, sqft, year_built, lot_size, basement, property_type]\nIndex: []",
      "text/html": "<div>\n<style scoped>\n    .dataframe tbody tr th:only-of-type {\n        vertical-align: middle;\n    }\n\n    .dataframe tbody tr th {\n        vertical-align: top;\n    }\n\n    .dataframe thead th {\n        text-align: right;\n    }\n</style>\n<table border=\"1\" class=\"dataframe\">\n  <thead>\n    <tr style=\"text-align: right;\">\n      <th></th>\n      <th>price</th>\n      <th>year_sold</th>\n      <th>property_tax</th>\n      <th>insurance</th>\n      <th>beds</th>\n      <th>baths</th>\n      <th>sqft</th>\n      <th>year_built</th>\n      <th>lot_size</th>\n      <th>basement</th>\n      <th>property_type</th>\n    </tr>\n  </thead>\n  <tbody>\n  </tbody>\n</table>\n</div>"
     },
     "execution_count": 30,
     "metadata": {},
     "output_type": "execute_result"
    }
   ],
   "source": [
    "df[df.lot_size == 1220551]"
   ],
   "metadata": {
    "collapsed": false
   }
  },
  {
   "cell_type": "markdown",
   "metadata": {},
   "source": [
    "## IV. Save the Cleaned Dataset"
   ]
  },
  {
   "cell_type": "markdown",
   "metadata": {},
   "source": [
    "#### Finally, save the cleaned dataframe as  <code style=\"color:steelblue\">'cleaned_df.csv'</code>\n",
    "\n",
    "Before we move on to the next module, let's save the new dataframe we worked hard to clean.\n",
    "* We'll use Pandas's <code style=\"color:steelblue\">.to_csv()</code> function.\n",
    "* Set <code style=\"color:steelblue\">index=<span style=\"color:crimson\">None</span></code> so that Pandas drops the indices and only stores the actual data in the CSV."
   ]
  },
  {
   "cell_type": "code",
   "execution_count": 32,
   "metadata": {},
   "outputs": [],
   "source": [
    "# Save the cleaned dataset\n",
    "df.to_csv('cleaned_df.csv', index=None)"
   ]
  },
  {
   "cell_type": "markdown",
   "metadata": {},
   "source": [
    "\n",
    "We will use <code style=\"color:steelblue\">'cleaned_df.csv'</code> in all the other modules!\n",
    "In the next module, **Feature Engineering**, you'll use the cleaned dataset to create new features that will improve model performance."
   ]
  },
  {
   "cell_type": "code",
   "execution_count": null,
   "outputs": [],
   "source": [],
   "metadata": {
    "collapsed": false
   }
  }
 ],
 "metadata": {
  "anaconda-cloud": {},
  "kernelspec": {
   "display_name": "Python 3 (ipykernel)",
   "language": "python",
   "name": "python3"
  },
  "language_info": {
   "codemirror_mode": {
    "name": "ipython",
    "version": 3
   },
   "file_extension": ".py",
   "mimetype": "text/x-python",
   "name": "python",
   "nbconvert_exporter": "python",
   "pygments_lexer": "ipython3",
   "version": "3.9.13"
  }
 },
 "nbformat": 4,
 "nbformat_minor": 1
}
