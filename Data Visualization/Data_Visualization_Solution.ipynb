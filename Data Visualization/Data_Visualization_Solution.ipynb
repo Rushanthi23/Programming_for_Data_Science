{
 "cells": [
  {
   "cell_type": "markdown",
   "metadata": {},
   "source": [
    "##  Table of Content\n",
    "\n",
    "### Tips Dataset\n",
    "\n",
    "The tips dataset is a great starting point for practicing data visualization, statistical analysis, and machine learning techniques. This dataset contains information about the total bill and tip amount for different meals served in a restaurant. The dataset has 244 observations and 7 variables, including total bill, tip, gender, smoker status, day of the week, time of day, and size of the party."
   ]
  },
  {
   "cell_type": "markdown",
   "metadata": {},
   "source": [
    "### Data Dictionary\n",
    "\n",
    "\n",
    "<table style=\"text-align: left;\">\n",
    "  <tr>\n",
    "    <th>Variable</th>\n",
    "    <th>Description</th>\n",
    "  </tr>\n",
    "  <tr>\n",
    "    <td>total_bill</td>\n",
    "    <td>Total bill (cost of the meal), in US dollars</td>\n",
    "  </tr>\n",
    "  <tr>\n",
    "    <td>tip</td>\n",
    "    <td>Tip (gratuity) in US dollars</td>\n",
    "  </tr>\n",
    "  <tr>\n",
    "    <td>sex</td>\n",
    "    <td>Gender of the person who paid the bill (Male or Female)</td>\n",
    "  </tr>\n",
    "  <tr>\n",
    "    <td>smoker</td>\n",
    "    <td>Whether the person who paid the bill is a smoker (Yes or No)</td>\n",
    "  </tr>\n",
    "  <tr>\n",
    "    <td>day</td>\n",
    "    <td>Day of the week the bill was paid (Thur, Fri, Sat, Sun)</td>\n",
    "  </tr>\n",
    "  <tr>\n",
    "    <td>time</td>\n",
    "    <td>Time of dining (Lunch or Dinner)</td>\n",
    "  </tr>\n",
    "  <tr>\n",
    "    <td>size</td>\n",
    "    <td>Size of the party (number of people)</td>\n",
    "  </tr>\n",
    "</table>\n"
   ]
  },
  {
   "cell_type": "markdown",
   "metadata": {},
   "source": [
    "### Goal\n",
    "\n",
    "The goal is to gain insights into the data, identify patterns, and draw conclusions based on the visualizations."
   ]
  },
  {
   "cell_type": "markdown",
   "metadata": {},
   "source": [
    "    "
   ]
  },
  {
   "cell_type": "markdown",
   "metadata": {
    "id": "NuvT1Yted304"
   },
   "source": [
    "\n",
    "### Visualization libraries in Python\n",
    "1. **[Plots using Seaborn ](#seaborn)**\n",
    "2. **[Plots using Matplotlib ](#matplotlib)**\n",
    "\n"
   ]
  },
  {
   "cell_type": "markdown",
   "metadata": {
    "id": "fbaclKQBd305"
   },
   "source": [
    "**There are different visualization libraries in python, that provides an interface for drawing various graphics. Some most widely used libraries are Seaborn and Matplotlib**"
   ]
  },
  {
   "cell_type": "markdown",
   "metadata": {
    "id": "5GUJ56O0d31A"
   },
   "source": [
    "<a name=\"seaborn\"> </a>\n",
    "# <span style=\"color:Crimson\">1. Seaborn</span>\n",
    "\n",
    "<br> Seaborn is a Python visualization library based on matplotlib. The library provides a high-level interface for plotting statistical graphics. As the library uses matplotlib in the backend, we can use the functions in matplotlib along with functions in seaborn.<br>"
   ]
  },
  {
   "cell_type": "markdown",
   "metadata": {
    "id": "sqY1p0tAd31A"
   },
   "source": [
    "**How to install Seaborn?**<br>\n",
    "1. You can use-<br>`!pip install seaborn`<br>"
   ]
  },
  {
   "cell_type": "code",
   "execution_count": 1,
   "metadata": {},
   "outputs": [],
   "source": [
    "# Import Seaborn and alias it as sns\n",
    "import seaborn as sns"
   ]
  },
  {
   "cell_type": "code",
   "execution_count": 2,
   "metadata": {},
   "outputs": [
    {
     "data": {
      "text/plain": "['anagrams',\n 'anscombe',\n 'attention',\n 'brain_networks',\n 'car_crashes',\n 'diamonds',\n 'dots',\n 'dowjones',\n 'exercise',\n 'flights',\n 'fmri',\n 'geyser',\n 'glue',\n 'healthexp',\n 'iris',\n 'mpg',\n 'penguins',\n 'planets',\n 'seaice',\n 'taxis',\n 'tips',\n 'titanic']"
     },
     "execution_count": 2,
     "metadata": {},
     "output_type": "execute_result"
    }
   ],
   "source": [
    "# Get the list of sample datasets from the seaborn library\n",
    "sns.get_dataset_names()"
   ]
  },
  {
   "cell_type": "code",
   "execution_count": 3,
   "metadata": {},
   "outputs": [],
   "source": [
    "# Now load the tips dataset from the Seaborn library and store it in df\n",
    "df = sns.load_dataset('tips')"
   ]
  },
  {
   "cell_type": "code",
   "execution_count": 4,
   "metadata": {},
   "outputs": [
    {
     "data": {
      "text/plain": "pandas.core.frame.DataFrame"
     },
     "execution_count": 4,
     "metadata": {},
     "output_type": "execute_result"
    }
   ],
   "source": [
    "# check the variable type\n",
    "type(df)"
   ]
  },
  {
   "cell_type": "markdown",
   "metadata": {},
   "source": [
    "The `sns.load_dataset()` function returns a Pandas DataFrame object, which is then assigned to the variable `df`. The `load_dataset` function loads a sample dataset from the seaborn library, in this case the \"tips\" dataset, and returns the data in a Pandas DataFrame. The resulting object is then assigned to the variable df, which is now a DataFrame."
   ]
  },
  {
   "cell_type": "code",
   "execution_count": 5,
   "metadata": {},
   "outputs": [
    {
     "data": {
      "text/plain": "   total_bill   tip     sex smoker  day    time  size\n0       16.99  1.01  Female     No  Sun  Dinner     2\n1       10.34  1.66    Male     No  Sun  Dinner     3\n2       21.01  3.50    Male     No  Sun  Dinner     3\n3       23.68  3.31    Male     No  Sun  Dinner     2\n4       24.59  3.61  Female     No  Sun  Dinner     4",
      "text/html": "<div>\n<style scoped>\n    .dataframe tbody tr th:only-of-type {\n        vertical-align: middle;\n    }\n\n    .dataframe tbody tr th {\n        vertical-align: top;\n    }\n\n    .dataframe thead th {\n        text-align: right;\n    }\n</style>\n<table border=\"1\" class=\"dataframe\">\n  <thead>\n    <tr style=\"text-align: right;\">\n      <th></th>\n      <th>total_bill</th>\n      <th>tip</th>\n      <th>sex</th>\n      <th>smoker</th>\n      <th>day</th>\n      <th>time</th>\n      <th>size</th>\n    </tr>\n  </thead>\n  <tbody>\n    <tr>\n      <th>0</th>\n      <td>16.99</td>\n      <td>1.01</td>\n      <td>Female</td>\n      <td>No</td>\n      <td>Sun</td>\n      <td>Dinner</td>\n      <td>2</td>\n    </tr>\n    <tr>\n      <th>1</th>\n      <td>10.34</td>\n      <td>1.66</td>\n      <td>Male</td>\n      <td>No</td>\n      <td>Sun</td>\n      <td>Dinner</td>\n      <td>3</td>\n    </tr>\n    <tr>\n      <th>2</th>\n      <td>21.01</td>\n      <td>3.50</td>\n      <td>Male</td>\n      <td>No</td>\n      <td>Sun</td>\n      <td>Dinner</td>\n      <td>3</td>\n    </tr>\n    <tr>\n      <th>3</th>\n      <td>23.68</td>\n      <td>3.31</td>\n      <td>Male</td>\n      <td>No</td>\n      <td>Sun</td>\n      <td>Dinner</td>\n      <td>2</td>\n    </tr>\n    <tr>\n      <th>4</th>\n      <td>24.59</td>\n      <td>3.61</td>\n      <td>Female</td>\n      <td>No</td>\n      <td>Sun</td>\n      <td>Dinner</td>\n      <td>4</td>\n    </tr>\n  </tbody>\n</table>\n</div>"
     },
     "execution_count": 5,
     "metadata": {},
     "output_type": "execute_result"
    }
   ],
   "source": [
    "# check top 5 rows\n",
    "df.head()"
   ]
  },
  {
   "cell_type": "code",
   "execution_count": 6,
   "metadata": {},
   "outputs": [
    {
     "name": "stdout",
     "output_type": "stream",
     "text": [
      "<class 'pandas.core.frame.DataFrame'>\n",
      "RangeIndex: 244 entries, 0 to 243\n",
      "Data columns (total 7 columns):\n",
      " #   Column      Non-Null Count  Dtype   \n",
      "---  ------      --------------  -----   \n",
      " 0   total_bill  244 non-null    float64 \n",
      " 1   tip         244 non-null    float64 \n",
      " 2   sex         244 non-null    category\n",
      " 3   smoker      244 non-null    category\n",
      " 4   day         244 non-null    category\n",
      " 5   time        244 non-null    category\n",
      " 6   size        244 non-null    int64   \n",
      "dtypes: category(4), float64(2), int64(1)\n",
      "memory usage: 7.4 KB\n"
     ]
    }
   ],
   "source": [
    "df.info()"
   ]
  },
  {
   "cell_type": "markdown",
   "metadata": {},
   "source": [
    "**1. Relationship between the total bill and the tip amount:**\n",
    "\n",
    "You can use a scatter plot to visualize the relationship between the total bill and the tip amount. This will help you understand the correlation between these two variables and the extent to which people tip based on the cost of their meal."
   ]
  },
  {
   "cell_type": "code",
   "execution_count": 7,
   "metadata": {},
   "outputs": [
    {
     "data": {
      "text/plain": "<AxesSubplot:xlabel='total_bill', ylabel='tip'>"
     },
     "execution_count": 7,
     "metadata": {},
     "output_type": "execute_result"
    },
    {
     "data": {
      "text/plain": "<Figure size 640x480 with 1 Axes>",
      "image/png": "[encoded data removed]"
     },
     "metadata": {},
     "output_type": "display_data"
    }
   ],
   "source": [
    "sns.scatterplot(x = 'total_bill' , y = 'tip', data = df)"
   ]
  },
  {
   "cell_type": "markdown",
   "metadata": {
    "id": "W_fuUulqd31A"
   },
   "source": [
    "<a id=\"list\"> </a>\n",
    "### 1.1 Strip Plot\n",
    "\n",
    "<br>The strip plot resembles a scatterplot when one variable is categorical. This plot can help study the underlying distribution.\n"
   ]
  },
  {
   "cell_type": "markdown",
   "metadata": {},
   "source": [
    "**2. Average tip amount by time of day:**\n",
    "\n",
    "You can use a bar plot/strip plot to visualize the average tip amount by time of day (lunch or dinner). This will help you understand if people tip differently based on the time of day."
   ]
  },
  {
   "cell_type": "code",
   "execution_count": 8,
   "metadata": {
    "id": "80Q-YeXAd31B",
    "outputId": "3a5142db-8636-400a-90e1-16df48689a9b"
   },
   "outputs": [
    {
     "data": {
      "text/plain": "<AxesSubplot:xlabel='time', ylabel='tip'>"
     },
     "execution_count": 8,
     "metadata": {},
     "output_type": "execute_result"
    },
    {
     "data": {
      "text/plain": "<Figure size 640x480 with 1 Axes>",
      "image/png": "[encoded data removed]"
     },
     "metadata": {},
     "output_type": "display_data"
    }
   ],
   "source": [
    "# Plot a strip plot to check the relationship between the variables 'tip' and 'day'\n",
    "sns.stripplot(x = 'time' , y = 'tip', data = df)"
   ]
  },
  {
   "cell_type": "markdown",
   "metadata": {
    "id": "0THOBi3Bd31B"
   },
   "source": [
    "**Observations**\n",
    "\n",
    "* It can be seen that the tip amount is more at dinner time than at lunchtime.\n",
    "\n",
    "* The plot shows that for most of the observations the tip amount is in the range 1 to 3 irrespective of the time. "
   ]
  },
  {
   "cell_type": "markdown",
   "metadata": {},
   "source": [
    "Also plot:\n",
    "\n",
    "**3. Average tip amount by day of the week:**\n",
    "\n",
    "Average tip amount by day of the week: You can use a bar plot/Strip plot to visualize the average tip amount by day of the week. This will help you understand if people tip differently based on the day of the week.\n",
    "\n",
    "**4. Average tip amount by size of the party:**\n",
    "\n",
    "You can use a bar plot to visualize the average tip amount by the size of the party. This will help you understand if people tip differently based on the size of the group.\n",
    "\n",
    "**5. Average tip amount by smoker status:**\n",
    "\n",
    "You can use a bar plot to visualize the average tip amount by smoker status (smoker or non-smoker). This will help you understand if people tip differently based on their smoking status.\n",
    "\n",
    "**6. Average tip amount by gender:**\n",
    "\n",
    "You can use a bar plot to visualize the average tip amount by gender. This will help you understand if people tip differently based on their gender."
   ]
  },
  {
   "cell_type": "markdown",
   "metadata": {
    "id": "hMGjqvOdd31C"
   },
   "source": [
    "<a id=\"list\"> </a>\n",
    "### 1.2 Pair Plot\n",
    "\n",
    "<br>The pair plot gives a pairwise distribution of variables in the dataset. `pairplot()` function creates a matrix such that each grid shows the relationship between a pair of variables. On the diagonal axes, a plot shows the univariate distribution of each variable."
   ]
  },
  {
   "cell_type": "code",
   "execution_count": 9,
   "metadata": {
    "id": "ZIJqukqfd31C",
    "outputId": "46c7b78d-f8ee-4ac7-d357-7e196ba34cd2"
   },
   "outputs": [
    {
     "ename": "NameError",
     "evalue": "name 'data' is not defined",
     "output_type": "error",
     "traceback": [
      "\u001B[1;31m---------------------------------------------------------------------------\u001B[0m",
      "\u001B[1;31mNameError\u001B[0m                                 Traceback (most recent call last)",
      "\u001B[1;32m~\\AppData\\Local\\Temp\\ipykernel_18604\\2052929909.py\u001B[0m in \u001B[0;36m<module>\u001B[1;34m\u001B[0m\n\u001B[0;32m      1\u001B[0m \u001B[1;31m# Plot a pair plot for the tips dataset\u001B[0m\u001B[1;33m\u001B[0m\u001B[1;33m\u001B[0m\u001B[0m\n\u001B[1;32m----> 2\u001B[1;33m \u001B[0msns\u001B[0m\u001B[1;33m.\u001B[0m\u001B[0mpairplot\u001B[0m\u001B[1;33m(\u001B[0m\u001B[0mdata\u001B[0m\u001B[1;33m,\u001B[0m \u001B[0mhue\u001B[0m \u001B[1;33m=\u001B[0m \u001B[1;34m'sex'\u001B[0m\u001B[1;33m)\u001B[0m\u001B[1;33m\u001B[0m\u001B[1;33m\u001B[0m\u001B[0m\n\u001B[0m",
      "\u001B[1;31mNameError\u001B[0m: name 'data' is not defined"
     ]
    }
   ],
   "source": [
    "# Plot a pair plot for the tips dataset\n",
    "sns.pairplot(data, hue = 'sex')"
   ]
  },
  {
   "cell_type": "markdown",
   "metadata": {
    "id": "8pYGHmeqd31C"
   },
   "source": [
    "**Observations**\n",
    "<br>The above plot shows the relationship between all the numerical variables. 'total_bill' and 'tip' has a positive linear relationship with each other. Also, 'total_bill' and 'tip' are positively skewed. 'size' has a significant impact on the 'total_bill', as the minimum bill amount is increasing with an increasing number of customers (size)."
   ]
  },
  {
   "cell_type": "markdown",
   "metadata": {
    "id": "roJ1I71Hd31C"
   },
   "source": [
    "<a id=\"list\"> </a>\n",
    "### 1.3 Distribution Plot\n",
    "\n",
    "<br>A seaborn provides a `displot()` function which is used to visualize a distribution of the univariate variable. This function uses matplotlib to plot a histogram and fit a kernel density estimate (KDE)"
   ]
  },
  {
   "cell_type": "code",
   "execution_count": null,
   "metadata": {
    "id": "met1mztld31D",
    "outputId": "b4c364d7-2f3e-4978-dc1e-e49efc7d98fa"
   },
   "outputs": [],
   "source": [
    "# plot a distribution plot of 'total_bill' \n",
    "sns.distplot(data['total_bill'],hist=False)"
   ]
  },
  {
   "cell_type": "markdown",
   "metadata": {
    "id": "Rd6lorUpd31D"
   },
   "source": [
    "**Observations**\n",
    "* We can interpret from the above plot that the total bill amount is between the range 10 to 20 for a large number of observations."
   ]
  },
  {
   "cell_type": "markdown",
   "metadata": {
    "id": "2J4j51cQd31D"
   },
   "source": [
    "<a id=\"list\"> </a>\n",
    "### 1.4 Count Plot\n",
    "\n",
    "<br>Count plot shows the count of observations in each category of a categorical variable. We can add another variable using a parameter 'hue'."
   ]
  },
  {
   "cell_type": "code",
   "execution_count": 12,
   "outputs": [
    {
     "data": {
      "text/plain": "<AxesSubplot:xlabel='count', ylabel='sex'>"
     },
     "execution_count": 12,
     "metadata": {},
     "output_type": "execute_result"
    },
    {
     "data": {
      "text/plain": "<Figure size 640x480 with 1 Axes>",
      "image/png": "[encoded data removed]"
     },
     "metadata": {},
     "output_type": "display_data"
    }
   ],
   "source": [
    "sns.countplot(y = 'sex', data=df)"
   ],
   "metadata": {
    "collapsed": false
   }
  },
  {
   "cell_type": "code",
   "execution_count": 10,
   "metadata": {
    "id": "wWBDir97d31D",
    "outputId": "3dbe63f9-43d0-40ae-98d7-3bb34a86b7bb"
   },
   "outputs": [
    {
     "ename": "NameError",
     "evalue": "name 'data' is not defined",
     "output_type": "error",
     "traceback": [
      "\u001B[1;31m---------------------------------------------------------------------------\u001B[0m",
      "\u001B[1;31mNameError\u001B[0m                                 Traceback (most recent call last)",
      "\u001B[1;32m~\\AppData\\Local\\Temp\\ipykernel_18604\\2022943523.py\u001B[0m in \u001B[0;36m<module>\u001B[1;34m\u001B[0m\n\u001B[0;32m      1\u001B[0m \u001B[1;31m# count of observations for each day based on time\u001B[0m\u001B[1;33m\u001B[0m\u001B[1;33m\u001B[0m\u001B[0m\n\u001B[0;32m      2\u001B[0m \u001B[1;31m# set 'time' as hue parameter\u001B[0m\u001B[1;33m\u001B[0m\u001B[1;33m\u001B[0m\u001B[0m\n\u001B[1;32m----> 3\u001B[1;33m \u001B[0msns\u001B[0m\u001B[1;33m.\u001B[0m\u001B[0mcountplot\u001B[0m\u001B[1;33m(\u001B[0m\u001B[0mx\u001B[0m \u001B[1;33m=\u001B[0m \u001B[1;34m'day'\u001B[0m\u001B[1;33m,\u001B[0m \u001B[0mdata\u001B[0m\u001B[1;33m=\u001B[0m\u001B[0mdata\u001B[0m\u001B[1;33m,\u001B[0m \u001B[0mhue\u001B[0m\u001B[1;33m=\u001B[0m\u001B[1;34m'time'\u001B[0m\u001B[1;33m)\u001B[0m\u001B[1;33m\u001B[0m\u001B[1;33m\u001B[0m\u001B[0m\n\u001B[0m",
      "\u001B[1;31mNameError\u001B[0m: name 'data' is not defined"
     ]
    }
   ],
   "source": [
    "# count of observations for each day based on time\n",
    "# set 'time' as hue parameter\n",
    "sns.countplot(x = 'day', data=data, hue='time') "
   ]
  },
  {
   "cell_type": "markdown",
   "metadata": {
    "id": "TmYH4xv1d31D"
   },
   "source": [
    "**Observations**\n",
    "* All the observations recorded on Saturday and Sunday are for dinner. Observations for lunch on Thursday is highest among lunchtime."
   ]
  },
  {
   "cell_type": "markdown",
   "metadata": {
    "id": "2ARMJ-Pyd31D"
   },
   "source": [
    "<a id=\"list\"> </a>\n",
    "### 1.5 Heatmap\n",
    "\n",
    "<br> Heatmap is a two-dimensional graphical representation of data where the individual values that are contained in a matrix are represented as colors. Each square in the heatmap shows the correlation between variables on each axis."
   ]
  },
  {
   "cell_type": "markdown",
   "metadata": {
    "id": "VJB_7xTCd31D"
   },
   "source": [
    "Compute correlation between the variables using `.corr()` function. "
   ]
  },
  {
   "cell_type": "code",
   "execution_count": null,
   "metadata": {},
   "outputs": [],
   "source": [
    "# Plot a heatmap of the correlation matrix.\n",
    "data.corr()"
   ]
  },
  {
   "cell_type": "code",
   "execution_count": null,
   "metadata": {
    "id": "98kHFNTZd31E",
    "outputId": "572896a9-85c1-4c58-8fa7-5737e7221cf2"
   },
   "outputs": [],
   "source": [
    "# plot heatmap\n",
    "# 'annot=True' returns the correlation values \n",
    "sns.heatmap(data.corr(), annot =True, cmap = 'YlGnBu')"
   ]
  },
  {
   "cell_type": "markdown",
   "metadata": {
    "id": "lFmzcQKnd31E"
   },
   "source": [
    "**Observations**\n",
    "* The above plot shows that there is a moderate correlation between 'total_bill' and 'tip' (0.68). The diagonal values are '1' as it is the correlation of the variable with itself."
   ]
  },
  {
   "cell_type": "markdown",
   "metadata": {},
   "source": [
    "    "
   ]
  },
  {
   "cell_type": "markdown",
   "metadata": {},
   "source": [
    "    "
   ]
  },
  {
   "cell_type": "markdown",
   "metadata": {},
   "source": [
    "## Take home exercise"
   ]
  },
  {
   "cell_type": "markdown",
   "metadata": {
    "id": "V_lbt19rd306"
   },
   "source": [
    "<a name=\"matplotlib\"> </a>\n",
    "# <span style=\"color:Crimson\">2. Matplotlib</span>"
   ]
  },
  {
   "cell_type": "markdown",
   "metadata": {},
   "source": [
    "* `matplotlib.pyplot` is a mostly used package because it is very simple to use and it generates plots in less time.\n",
    "<br><br>\n",
    "* `%matplotlib inline` helps plot the chart without having to use `plt.show( )` everytime. This is useful in Jupyter, but in IDE' like Spyder, we have to do `plt.show( )` to see the chart."
   ]
  },
  {
   "cell_type": "markdown",
   "metadata": {
    "collapsed": true,
    "id": "_0_HD6PPd306"
   },
   "source": [
    "**How to install Matplotlib?**<br>\n",
    "1. You can use-<br>\n",
    "`!pip install matplotlib`<br>"
   ]
  },
  {
   "cell_type": "code",
   "execution_count": null,
   "metadata": {},
   "outputs": [],
   "source": [
    "# Import matplotlib\n",
    "import matplotlib.pyplot as plt"
   ]
  },
  {
   "cell_type": "markdown",
   "metadata": {},
   "source": [
    "    "
   ]
  },
  {
   "cell_type": "markdown",
   "metadata": {
    "id": "6hbJrhlTd307"
   },
   "source": [
    "<a id=\"list\"> </a>\n",
    "### 2.1 Scatter Plot\n",
    "<br>\n",
    "A scatter plot is a set of points plotted on horizontal and vertical axes. The scatter plot can be used to study the correlation between the two variables. One can also detect the extreme data points using a scatter plot.\n",
    "\n",
    "\n"
   ]
  },
  {
   "cell_type": "markdown",
   "metadata": {
    "id": "KLueNBy1d308"
   },
   "source": [
    "#### Plot the scatter plot for the variables 'total_bill' and 'tip'"
   ]
  },
  {
   "cell_type": "code",
   "execution_count": null,
   "metadata": {
    "id": "Nz9GP8J8d308",
    "outputId": "ac02741d-f0de-4fe4-a1e3-f4a360ae2e93"
   },
   "outputs": [],
   "source": [
    "# plot a scatter plot\n",
    "plt.scatter(df['total_bill'],df['tip'])\n",
    "\n",
    "# add the axes labels to the plot\n",
    "plt.title('Scatter Plot')\n",
    "plt.xlabel('Total Bill')\n",
    "plt.ylabel ('Tip')"
   ]
  },
  {
   "cell_type": "markdown",
   "metadata": {
    "id": "MaxOxYsjd308"
   },
   "source": [
    "We can add different colors, opacity, and shape of data points. Let's add these customizations in the above plot."
   ]
  },
  {
   "cell_type": "code",
   "execution_count": null,
   "metadata": {
    "id": "Mn18aMWTd308",
    "outputId": "1a341f63-0e31-49a8-839a-51415b4807d6"
   },
   "outputs": [],
   "source": [
    "x = data['total_bill']\n",
    "y = data['tip']\n",
    "\n",
    "# plot a scatter plot\n",
    "plt.scatter(x,y, c = 'green', alpha = 0.4 )\n",
    "\n",
    "# add the axes labels to the plot\n",
    "plt.title('Scatter Plot')\n",
    "plt.xlabel('Total Bill')\n",
    "plt.ylabel ('Tip')"
   ]
  },
  {
   "cell_type": "markdown",
   "metadata": {
    "id": "e-ASAiaKd309"
   },
   "source": [
    "<a id=\"list\"> </a>\n",
    "### 2.2 Bar Plot\n",
    "<br>\n",
    "* A bar plot is used to display categorical data with bars with lengths proportional to the values that they represent. The comparison between different categories of a categorical variable can be done by studying a bar plot.<br> <br>\n",
    "* In the vertical bar plot, the X-axis displays the categorical variable and Y-axis contains the values corresponding to different categories.\n"
   ]
  },
  {
   "cell_type": "code",
   "execution_count": null,
   "metadata": {},
   "outputs": [],
   "source": [
    "data.head()"
   ]
  },
  {
   "cell_type": "code",
   "execution_count": null,
   "metadata": {
    "id": "IU4xcEMrd309",
    "outputId": "596aef56-ea52-47c9-c5af-68812b8cd584"
   },
   "outputs": [],
   "source": [
    "# the variable 'smoker' is categorical\n",
    "# check categories in the variable\n",
    "set(data['smoker']), set(data['day'])"
   ]
  },
  {
   "cell_type": "code",
   "execution_count": null,
   "metadata": {
    "id": "gwzItcjud309",
    "outputId": "3df1fff5-8396-4aba-98c0-a51a271e85ee"
   },
   "outputs": [],
   "source": [
    "# bar plot to get the count of smokers and non-smokers in the data\n",
    "data['smoker'].value_counts()"
   ]
  },
  {
   "cell_type": "code",
   "execution_count": null,
   "metadata": {},
   "outputs": [],
   "source": [
    "data['smoker'].value_counts().plot(kind = 'bar', rot = 0)"
   ]
  },
  {
   "cell_type": "markdown",
   "metadata": {
    "id": "G5hmFRiKd30-"
   },
   "source": [
    "**Observations**\n",
    "\n",
    "* From the bar plot, it can be interpreted that the proportion of non-smokers is more in the data"
   ]
  },
  {
   "cell_type": "markdown",
   "metadata": {
    "id": "Kx77JuLyd30-"
   },
   "source": [
    "<a id=\"list\"> </a>\n",
    "### 2.3 Pie Plot\n",
    "\n",
    "Pie plot is a graphical representation of univariate data. It is a circular graph divided into slices displaying the numerical proportion. For the categorical variable, each slice of the pie plot corresponds to each of the categories.\n",
    "\n"
   ]
  },
  {
   "cell_type": "code",
   "execution_count": null,
   "metadata": {},
   "outputs": [],
   "source": [
    "data.head()"
   ]
  },
  {
   "cell_type": "code",
   "execution_count": null,
   "metadata": {
    "id": "NrtKjDRBd30-",
    "outputId": "719afc6f-66b9-45dc-c79c-578c261c2859",
    "scrolled": true
   },
   "outputs": [],
   "source": [
    "# categories in the 'day' variable\n",
    "data['day'].value_counts()"
   ]
  },
  {
   "cell_type": "code",
   "execution_count": null,
   "metadata": {
    "id": "1SBvfGrzd30-",
    "outputId": "8e7537e6-97cd-44dd-d5d0-b5e52259bcc7"
   },
   "outputs": [],
   "source": [
    "# plot the occurrence of different days in the dataset\n",
    "\n",
    "# 'autopct' displays the percentage upto 1 decimal place\n",
    "# 'radius' sets the radius of the pie plot\n",
    "plt.pie(data.day.value_counts(), autopct = '%.1f%%', radius = 1.2, labels = ['Sat', 'Sun','Thur','Fri'])\n",
    "\n",
    "\n",
    "# display the plot\n",
    "plt.show()"
   ]
  },
  {
   "cell_type": "markdown",
   "metadata": {
    "id": "vRIuVnyed30-"
   },
   "source": [
    "**Observations**\n",
    "* From the above pie plot, it can be seen that the data has a high proportion for Saturday followed by Sunday."
   ]
  },
  {
   "cell_type": "markdown",
   "metadata": {
    "id": "roZgW5GBd30_"
   },
   "source": [
    "**Exploded pie plot** is a plot in which one or more sectors are separated from the disc. Use `explode = [0,0,0,0.5]`"
   ]
  },
  {
   "cell_type": "code",
   "execution_count": null,
   "metadata": {},
   "outputs": [],
   "source": [
    "# plot the occurrence of different days in the dataset\n",
    "\n",
    "# 'autopct' displays the percentage upto 1 decimal place\n",
    "# 'radius' sets the radius of the pie plot\n",
    "plt.pie(data.day.value_counts(), autopct = '%.1f%%', radius = 1.2, labels = ['Sat', 'Sun','Thur','Fri'],explode = [0,0,0,0.5])\n",
    "\n",
    "\n",
    "# display the plot\n",
    "plt.show()"
   ]
  },
  {
   "cell_type": "markdown",
   "metadata": {
    "id": "-pdMysjVd30_"
   },
   "source": [
    "<a id=\"list\"> </a>\n",
    "### 2.4 Histogram\n",
    "\n",
    "<br>A histogram is used to display the distribution and spread of the continuous variable. One axis represents the range of variable and the other axis shows the frequency of the data points.\n",
    "\n"
   ]
  },
  {
   "cell_type": "markdown",
   "metadata": {
    "id": "EsEZUeord30_"
   },
   "source": [
    "In tips dataset, 'tip' is the continuous variable. Let's plot the histogram to understand the distribution of the variable."
   ]
  },
  {
   "cell_type": "code",
   "execution_count": null,
   "metadata": {},
   "outputs": [],
   "source": [
    "data.head()"
   ]
  },
  {
   "cell_type": "code",
   "execution_count": null,
   "metadata": {
    "id": "Xe0NHXFSd30_",
    "outputId": "5ac5ba0e-a19e-4949-e254-9671fc1cc76b"
   },
   "outputs": [],
   "source": [
    "# plot the histogram\n",
    "plt.hist(data['tip'])\n",
    "\n",
    "# add the graph title and axes labels\n",
    "plt.title('Distribution of tip amount')\n",
    "plt.xlabel('tip')\n",
    "plt.ylabel('Frequency')\n",
    "\n",
    "# display the plot\n",
    "plt.show()\n"
   ]
  },
  {
   "cell_type": "markdown",
   "metadata": {
    "id": "GOqJK5O9d30_"
   },
   "source": [
    "**Observations**\n",
    "* From the above plot, we can see that the tip amount is positively skewed. "
   ]
  },
  {
   "cell_type": "markdown",
   "metadata": {
    "id": "--dKxfTZd30_"
   },
   "source": [
    "<a id=\"list\"> </a>\n",
    "### 2.5 Box Plot\n",
    "<br>Boxplot is a way to visualize the five-number summary of the variable. The five-number summary includes the numerical quantities like minimum, first quartile (Q1), median (Q2), third quartile (Q3), and maximum. Boxplot gives information about the outliers in the data. Detecting and removing outliers is one of the most important steps in exploratory data analysis. Boxplots also tells about the distribution of the data.\n"
   ]
  },
  {
   "cell_type": "markdown",
   "metadata": {
    "id": "-8EJiW11d31A"
   },
   "source": [
    "Plot the boxplot of `'total_bill'` to check the distribution and presence of outliers in the variable."
   ]
  },
  {
   "cell_type": "code",
   "execution_count": null,
   "metadata": {
    "id": "Yt84USAOd31A",
    "outputId": "13269016-752a-4643-87db-d85e5cc907c5"
   },
   "outputs": [],
   "source": [
    "# plot a distribution of total bill\n",
    "plt.boxplot(data['total_bill'])\n",
    "\n",
    "# sns.boxplot(x='sex', y='tip', data=df)\n",
    "\n",
    "# add labels for five number summary\n",
    "plt.text(x = 1.1, y = data['total_bill'].min(), s ='min')\n",
    "# plt.text(x = 1.1, y = data.total_bill.quantile(0.25), s ='Q1')\n",
    "# plt.text(x = 1.1, y = data['total_bill'].median(), s ='meadian (Q2)')\n",
    "# plt.text(x = 1.1, y = data.total_bill.quantile(0.75), s ='Q3')\n",
    "# plt.text(x = 1.1, y = data['total_bill'].max(), s ='max')\n",
    "\n",
    "\n",
    "# add the graph title and axes labels\n",
    "plt.title('Boxplot of Total Bill Amount')\n",
    "plt.ylabel('Total bill')\n",
    "\n",
    "# display the plot\n",
    "plt.show()"
   ]
  },
  {
   "cell_type": "markdown",
   "metadata": {},
   "source": [
    "### 2.6 Subplots"
   ]
  },
  {
   "cell_type": "markdown",
   "metadata": {},
   "source": [
    "`pyplot.subplot()` is a function in the matplotlib library that creates multiple subplots in a single figure. It takes three integer arguments: `numrows`, `numcols`, and `plot_number` where `plot_number` ranges from 1 to numrows * numcols"
   ]
  },
  {
   "cell_type": "code",
   "execution_count": 13,
   "outputs": [],
   "source": [
    "tips = sns.load_dataset('tips')"
   ],
   "metadata": {
    "collapsed": false
   }
  },
  {
   "cell_type": "code",
   "execution_count": 15,
   "outputs": [
    {
     "data": {
      "text/plain": "<AxesSubplot:>"
     },
     "execution_count": 15,
     "metadata": {},
     "output_type": "execute_result"
    },
    {
     "data": {
      "text/plain": "<Figure size 640x480 with 1 Axes>",
      "image/png": "[encoded data removed]"
     },
     "metadata": {},
     "output_type": "display_data"
    }
   ],
   "source": [
    "tips.smoker.value_counts().plot(kind = 'bar')"
   ],
   "metadata": {
    "collapsed": false
   }
  },
  {
   "cell_type": "code",
   "execution_count": null,
   "metadata": {},
   "outputs": [],
   "source": [
    "# If you need multiple plots in the same canvas\n",
    "# plt.subplot(no. of rows, no. of columns, position of the chart)\n",
    "plt.figure(figsize = (10,10))\n",
    "\n",
    "plt.subplot(2,2,1)\n",
    "sns.heatmap(data.corr(), annot =True, cmap = 'YlGnBu')\n",
    "\n",
    "plt.subplot(2,2,2)\n",
    "sns.countplot(x = 'day', data=data, hue='time') \n",
    "\n",
    "plt.subplot(2,2,3)\n",
    "sns.distplot(data['total_bill'],hist=False)"
   ]
  },
  {
   "cell_type": "markdown",
   "metadata": {},
   "source": [
    "    "
   ]
  }
 ],
 "metadata": {
  "colab": {
   "name": "Data Visualization Jupyter Notebook.ipynb",
   "provenance": []
  },
  "kernelspec": {
   "display_name": "Python 3 (ipykernel)",
   "language": "python",
   "name": "python3"
  },
  "language_info": {
   "codemirror_mode": {
    "name": "ipython",
    "version": 3
   },
   "file_extension": ".py",
   "mimetype": "text/x-python",
   "name": "python",
   "nbconvert_exporter": "python",
   "pygments_lexer": "ipython3",
   "version": "3.9.13"
  }
 },
 "nbformat": 4,
 "nbformat_minor": 1
}
