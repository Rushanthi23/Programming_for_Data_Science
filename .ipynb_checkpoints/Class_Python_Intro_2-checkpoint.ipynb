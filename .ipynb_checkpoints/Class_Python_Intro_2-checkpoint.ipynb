{
 "cells": [
  {
   "cell_type": "markdown",
   "metadata": {
    "collapsed": true,
    "id": "VZC0Jb6dgBFM"
   },
   "source": [
    "# Contents\n",
    "\n",
    "1. **[Introduction to List](#list)**\n",
    "2. **[Introduction to Tuple](#tuple)**\n",
    "3. **[Introduction to Dictionary](#Dictionary)**\n",
    "3. **[Introduction to Sets](#sets)**"
   ]
  },
  {
   "cell_type": "markdown",
   "metadata": {
    "id": "4NLXGP7CgBFO"
   },
   "source": [
    "<a id=\"list\"> </a>\n",
    "## <span style=\"color:darkolivegreen\">**1. Introduction to List**</span>\n"
   ]
  },
  {
   "cell_type": "markdown",
   "metadata": {
    "id": "QqZoGOCsgBFP"
   },
   "source": [
    "### Constructing Lists\n",
    "\n",
    "To create a list, use square brackets `[ ]` and separate items in the list with commas.\n",
    "A list can be empty or contain any number of items with different data types (integers, float, strings, etc.)"
   ]
  },
  {
   "cell_type": "code",
   "execution_count": null,
   "metadata": {
    "id": "UraWAxswgBFQ"
   },
   "outputs": [],
   "source": [
    "#create a list\n"
   ]
  },
  {
   "cell_type": "markdown",
   "metadata": {
    "id": "Urz3y22hgBFW"
   },
   "source": [
    "### Acessing Elements in a List\n",
    "You can access the list items by referring to the index number"
   ]
  },
  {
   "cell_type": "markdown",
   "metadata": {
    "id": "gn7hkvCegBFX"
   },
   "source": [
    "**Indexing:**<br>\n",
    "We use the index operator `[ ]`. Note that the index starts from 0 in python and must be an integer"
   ]
  },
  {
   "cell_type": "code",
   "execution_count": 3,
   "metadata": {
    "id": "NbWA-bH0htyv"
   },
   "outputs": [],
   "source": [
    "#Inclusive and Exclusive in Python\n"
   ]
  },
  {
   "cell_type": "code",
   "execution_count": 9,
   "metadata": {
    "id": "vX_CxZ_VgBFX"
   },
   "outputs": [],
   "source": [
    "#Print the second item of the list\n"
   ]
  },
  {
   "cell_type": "markdown",
   "metadata": {},
   "source": [
    "    "
   ]
  },
  {
   "cell_type": "markdown",
   "metadata": {
    "id": "N3TiHDDIgBFY"
   },
   "source": [
    "**Negative Indexing**:<br>\n",
    "Negative indexing means beginning from the end, -1 refers to the last item, -2 refers to the second last item"
   ]
  },
  {
   "cell_type": "code",
   "execution_count": null,
   "metadata": {
    "id": "1seE_9wugBFa"
   },
   "outputs": [],
   "source": [
    "#Print the second last item of the list\n"
   ]
  },
  {
   "cell_type": "markdown",
   "metadata": {
    "id": "5VX0PoidgBFa"
   },
   "source": [
    "### Slicing of a List\n",
    "List uses the slicing operator `:` (colon) to extract part of the sequence"
   ]
  },
  {
   "cell_type": "code",
   "execution_count": null,
   "metadata": {
    "id": "LFHUzio_gBFb"
   },
   "outputs": [],
   "source": [
    "#Return first three elements from the list\n"
   ]
  },
  {
   "cell_type": "markdown",
   "metadata": {
    "id": "ydItSoJYgBFe"
   },
   "source": [
    "### Change Item Value\n",
    "Refer the index number to change the value of a specific item"
   ]
  },
  {
   "cell_type": "code",
   "execution_count": 3,
   "metadata": {
    "id": "P6J-PRRJgBFe"
   },
   "outputs": [],
   "source": [
    "#change the third item\n"
   ]
  },
  {
   "cell_type": "markdown",
   "metadata": {
    "id": "LNvMI02AgBFe"
   },
   "source": [
    "### List Methods\n",
    "Python has a set of built-in methods that you can use on lists. Some examples are:<br>\n",
    "\n",
    "`append()`<br>\n",
    "`insert()`<br>\n",
    "`reverse()`<br>\n",
    "\n",
    "You can press the `tab` key to see the list of available methods "
   ]
  },
  {
   "cell_type": "markdown",
   "metadata": {},
   "source": [
    "    "
   ]
  },
  {
   "cell_type": "markdown",
   "metadata": {
    "id": "64xQQaXYgBFf"
   },
   "source": [
    "**`list.append()`**<br>\n",
    "This method will add the element at the end of a list"
   ]
  },
  {
   "cell_type": "code",
   "execution_count": null,
   "metadata": {
    "id": "ErTxcpcUgBFf"
   },
   "outputs": [],
   "source": [
    "# add element to the list\n"
   ]
  },
  {
   "cell_type": "markdown",
   "metadata": {
    "id": "f4yXJihggBFg"
   },
   "source": [
    "**`list.insert(i, item)`**<br>\n",
    "This method will insert an element at the ith index in a list"
   ]
  },
  {
   "cell_type": "code",
   "execution_count": 3,
   "metadata": {
    "id": "cZTbpyNZgBFg"
   },
   "outputs": [],
   "source": [
    "# insert element at 2nd index in a list\n"
   ]
  },
  {
   "cell_type": "markdown",
   "metadata": {
    "id": "UnJqmVt3gBFi"
   },
   "source": [
    "**`list.reverse()`**<br>\n",
    "This method reverses the sorting order of the elements"
   ]
  },
  {
   "cell_type": "code",
   "execution_count": 3,
   "metadata": {
    "id": "_zGEMyaqgBFj"
   },
   "outputs": [],
   "source": [
    "# reverse the elements in the list\n"
   ]
  },
  {
   "cell_type": "markdown",
   "metadata": {},
   "source": [
    "    "
   ]
  },
  {
   "cell_type": "markdown",
   "metadata": {},
   "source": [
    "    "
   ]
  },
  {
   "cell_type": "markdown",
   "metadata": {
    "id": "WvUtNDg8gBFl"
   },
   "source": [
    "<a id=\"tuple\"> </a>\n",
    "## <span style=\"color:darkolivegreen\">**2. Introduction to Tuple**</span>"
   ]
  },
  {
   "cell_type": "markdown",
   "metadata": {
    "id": "rcH1Hn_AgBFm"
   },
   "source": [
    "### Creating Tuple\n",
    "We can have tuple of same type of data items as well as mixed type of data items "
   ]
  },
  {
   "cell_type": "code",
   "execution_count": 3,
   "metadata": {
    "id": "z-NuTyQYgBFm"
   },
   "outputs": [],
   "source": [
    "# Create a tuple of int, float, string\n"
   ]
  },
  {
   "cell_type": "markdown",
   "metadata": {
    "id": "BrVHJy0igBFn"
   },
   "source": [
    "### Access Tuple Elements\n",
    "We use indexes to access the elements of a tuple"
   ]
  },
  {
   "cell_type": "code",
   "execution_count": 3,
   "metadata": {
    "id": "4FlBcwcsgBFn"
   },
   "outputs": [],
   "source": [
    "# access the second element from the tuple\n"
   ]
  },
  {
   "cell_type": "markdown",
   "metadata": {
    "id": "BGiFfk93gBFn"
   },
   "source": [
    "### Change Tuple Values\n",
    "We cannot change the elements of a tuple because elements of <span style=\"color:crimson\">tuples are immutable</span>."
   ]
  },
  {
   "cell_type": "code",
   "execution_count": 3,
   "metadata": {
    "id": "oXSuXF7CgBFo"
   },
   "outputs": [],
   "source": [
    "# change the second element from the tuple\n"
   ]
  },
  {
   "cell_type": "markdown",
   "metadata": {
    "id": "oadoHDJzgBFo"
   },
   "source": [
    "### Delete Operation on Tuple\n",
    "As discussed tuple elements are immutable which also means that we <span style=\"color:crimson\">cannot delete the elements of a tuple</span>. However deleting entire tuple is possible"
   ]
  },
  {
   "cell_type": "code",
   "execution_count": 6,
   "metadata": {
    "id": "9m-iGGaWgBFo"
   },
   "outputs": [],
   "source": [
    "# delete element from the tuple\n"
   ]
  },
  {
   "cell_type": "markdown",
   "metadata": {
    "id": "_Zw2-j80gBFp"
   },
   "source": [
    "### Tuple Methods"
   ]
  },
  {
   "cell_type": "markdown",
   "metadata": {
    "id": "B48uZoq8gBFp"
   },
   "source": [
    "Python has built-in methods that you can use on tuples:<br>\n",
    "\n",
    "`count()`<br>\n",
    "`index()`<br>\n",
    "\n",
    "You can press the `tab` key to see the list of available methods "
   ]
  },
  {
   "cell_type": "markdown",
   "metadata": {
    "id": "1IiNxLlngBFp"
   },
   "source": [
    "**`tuple.count()`**<br>\n",
    "Returns the **number of times** a specified value occurs in a tuple"
   ]
  },
  {
   "cell_type": "code",
   "execution_count": null,
   "metadata": {
    "id": "6FBZXgEIgBFp"
   },
   "outputs": [],
   "source": []
  },
  {
   "cell_type": "markdown",
   "metadata": {
    "id": "kW-d6_X-gBFp"
   },
   "source": [
    "**`tuple.index()`**<br>\n",
    "Searches the tuple for a specified value and returns the position of **where** it was found"
   ]
  },
  {
   "cell_type": "code",
   "execution_count": 6,
   "metadata": {
    "id": "rY5qWJM_gBFq"
   },
   "outputs": [],
   "source": []
  },
  {
   "cell_type": "markdown",
   "metadata": {},
   "source": [
    "    "
   ]
  },
  {
   "cell_type": "markdown",
   "metadata": {},
   "source": [
    "    "
   ]
  },
  {
   "cell_type": "markdown",
   "metadata": {},
   "source": [
    "<a id=\"Dictionary\"> </a>\n",
    "## <span style=\"color:darkolivegreen\">**3. Introduction to Dictionary**</span>"
   ]
  },
  {
   "cell_type": "markdown",
   "metadata": {},
   "source": [
    "**General Syntax of Dictionary:**<br>\n",
    "dictionary_name = {&nbsp;key_1: value_1,<br>\n",
    "&nbsp;&nbsp;&nbsp;&nbsp;&nbsp;&nbsp;&nbsp;&nbsp;&nbsp;&nbsp;&nbsp;&nbsp;&nbsp;&nbsp;&nbsp;&nbsp;&nbsp;&nbsp;&nbsp;&nbsp;&nbsp;&nbsp;&nbsp;&nbsp;&nbsp;&nbsp;&nbsp;&nbsp;&nbsp;&nbsp;&nbsp;&nbsp;                   key_2: value_2,<br>\n",
    "&nbsp;&nbsp;&nbsp;&nbsp;&nbsp;&nbsp;&nbsp;&nbsp;&nbsp;&nbsp;&nbsp;&nbsp;&nbsp;&nbsp;&nbsp;&nbsp;&nbsp;&nbsp;&nbsp;&nbsp;&nbsp;&nbsp;&nbsp;&nbsp;&nbsp;&nbsp;&nbsp;&nbsp;&nbsp;&nbsp;&nbsp;&nbsp;                    key_3: value_3,<br>\n",
    "&nbsp;&nbsp;&nbsp;&nbsp;&nbsp;&nbsp;&nbsp;&nbsp;&nbsp;&nbsp;&nbsp;&nbsp;&nbsp;&nbsp;&nbsp;&nbsp;&nbsp;&nbsp;&nbsp;&nbsp;&nbsp;&nbsp;&nbsp;&nbsp;&nbsp;&nbsp;&nbsp;&nbsp;&nbsp;&nbsp;&nbsp;&nbsp;                    }"
   ]
  },
  {
   "cell_type": "markdown",
   "metadata": {},
   "source": [
    "    "
   ]
  },
  {
   "cell_type": "markdown",
   "metadata": {},
   "source": [
    "### Create a Dictionary\n",
    "Separate keys from values with a colon `:` and a pair from another by a comma `,` Put it all in curly `{}` braces"
   ]
  },
  {
   "cell_type": "code",
   "execution_count": 1,
   "metadata": {},
   "outputs": [],
   "source": [
    "# Create a dictionary\n"
   ]
  },
  {
   "cell_type": "markdown",
   "metadata": {},
   "source": [
    "    "
   ]
  },
  {
   "cell_type": "markdown",
   "metadata": {},
   "source": [
    "### Accessing Items\n",
    "You can access the items of a dictionary by referring to its `key name`, inside square brackets"
   ]
  },
  {
   "cell_type": "code",
   "execution_count": 2,
   "metadata": {},
   "outputs": [],
   "source": [
    "# Get the value of a key\n"
   ]
  },
  {
   "cell_type": "markdown",
   "metadata": {},
   "source": [
    "    "
   ]
  },
  {
   "cell_type": "markdown",
   "metadata": {},
   "source": [
    "### Change Values\n",
    "Dictionary is <span style=\"color:crimson\">mutable</span>. You can change the value of a specific element by referring to its `key name`"
   ]
  },
  {
   "cell_type": "code",
   "execution_count": 3,
   "metadata": {},
   "outputs": [],
   "source": [
    "# Change a value\n"
   ]
  },
  {
   "cell_type": "markdown",
   "metadata": {},
   "source": [
    "### **Adding Items**\n",
    "Adding an item to the dictionary is done by using a new index key and assigning a value to it."
   ]
  },
  {
   "cell_type": "code",
   "execution_count": 11,
   "metadata": {},
   "outputs": [],
   "source": [
    "# Add new item to the dictionary\n"
   ]
  },
  {
   "cell_type": "markdown",
   "metadata": {},
   "source": [
    "    "
   ]
  },
  {
   "cell_type": "markdown",
   "metadata": {},
   "source": [
    "### Dictionary Methods"
   ]
  },
  {
   "cell_type": "markdown",
   "metadata": {},
   "source": [
    "There are several methods that you can use on a dictionary:<br>\n",
    "\n",
    "`pop()`<br>\n",
    "`clear()`\n",
    "\n",
    "You can press the `tab` key to see the list of available methods "
   ]
  },
  {
   "cell_type": "markdown",
   "metadata": {},
   "source": [
    "**`dict.pop()`**<br>\n",
    "This method removes the item with the specified key name"
   ]
  },
  {
   "cell_type": "code",
   "execution_count": 12,
   "metadata": {},
   "outputs": [],
   "source": [
    "#remove a key from the dictionary\n"
   ]
  },
  {
   "cell_type": "markdown",
   "metadata": {},
   "source": [
    "    "
   ]
  },
  {
   "cell_type": "markdown",
   "metadata": {},
   "source": [
    "**`dict.clear()`**<br>\n",
    "This method empties the entire dictionary"
   ]
  },
  {
   "cell_type": "code",
   "execution_count": 13,
   "metadata": {},
   "outputs": [],
   "source": [
    "#clear the dictionary\n"
   ]
  },
  {
   "cell_type": "markdown",
   "metadata": {},
   "source": [
    "    "
   ]
  },
  {
   "cell_type": "markdown",
   "metadata": {},
   "source": [
    "<a id=\"sets\"> </a>\n",
    "## <span style=\"color:darkolivegreen\">**4. Introduction to Sets**</span>"
   ]
  },
  {
   "cell_type": "markdown",
   "metadata": {},
   "source": [
    "### Creating a Set\n",
    "In Python sets are written with curly `{}`brackets "
   ]
  },
  {
   "cell_type": "code",
   "execution_count": 1,
   "metadata": {},
   "outputs": [],
   "source": [
    "# create a set\n",
    "s = {1,2,3}\n",
    "s.update()"
   ]
  },
  {
   "cell_type": "markdown",
   "metadata": {},
   "source": [
    "    "
   ]
  },
  {
   "cell_type": "markdown",
   "metadata": {},
   "source": [
    "**Try it yourself.**\n",
    "\n",
    "Python has the following methods that you can use on sets:<br>\n",
    "\n",
    "`add()`<br>\n",
    "`update()`<br>\n",
    "`len()`<br>\n",
    "`pop()`<br>"
   ]
  },
  {
   "cell_type": "code",
   "execution_count": null,
   "metadata": {},
   "outputs": [],
   "source": []
  }
 ],
 "metadata": {
  "colab": {
   "name": "Python Intro 2.ipynb",
   "provenance": []
  },
  "kernelspec": {
   "display_name": "Python 3 (ipykernel)",
   "language": "python",
   "name": "python3"
  },
  "language_info": {
   "codemirror_mode": {
    "name": "ipython",
    "version": 3
   },
   "file_extension": ".py",
   "mimetype": "text/x-python",
   "name": "python",
   "nbconvert_exporter": "python",
   "pygments_lexer": "ipython3",
   "version": "3.9.13"
  }
 },
 "nbformat": 4,
 "nbformat_minor": 1
}
