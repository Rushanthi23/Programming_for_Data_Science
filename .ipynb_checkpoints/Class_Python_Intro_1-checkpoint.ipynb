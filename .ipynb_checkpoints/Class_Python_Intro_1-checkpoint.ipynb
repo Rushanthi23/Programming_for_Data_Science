{
 "cells": [
  {
   "cell_type": "markdown",
   "metadata": {
    "id": "ftCxC4m1WwN4"
   },
   "source": [
    "## **Python Variables**"
   ]
  },
  {
   "cell_type": "markdown",
   "metadata": {
    "id": "loqrEgAPWwN6"
   },
   "source": [
    "#### Declaring and assigning a value to a variable\n",
    "We use the assignment operator  '='  to assign a value to a variable."
   ]
  },
  {
   "cell_type": "code",
   "execution_count": 1,
   "metadata": {
    "id": "EEiXyGNbWwN7"
   },
   "outputs": [],
   "source": [
    "num = 20"
   ]
  },
  {
   "cell_type": "code",
   "execution_count": 2,
   "metadata": {},
   "outputs": [
    {
     "data": {
      "text/plain": [
       "20"
      ]
     },
     "execution_count": 2,
     "metadata": {},
     "output_type": "execute_result"
    }
   ],
   "source": [
    "num"
   ]
  },
  {
   "cell_type": "markdown",
   "metadata": {
    "id": "Rge6hHBdWwN9"
   },
   "source": [
    "The operand to the left of the = operator is the name of the variable and the operand to the right of the = operator is the value stored in the variable. Here, we have created a variabe named `'num'` and we have assigned value `20` to `'num'` variable."
   ]
  },
  {
   "cell_type": "markdown",
   "metadata": {
    "id": "PKGTWcsRWwN-"
   },
   "source": [
    "#### Multiple assignments\n",
    "Python allows you to assign a single value to several variables simultaneously. For example −"
   ]
  },
  {
   "cell_type": "code",
   "execution_count": 4,
   "metadata": {
    "id": "PRlyM9DOWwN_"
   },
   "outputs": [],
   "source": [
    "x=y=z=30"
   ]
  },
  {
   "cell_type": "code",
   "execution_count": 5,
   "metadata": {},
   "outputs": [
    {
     "data": {
      "text/plain": [
       "30"
      ]
     },
     "execution_count": 5,
     "metadata": {},
     "output_type": "execute_result"
    }
   ],
   "source": [
    "z"
   ]
  },
  {
   "cell_type": "markdown",
   "metadata": {
    "id": "65HAH67RWwOB"
   },
   "source": [
    "You can also assign multiple objects to multiple variables"
   ]
  },
  {
   "cell_type": "code",
   "execution_count": 6,
   "metadata": {
    "id": "rOUYRr38WwOB"
   },
   "outputs": [],
   "source": [
    "x,y,z = 30,50,'hello'"
   ]
  },
  {
   "cell_type": "code",
   "execution_count": 8,
   "metadata": {},
   "outputs": [
    {
     "name": "stdout",
     "output_type": "stream",
     "text": [
      "It's a dog\n"
     ]
    }
   ],
   "source": [
    "print(\"It's a dog\")"
   ]
  },
  {
   "cell_type": "code",
   "execution_count": 9,
   "metadata": {},
   "outputs": [
    {
     "data": {
      "text/plain": [
       "'hello'"
      ]
     },
     "execution_count": 9,
     "metadata": {},
     "output_type": "execute_result"
    }
   ],
   "source": [
    "z"
   ]
  },
  {
   "cell_type": "markdown",
   "metadata": {
    "id": "XcpVNMYeF9Qp"
   },
   "source": [
    "#### Re-assigning a variable"
   ]
  },
  {
   "cell_type": "code",
   "execution_count": 11,
   "metadata": {},
   "outputs": [],
   "source": [
    "var1 = 20\n",
    "var2 = 'Rushanthi'\n",
    "var1 = var2"
   ]
  },
  {
   "cell_type": "code",
   "execution_count": 12,
   "metadata": {
    "id": "i9okOotLF9Qq"
   },
   "outputs": [
    {
     "data": {
      "text/plain": [
       "'Rushanthi'"
      ]
     },
     "execution_count": 12,
     "metadata": {},
     "output_type": "execute_result"
    }
   ],
   "source": [
    "var1"
   ]
  },
  {
   "cell_type": "markdown",
   "metadata": {
    "id": "ilx9djl-WwOE"
   },
   "source": [
    "\n",
    "## **Python Data Types**\n",
    "\n",
    "A data type is an attribute of data which tells the compiler or interpreter how the programmer intends to use the data. Python supports the following Python data types:\n",
    "\n",
    "\n",
    "*   Numbers\n",
    "*   Strings\n",
    "*   Boolean\n",
    "*   Lists\n",
    "*   Tuples\n",
    "*   Dictionaries\n",
    "*   Sets\n",
    "\n",
    "\n",
    "\n",
    "\n",
    "\n",
    "\n",
    "\n",
    "\n",
    "      \n",
    "\n"
   ]
  },
  {
   "cell_type": "markdown",
   "metadata": {
    "id": "IZJAzajfWwOF"
   },
   "source": [
    "<a id=\"num\"> </a>\n",
    "### Python Numbers\n",
    "There are four numeric Python data type:<br>\n",
    "a. int (signed integers)<br>\n",
    "b. float (floating point real values)<br>\n",
    "c. long (long integers, they can also be represented in octal and hexadecimal)<br>\n",
    "d. complex (complex numbers)\n",
    "\n",
    "<table>\n",
    "  <tr>\n",
    "  <th>int</th>\n",
    "  <th>float</th>\n",
    "  <th>long</th>\n",
    "  <th>complex</th>\n",
    "  </tr>\n",
    "  <tr>\n",
    "  <td>100</td>\n",
    "  <td>52.1</td>\n",
    "  <td>012345L</td>\n",
    "  <td>2+5j</td>  \n",
    "  </tr>\n",
    "  <tr>\n",
    "  <td>70</td>\n",
    "  <td>0.01</td>\n",
    "  <td>-987652L</td>\n",
    "  <td>1.18j</td>\n",
    "  </tr>\n",
    "  <tr>\n",
    "  <td>-150</td>\n",
    "  <td>1.626e16</td>\n",
    "  <td>10000000000000000</td>\n",
    "  <td>-10j</td>\n",
    "  </tr>\n",
    "</table>"
   ]
  },
  {
   "cell_type": "markdown",
   "metadata": {
    "id": "U6hFAQM8WwOF"
   },
   "source": [
    "#### int\n",
    "'int' stands for integer. This Python Data Type holds signed integers. We can use the type() function to find which class it belongs to."
   ]
  },
  {
   "cell_type": "code",
   "execution_count": 13,
   "metadata": {
    "id": "gD08tb_oWwOG"
   },
   "outputs": [
    {
     "data": {
      "text/plain": [
       "int"
      ]
     },
     "execution_count": 13,
     "metadata": {},
     "output_type": "execute_result"
    }
   ],
   "source": [
    "type(num)"
   ]
  },
  {
   "cell_type": "markdown",
   "metadata": {
    "id": "kcwZsEBnWwOL"
   },
   "source": [
    "#### float"
   ]
  },
  {
   "cell_type": "code",
   "execution_count": 14,
   "metadata": {
    "id": "gzRxX7LwWwOL"
   },
   "outputs": [
    {
     "data": {
      "text/plain": [
       "float"
      ]
     },
     "execution_count": 14,
     "metadata": {},
     "output_type": "execute_result"
    }
   ],
   "source": [
    "num = 1.23\n",
    "type(num)"
   ]
  },
  {
   "cell_type": "markdown",
   "metadata": {
    "id": "FSSMkUsYWwOQ"
   },
   "source": [
    "#### long"
   ]
  },
  {
   "cell_type": "markdown",
   "metadata": {
    "id": "KUu1KWCuWwOT"
   },
   "source": [
    "Long does not exist in Python 3 onwards"
   ]
  },
  {
   "cell_type": "code",
   "execution_count": 15,
   "metadata": {
    "id": "D4mAkQ29WwOR"
   },
   "outputs": [
    {
     "data": {
      "text/plain": [
       "float"
      ]
     },
     "execution_count": 15,
     "metadata": {},
     "output_type": "execute_result"
    }
   ],
   "source": [
    "x = 99999999999999999999999999999999999999999999999\n",
    "type(num)"
   ]
  },
  {
   "cell_type": "markdown",
   "metadata": {
    "id": "apmbFzZHWwOT"
   },
   "source": [
    "#### complex"
   ]
  },
  {
   "cell_type": "markdown",
   "metadata": {
    "id": "MvcGz2B9_6H-"
   },
   "source": [
    "Complex numbers are not used much in Python"
   ]
  },
  {
   "cell_type": "code",
   "execution_count": 17,
   "metadata": {
    "id": "gp5-Bm5MWwOU"
   },
   "outputs": [
    {
     "data": {
      "text/plain": [
       "complex"
      ]
     },
     "execution_count": 17,
     "metadata": {},
     "output_type": "execute_result"
    }
   ],
   "source": [
    "y = 3+4j\n",
    "type(y)"
   ]
  },
  {
   "cell_type": "markdown",
   "metadata": {
    "id": "T41pYrW8WwOX"
   },
   "source": [
    "<a id=\"str\"> </a>\n",
    "### Python Strings"
   ]
  },
  {
   "cell_type": "markdown",
   "metadata": {
    "id": "RSA1gdoeWwOY"
   },
   "source": [
    "A string is a sequence of characters. You can delimit a string using single quotes `'string'` or double-quotes `\"string\"`."
   ]
  },
  {
   "cell_type": "code",
   "execution_count": 18,
   "metadata": {
    "id": "XrVRb1yqWwOY"
   },
   "outputs": [
    {
     "data": {
      "text/plain": [
       "'Hello'"
      ]
     },
     "execution_count": 18,
     "metadata": {},
     "output_type": "execute_result"
    }
   ],
   "source": [
    "str1 = \"Hello\"\n",
    "str1"
   ]
  },
  {
   "cell_type": "code",
   "execution_count": 19,
   "metadata": {},
   "outputs": [
    {
     "data": {
      "text/plain": [
       "str"
      ]
     },
     "execution_count": 19,
     "metadata": {},
     "output_type": "execute_result"
    }
   ],
   "source": [
    "type(str1)"
   ]
  },
  {
   "cell_type": "code",
   "execution_count": 21,
   "metadata": {},
   "outputs": [],
   "source": [
    "str2 = \"Hello\""
   ]
  },
  {
   "cell_type": "raw",
   "metadata": {},
   "source": [
    "str2 = \"Helo\""
   ]
  },
  {
   "cell_type": "markdown",
   "metadata": {
    "id": "xX5bTc8aWwOa"
   },
   "source": [
    "**String operations**\n",
    "\n",
    "The plus (+) sign is the string concatenation operator and the asterisk (*) is the repetition operator.\n",
    "\n",
    "You cannot use the minus(-) operator and the division(/) operator on strings."
   ]
  },
  {
   "cell_type": "code",
   "execution_count": 22,
   "metadata": {
    "id": "I7T09aV_WwOb"
   },
   "outputs": [
    {
     "data": {
      "text/plain": [
       "'HelloHello'"
      ]
     },
     "execution_count": 22,
     "metadata": {},
     "output_type": "execute_result"
    }
   ],
   "source": [
    "#Print a concatenated string    \n",
    "str1 +str2"
   ]
  },
  {
   "cell_type": "code",
   "execution_count": 23,
   "metadata": {
    "id": "YgJ_RdB_WwOd"
   },
   "outputs": [
    {
     "data": {
      "text/plain": [
       "'HelloHelloHello'"
      ]
     },
     "execution_count": 23,
     "metadata": {},
     "output_type": "execute_result"
    }
   ],
   "source": [
    "#Print a string three times   \n",
    "str1 * 3"
   ]
  },
  {
   "cell_type": "markdown",
   "metadata": {
    "id": "D3D5pz2TWwOf"
   },
   "source": [
    "**Indexing in Python**\n",
    "\n",
    "Subsets of strings can be taken using the slice operator ([ ]). You can display a character from a string using its index in the string. Remember, indexing in python starts with `0`"
   ]
  },
  {
   "cell_type": "code",
   "execution_count": 24,
   "metadata": {
    "id": "FcOZ-f9SWwOh"
   },
   "outputs": [
    {
     "data": {
      "text/plain": [
       "'l'"
      ]
     },
     "execution_count": 24,
     "metadata": {},
     "output_type": "execute_result"
    }
   ],
   "source": [
    "#Print third character of the string\n",
    "str1[2]"
   ]
  },
  {
   "cell_type": "code",
   "execution_count": 25,
   "metadata": {},
   "outputs": [
    {
     "data": {
      "text/plain": [
       "'H'"
      ]
     },
     "execution_count": 25,
     "metadata": {},
     "output_type": "execute_result"
    }
   ],
   "source": [
    "str1[0]"
   ]
  },
  {
   "cell_type": "code",
   "execution_count": 27,
   "metadata": {},
   "outputs": [
    {
     "data": {
      "text/plain": [
       "'ell'"
      ]
     },
     "execution_count": 27,
     "metadata": {},
     "output_type": "execute_result"
    }
   ],
   "source": [
    "str1[1:4]\n",
    "#1 is inclusive and 4 is exclusive section"
   ]
  },
  {
   "cell_type": "markdown",
   "metadata": {
    "id": "rmacECWIWwOj"
   },
   "source": [
    "You can also display a range of characters in a string using the slicing operator with indexes starting at 0 in the beginning of the string and working their way from -1 at the end."
   ]
  },
  {
   "cell_type": "code",
   "execution_count": 28,
   "metadata": {
    "id": "JDHvadR_WwOj"
   },
   "outputs": [
    {
     "data": {
      "text/plain": [
       "'o'"
      ]
     },
     "execution_count": 28,
     "metadata": {},
     "output_type": "execute_result"
    }
   ],
   "source": [
    "# Print the last character\n",
    "str1[-1]"
   ]
  },
  {
   "cell_type": "code",
   "execution_count": null,
   "metadata": {},
   "outputs": [],
   "source": []
  },
  {
   "cell_type": "markdown",
   "metadata": {
    "id": "lqGsgw_6WwOl"
   },
   "source": [
    "Strings are immutable."
   ]
  },
  {
   "cell_type": "code",
   "execution_count": 9,
   "metadata": {
    "id": "SGqCKsZBWwOl"
   },
   "outputs": [],
   "source": []
  },
  {
   "cell_type": "markdown",
   "metadata": {
    "id": "pfuknDsgF9Rn"
   },
   "source": [
    "<a id=\"bool\"> </a>\n",
    "### Python Boolean\n",
    "In Python programming language, the Boolean datatype is a primitive datatype having one of two values: **True** or **False**."
   ]
  },
  {
   "cell_type": "code",
   "execution_count": 9,
   "metadata": {
    "id": "MZWZ-vhsF9Ro"
   },
   "outputs": [],
   "source": []
  },
  {
   "cell_type": "markdown",
   "metadata": {
    "id": "EVRWwplyWwPK"
   },
   "source": [
    "<a id=\"typecon\"> </a>\n",
    "## **Type Conversion**\n",
    "If you want to convert a value into another type, Python supports different type conversion functions like int(), float(), str() etc."
   ]
  },
  {
   "cell_type": "markdown",
   "metadata": {
    "id": "boCcUiw1WwPK"
   },
   "source": [
    "#### float()\n",
    "It converts the passed value into a float."
   ]
  },
  {
   "cell_type": "code",
   "execution_count": 10,
   "metadata": {
    "id": "rs0NOMBhWwPK"
   },
   "outputs": [],
   "source": []
  },
  {
   "cell_type": "markdown",
   "metadata": {
    "id": "hz5JQDNDWwPM"
   },
   "source": [
    "You can turn a Boolean into an float."
   ]
  },
  {
   "cell_type": "code",
   "execution_count": 10,
   "metadata": {
    "id": "f7ha7y1HWwPM"
   },
   "outputs": [],
   "source": []
  },
  {
   "cell_type": "markdown",
   "metadata": {
    "id": "0-kWsn3OWwPP"
   },
   "source": [
    "You cannot turn a string into an float. It throws an error. However, if the string has only numbers, then you can."
   ]
  },
  {
   "cell_type": "code",
   "execution_count": 10,
   "metadata": {
    "id": "VXcZNILHWwPP"
   },
   "outputs": [],
   "source": []
  },
  {
   "cell_type": "markdown",
   "metadata": {
    "id": "ECm0OUL8WwPS"
   },
   "source": [
    "#### int"
   ]
  },
  {
   "cell_type": "markdown",
   "metadata": {
    "id": "PkU5JhzOWwPT"
   },
   "source": [
    "Conversion from float to int will round-off the value (make it closer to zero)."
   ]
  },
  {
   "cell_type": "code",
   "execution_count": 10,
   "metadata": {
    "id": "D4zY6JVOWwPT"
   },
   "outputs": [],
   "source": []
  },
  {
   "cell_type": "markdown",
   "metadata": {
    "id": "fhMAZgkhWwPV"
   },
   "source": [
    " You can also turn a Boolean into an int."
   ]
  },
  {
   "cell_type": "code",
   "execution_count": 10,
   "metadata": {
    "id": "kMzj0ZoKWwPV"
   },
   "outputs": [],
   "source": []
  },
  {
   "cell_type": "markdown",
   "metadata": {
    "id": "fFIzQUxDWwPb"
   },
   "source": [
    "You cannot turn a string into an int. It throws an error. However, if the string has only numbers, then you can."
   ]
  },
  {
   "cell_type": "code",
   "execution_count": 10,
   "metadata": {
    "id": "a1_NU2oRWwPb"
   },
   "outputs": [],
   "source": []
  },
  {
   "cell_type": "markdown",
   "metadata": {
    "id": "AxKlwSvEWwPe"
   },
   "source": [
    "#### str()\n",
    "<em>str()</em> converts the value into a string."
   ]
  },
  {
   "cell_type": "code",
   "execution_count": 10,
   "metadata": {
    "id": "msQLpozMWwPi"
   },
   "outputs": [],
   "source": []
  },
  {
   "cell_type": "markdown",
   "metadata": {
    "id": "NeztNGtGWwP5"
   },
   "source": [
    "<a id=\"print\"> </a>\n",
    "## **Python print()**"
   ]
  },
  {
   "cell_type": "code",
   "execution_count": 11,
   "metadata": {
    "id": "mNLpxl-4WwP9"
   },
   "outputs": [],
   "source": [
    "#initialize a variable and pass two objects\n"
   ]
  },
  {
   "cell_type": "markdown",
   "metadata": {
    "id": "MnsdtyNjWwQB"
   },
   "source": [
    "## **User Input**\n",
    "\n",
    "\n"
   ]
  },
  {
   "cell_type": "markdown",
   "metadata": {
    "id": "N4He5BZIWwQE"
   },
   "source": [
    "The Python input() function is used to read data from a standard input such as a keyboard and treats the received data by default as `string`. Basically, when we enter digit value, input() in python 3 stores it as string value. So to convert string value to integer value, we will use int() function just as shown below."
   ]
  },
  {
   "cell_type": "code",
   "execution_count": null,
   "metadata": {
    "id": "NSFYP6-1k8S8"
   },
   "outputs": [],
   "source": []
  },
  {
   "cell_type": "markdown",
   "metadata": {
    "id": "Wev9Kx6-WwQH"
   },
   "source": [
    "When `input()` function executes program flow will be stopped until the user has given an input. The message displayed on the output screen to ask a user to enter input value is optional i.e. the prompt, will be printed on the screen is optional.\n",
    "Whatever you enter as input, input function convert it into a string. if you enter an integer value still `input()` function convert it into a string."
   ]
  },
  {
   "cell_type": "markdown",
   "metadata": {
    "id": "TgPxKm5oWwQH"
   },
   "source": [
    "## **Python Operators**\n",
    "\n"
   ]
  },
  {
   "cell_type": "markdown",
   "metadata": {
    "id": "-Ta6RTyDWwQI"
   },
   "source": [
    "<a id=\"arith\"> </a>\n",
    "### Arithmetic Operator\n",
    "Arithmetic operators are used to perform mathematical operations like addition, subtraction, multiplication etc."
   ]
  },
  {
   "cell_type": "code",
   "execution_count": 15,
   "metadata": {
    "id": "Q-pEFy-BWwQI"
   },
   "outputs": [],
   "source": [
    "# '+' Operator prints addition of a and b\n",
    "\n",
    "# '-' Operator prints subtraction of  a and b\n",
    "\n",
    "# '*' Operator prints multiplication of  a and b\n",
    "\n",
    "# '%' Operator prints remainder of division between a and b\n",
    "\n",
    "# '/' Operator prints division of  a and b\n",
    "\n",
    "# '//' Operator prints the interger value of the division between a and b \n",
    "\n",
    "# '**' Operator prints the result of a to the power b\n"
   ]
  },
  {
   "cell_type": "markdown",
   "metadata": {
    "id": "5E-kgOQyWwQJ"
   },
   "source": [
    "<a id=\"comp\"> </a>\n",
    "### Comparison Operator\n",
    "Comparison Operator carries out the comparison between operands. They tell us whether an operand is greater than the other, lesser, equal, or a combination of those. It either returns <em>True</em> or <em>False</em> according to the condition."
   ]
  },
  {
   "cell_type": "code",
   "execution_count": 16,
   "metadata": {
    "id": "ei8_yWjXWwQJ"
   },
   "outputs": [],
   "source": [
    "# '>' Operator\n",
    "\n",
    "# '<' Operator\n",
    "\n",
    "# '==' Operator\n",
    "\n",
    "# '!=' Operator\n",
    "\n",
    "# '>=' Operator\n",
    "\n",
    "# '<= y' Operator"
   ]
  },
  {
   "cell_type": "markdown",
   "metadata": {
    "id": "DHAWZfnRWwQL"
   },
   "source": [
    "<a id=\"assign\"> </a>\n",
    "### Assignment Operator\n",
    "An assignment operator assigns a value to a variable. It may manipulate the value by a factor before assigning it."
   ]
  },
  {
   "cell_type": "markdown",
   "metadata": {
    "id": "KhOFmuWmWwQM"
   },
   "source": [
    "Note:\n",
    "\n",
    "i+=1 is the same as i=i+1, whereas i=+1 just means i=(+1)"
   ]
  },
  {
   "cell_type": "code",
   "execution_count": 18,
   "metadata": {
    "id": "7WeHVcSIWwQL"
   },
   "outputs": [],
   "source": [
    "# '=' Operator assigns the value to the variable on the left\n",
    "\n",
    "# '+=' Operator\n",
    "\n",
    "# '-=' Operator\n",
    "\n",
    "# '*=' Operator\n",
    "\n",
    "# '/=' Operator\n"
   ]
  },
  {
   "cell_type": "markdown",
   "metadata": {
    "id": "OeuiSmbLWwQM"
   },
   "source": [
    "<a id=\"logic\"> </a>\n",
    "### Logical Operators\n",
    "Logical operators are like conjunctions that you can use to combine more than one condition. We have three Python logical operator – **<em>and</em>**, **<em>or</em>**, and **<em>not</em>** that come under python operators."
   ]
  },
  {
   "cell_type": "markdown",
   "metadata": {
    "id": "_8T3z6drWwQM"
   },
   "source": [
    "#### 'and' Operator\n",
    "If the conditions on both the sides of the operator are true, then the expression as a whole is true."
   ]
  },
  {
   "cell_type": "code",
   "execution_count": 18,
   "metadata": {
    "id": "vvanF5POWwQM"
   },
   "outputs": [],
   "source": []
  },
  {
   "cell_type": "markdown",
   "metadata": {
    "id": "moUtA-A7WwQN"
   },
   "source": [
    "Here if both the conditions are satisfied, we have `True` as the output, else `False`"
   ]
  },
  {
   "cell_type": "markdown",
   "metadata": {
    "id": "ZJaxiiqkWwQO"
   },
   "source": [
    "#### 'or' Operator\n",
    "The expression is false only if both the statements around the operator are false. Otherwise, it is true."
   ]
  },
  {
   "cell_type": "code",
   "execution_count": 18,
   "metadata": {
    "id": "96UjEwpGWwQO"
   },
   "outputs": [],
   "source": []
  }
 ],
 "metadata": {
  "colab": {
   "name": "Python Intro 1.ipynb",
   "provenance": []
  },
  "kernelspec": {
   "display_name": "Python 3 (ipykernel)",
   "language": "python",
   "name": "python3"
  },
  "language_info": {
   "codemirror_mode": {
    "name": "ipython",
    "version": 3
   },
   "file_extension": ".py",
   "mimetype": "text/x-python",
   "name": "python",
   "nbconvert_exporter": "python",
   "pygments_lexer": "ipython3",
   "version": "3.9.13"
  }
 },
 "nbformat": 4,
 "nbformat_minor": 1
}
