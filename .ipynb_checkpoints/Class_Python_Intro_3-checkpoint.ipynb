{
 "cells": [
  {
   "cell_type": "markdown",
   "id": "cd55126f",
   "metadata": {},
   "source": [
    "## <span style=\"color:darkolivegreen\">Conditional Statement and Loops</span>\n",
    "\n",
    "1. **[if statement](#if_statement)**\n",
    "2. **[if else statement](#if_else)**\n",
    "3. **[if elif else](#if_elif_else)**\n",
    "4. **[for loop](#forloop)**\n",
    "5. **[while loop](#whileloop)**\n",
    "6. **[break statement](#breakstatement)**\n",
    "7. **[continue statement](#continuestatement)**"
   ]
  },
  {
   "cell_type": "markdown",
   "id": "3fab5061",
   "metadata": {},
   "source": [
    "<a id=\"if_statement\"> </a>\n",
    "## 1. if statement\n"
   ]
  },
  {
   "cell_type": "markdown",
   "id": "3c3bfe49",
   "metadata": {},
   "source": [
    "**syntax:**<br><br>\n",
    "if EXPRESSION:<br>\n",
    "&nbsp;&nbsp;    STATEMENTS\n",
    "\n",
    "Use colon `:` and `indentation` correctly"
   ]
  },
  {
   "cell_type": "markdown",
   "id": "062d61c6",
   "metadata": {},
   "source": [
    "####  Now, we will see some examples on if statements"
   ]
  },
  {
   "cell_type": "code",
   "execution_count": 2,
   "id": "da85967d",
   "metadata": {},
   "outputs": [],
   "source": [
    "# create a list and check for the element in the list\n"
   ]
  },
  {
   "cell_type": "markdown",
   "id": "6b666616",
   "metadata": {},
   "source": [
    "<a id=\"if_else\"> </a>\n",
    "## 2. if else statement\n"
   ]
  },
  {
   "cell_type": "markdown",
   "id": "6242bd7f",
   "metadata": {},
   "source": [
    "**Syntax of if...else**<br><br>\n",
    "if EXPRESSION:<br>\n",
    "&nbsp;&nbsp;    STATEMENT_1<br>\n",
    "else:<br>\n",
    "&nbsp;&nbsp;    STATEMENT_2\n",
    "\n",
    "\n",
    "The `else` keyword catches anything which isn't caught by the preceeding conditions."
   ]
  },
  {
   "cell_type": "code",
   "execution_count": 1,
   "id": "1a95b7a5",
   "metadata": {},
   "outputs": [],
   "source": [
    "# 2 conditions - Check if a number is greater than 50 or less than 50\n",
    "# or write a username password program\n"
   ]
  },
  {
   "cell_type": "markdown",
   "id": "8fb7ca1f",
   "metadata": {},
   "source": [
    "<a id=\"if_elif_else\"> </a>\n",
    "## 3. if elif else\n"
   ]
  },
  {
   "cell_type": "markdown",
   "id": "7536c275",
   "metadata": {},
   "source": [
    "**Syntax of if elif else:**<br><br>\n",
    "if expression 1:<br>\n",
    "&nbsp;&nbsp;    STATEMENTS_A<br>\n",
    "elif expression 2:<br>\n",
    "&nbsp;&nbsp;   STATEMENTS_B<br>\n",
    "else:<br>\n",
    "&nbsp;&nbsp;    STATEMENTS_C"
   ]
  },
  {
   "cell_type": "code",
   "execution_count": 3,
   "id": "bf59ff3d",
   "metadata": {},
   "outputs": [],
   "source": [
    "# 3 or more conditions - Check whether the given number equals 0, greater than 50 or less than 50. \n"
   ]
  },
  {
   "cell_type": "markdown",
   "id": "4d0bc081",
   "metadata": {},
   "source": [
    "<a id=\"forloop\"> </a>\n",
    "## 4. for loop\n"
   ]
  },
  {
   "cell_type": "markdown",
   "id": "5e03ee14",
   "metadata": {},
   "source": [
    "**Syntax of for loop:**<br><br>\n",
    "for val in sequence:<br>\n",
    "&nbsp;&nbsp;\tBody of for <br><br>\n",
    "\n",
    "\n",
    "\n",
    "A `for` loop is used for iterating over a sequence (that is either a list, a tuple, a dictionary, a set)."
   ]
  },
  {
   "cell_type": "code",
   "execution_count": 5,
   "id": "e425d96e",
   "metadata": {
    "scrolled": true
   },
   "outputs": [],
   "source": [
    "# create a list of numbers, using for loop, square each number\n",
    "    "
   ]
  },
  {
   "cell_type": "markdown",
   "id": "ed721a34",
   "metadata": {},
   "source": [
    "<a id=\"whileloop\"> </a>\n",
    "## 5. while loop"
   ]
  },
  {
   "cell_type": "markdown",
   "id": "d8a793f8",
   "metadata": {},
   "source": [
    "**Syntax of for loop:**<br><br>\n",
    "while (expression):<br>\n",
    "&nbsp;&nbsp;     statement_1<br>\n",
    "&nbsp;&nbsp;     statement_2<br>\n",
    "    .... \n",
    "<br><br>\n",
    "With the `while` loop we can execute a set of statements as long as a condition is true."
   ]
  },
  {
   "cell_type": "code",
   "execution_count": 6,
   "id": "16f65cf5",
   "metadata": {},
   "outputs": [],
   "source": [
    "# print the first 5 digits\n"
   ]
  },
  {
   "cell_type": "markdown",
   "id": "231f652c",
   "metadata": {},
   "source": [
    "<a id=\"breakstatement\"> </a>\n",
    "## 6. break statement\n",
    "\n",
    "\n",
    "<br>The `break` keyword is used to break out of a loop completely."
   ]
  },
  {
   "cell_type": "code",
   "execution_count": 7,
   "id": "ba12280f",
   "metadata": {},
   "outputs": [],
   "source": [
    "# create a list of numbers, and if number is 4; break out\n"
   ]
  },
  {
   "cell_type": "markdown",
   "id": "fea1b8b8",
   "metadata": {},
   "source": [
    "### <a id=\"continuestatement\"> </a>\n",
    "## 7. continue statement\n",
    "\n",
    "\n",
    "The `continue` keyword is used to end the current iteration in a loop, and continue to the next iteration."
   ]
  },
  {
   "cell_type": "code",
   "execution_count": 8,
   "id": "a12178bc",
   "metadata": {},
   "outputs": [],
   "source": [
    "# create a list of numbers, and if numebr is 4; continue to next iteration\n"
   ]
  }
 ],
 "metadata": {
  "kernelspec": {
   "display_name": "Python 3 (ipykernel)",
   "language": "python",
   "name": "python3"
  },
  "language_info": {
   "codemirror_mode": {
    "name": "ipython",
    "version": 3
   },
   "file_extension": ".py",
   "mimetype": "text/x-python",
   "name": "python",
   "nbconvert_exporter": "python",
   "pygments_lexer": "ipython3",
   "version": "3.9.13"
  }
 },
 "nbformat": 4,
 "nbformat_minor": 5
}
