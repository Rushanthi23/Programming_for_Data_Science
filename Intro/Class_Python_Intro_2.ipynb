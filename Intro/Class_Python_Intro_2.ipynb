{
 "cells": [
  {
   "cell_type": "markdown",
   "metadata": {
    "collapsed": true,
    "id": "VZC0Jb6dgBFM"
   },
   "source": [
    "# Contents\n",
    "\n",
    "1. **[Introduction to List](#list)**\n",
    "2. **[Introduction to Tuple](#tuple)**\n",
    "3. **[Introduction to Dictionary](#Dictionary)**\n",
    "3. **[Introduction to Sets](#sets)**"
   ]
  },
  {
   "cell_type": "markdown",
   "metadata": {
    "id": "4NLXGP7CgBFO"
   },
   "source": [
    "<a id=\"list\"> </a>\n",
    "## <span style=\"color:darkolivegreen\">**1. Introduction to List**</span>\n"
   ]
  },
  {
   "cell_type": "markdown",
   "metadata": {
    "id": "QqZoGOCsgBFP"
   },
   "source": [
    "### Constructing Lists\n",
    "\n",
    "To create a list, use square brackets `[ ]` and separate items in the list with commas.\n",
    "A list can be empty or contain any number of items with different data types (integers, float, strings, etc.)"
   ]
  },
  {
   "cell_type": "code",
   "execution_count": 4,
   "metadata": {
    "id": "UraWAxswgBFQ"
   },
   "outputs": [],
   "source": [
    "#create a list\n",
    "List = [23, 16, 'Rushanthi', 23,26]"
   ]
  },
  {
   "cell_type": "markdown",
   "metadata": {
    "id": "Urz3y22hgBFW"
   },
   "source": [
    "### Acessing Elements in a List\n",
    "You can access the list items by referring to the index number"
   ]
  },
  {
   "cell_type": "code",
   "execution_count": 11,
   "outputs": [
    {
     "data": {
      "text/plain": "[23, 16, 'Rushanthi', 23, 26]"
     },
     "execution_count": 11,
     "metadata": {},
     "output_type": "execute_result"
    }
   ],
   "source": [
    "List"
   ],
   "metadata": {
    "collapsed": false
   }
  },
  {
   "cell_type": "code",
   "execution_count": 12,
   "outputs": [
    {
     "data": {
      "text/plain": "list"
     },
     "execution_count": 12,
     "metadata": {},
     "output_type": "execute_result"
    }
   ],
   "source": [
    "type(List)"
   ],
   "metadata": {
    "collapsed": false
   }
  },
  {
   "cell_type": "markdown",
   "metadata": {
    "id": "gn7hkvCegBFX"
   },
   "source": [
    "**Indexing:**<br>\n",
    "We use the index operator `[ ]`. Note that the index starts from 0 in python and must be an integer"
   ]
  },
  {
   "cell_type": "code",
   "execution_count": 10,
   "metadata": {
    "id": "NbWA-bH0htyv"
   },
   "outputs": [
    {
     "data": {
      "text/plain": "[23, 16, 'Rushanthi']"
     },
     "execution_count": 10,
     "metadata": {},
     "output_type": "execute_result"
    }
   ],
   "source": [
    "#Inclusive and Exclusive in Python\n",
    "List[1:2]\n",
    "List[0:3]"
   ]
  },
  {
   "cell_type": "code",
   "execution_count": 15,
   "outputs": [
    {
     "data": {
      "text/plain": "[23, 16, 'Rushanthi', 23, 26]"
     },
     "execution_count": 15,
     "metadata": {},
     "output_type": "execute_result"
    }
   ],
   "source": [
    "#If you want all characters then\n",
    "List[0:]"
   ],
   "metadata": {
    "collapsed": false
   }
  },
  {
   "cell_type": "code",
   "execution_count": 13,
   "metadata": {
    "id": "vX_CxZ_VgBFX"
   },
   "outputs": [
    {
     "data": {
      "text/plain": "16"
     },
     "execution_count": 13,
     "metadata": {},
     "output_type": "execute_result"
    }
   ],
   "source": [
    "#Print the second item of the list\n",
    "List[1]"
   ]
  },
  {
   "cell_type": "markdown",
   "metadata": {},
   "source": [
    "    "
   ]
  },
  {
   "cell_type": "markdown",
   "metadata": {
    "id": "N3TiHDDIgBFY"
   },
   "source": [
    "**Negative Indexing**:<br>\n",
    "Negative indexing means beginning from the end, -1 refers to the last item, -2 refers to the second last item"
   ]
  },
  {
   "cell_type": "code",
   "execution_count": 14,
   "metadata": {
    "id": "1seE_9wugBFa"
   },
   "outputs": [
    {
     "data": {
      "text/plain": "23"
     },
     "execution_count": 14,
     "metadata": {},
     "output_type": "execute_result"
    }
   ],
   "source": [
    "#Print the second last item of the list\n",
    "List[-2]"
   ]
  },
  {
   "cell_type": "markdown",
   "metadata": {
    "id": "5VX0PoidgBFa"
   },
   "source": [
    "### Slicing of a List\n",
    "List uses the slicing operator `:` (colon) to extract part of the sequence"
   ]
  },
  {
   "cell_type": "code",
   "execution_count": 16,
   "metadata": {
    "id": "LFHUzio_gBFb"
   },
   "outputs": [
    {
     "data": {
      "text/plain": "[23, 16, 'Rushanthi']"
     },
     "execution_count": 16,
     "metadata": {},
     "output_type": "execute_result"
    }
   ],
   "source": [
    "#Return first three elements from the list\n",
    "List[0:3]"
   ]
  },
  {
   "cell_type": "markdown",
   "metadata": {
    "id": "ydItSoJYgBFe"
   },
   "source": [
    "### Change Item Value\n",
    "Refer the index number to change the value of a specific item"
   ]
  },
  {
   "cell_type": "code",
   "execution_count": 17,
   "metadata": {
    "id": "P6J-PRRJgBFe"
   },
   "outputs": [
    {
     "data": {
      "text/plain": "[23, 16, 'Baskaran', 23, 26]"
     },
     "execution_count": 17,
     "metadata": {},
     "output_type": "execute_result"
    }
   ],
   "source": [
    "#change the third item\n",
    "List[2] = 'Baskaran'\n",
    "List"
   ]
  },
  {
   "cell_type": "code",
   "execution_count": 23,
   "outputs": [
    {
     "data": {
      "text/plain": "True"
     },
     "execution_count": 23,
     "metadata": {},
     "output_type": "execute_result"
    }
   ],
   "source": [
    "List[3] == 50"
   ],
   "metadata": {
    "collapsed": false
   }
  },
  {
   "cell_type": "markdown",
   "metadata": {
    "id": "LNvMI02AgBFe"
   },
   "source": [
    "### List Methods\n",
    "Python has a set of built-in methods that you can use on lists. Some examples are:<br>\n",
    "\n",
    "`append()`<br>\n",
    "`insert()`<br>\n",
    "`reverse()`<br>\n",
    "\n",
    "You can press the `tab` key to see the list of available methods "
   ]
  },
  {
   "cell_type": "markdown",
   "metadata": {},
   "source": [
    "    "
   ]
  },
  {
   "cell_type": "markdown",
   "metadata": {
    "id": "64xQQaXYgBFf"
   },
   "source": [
    "**`list.append()`**<br>\n",
    "This method will add the element at the end of a list"
   ]
  },
  {
   "cell_type": "code",
   "execution_count": 19,
   "metadata": {
    "id": "ErTxcpcUgBFf"
   },
   "outputs": [
    {
     "data": {
      "text/plain": "[23, 16, 'Baskaran', 23, 26, 'Rushanthi', 'Rushanthi']"
     },
     "execution_count": 19,
     "metadata": {},
     "output_type": "execute_result"
    }
   ],
   "source": [
    "# add element to the list\n",
    "List.append('Rushanthi')\n",
    "List"
   ]
  },
  {
   "cell_type": "markdown",
   "metadata": {
    "id": "f4yXJihggBFg"
   },
   "source": [
    "**`list.insert(i, item)`**<br>\n",
    "This method will insert an element at the ith index in a list"
   ]
  },
  {
   "cell_type": "code",
   "execution_count": 20,
   "metadata": {
    "id": "cZTbpyNZgBFg"
   },
   "outputs": [
    {
     "data": {
      "text/plain": "[23, 16, 'Baskaran', 50, 23, 26, 'Rushanthi', 'Rushanthi']"
     },
     "execution_count": 20,
     "metadata": {},
     "output_type": "execute_result"
    }
   ],
   "source": [
    "# insert element at 2nd index in a list\n",
    "List.insert(3, 50)\n",
    "List"
   ]
  },
  {
   "cell_type": "markdown",
   "metadata": {
    "id": "UnJqmVt3gBFi"
   },
   "source": [
    "**`list.reverse()`**<br>\n",
    "This method reverses the sorting order of the elements"
   ]
  },
  {
   "cell_type": "code",
   "execution_count": 24,
   "metadata": {
    "id": "_zGEMyaqgBFj"
   },
   "outputs": [
    {
     "data": {
      "text/plain": "['Rushanthi', 'Rushanthi', 26, 23, 50, 'Baskaran', 16, 23]"
     },
     "execution_count": 24,
     "metadata": {},
     "output_type": "execute_result"
    }
   ],
   "source": [
    "# reverse the elements in the list\n",
    "List.reverse()\n",
    "List"
   ]
  },
  {
   "cell_type": "markdown",
   "metadata": {},
   "source": [
    "    "
   ]
  },
  {
   "cell_type": "markdown",
   "metadata": {},
   "source": [
    "    "
   ]
  },
  {
   "cell_type": "markdown",
   "metadata": {
    "id": "WvUtNDg8gBFl"
   },
   "source": [
    "<a id=\"tuple\"> </a>\n",
    "## <span style=\"color:darkolivegreen\">**2. Introduction to Tuple**</span>"
   ]
  },
  {
   "cell_type": "markdown",
   "metadata": {
    "id": "rcH1Hn_AgBFm"
   },
   "source": [
    "### Creating Tuple\n",
    "We can have tuple of same type of data items as well as mixed type of data items "
   ]
  },
  {
   "cell_type": "code",
   "execution_count": 25,
   "metadata": {
    "id": "z-NuTyQYgBFm"
   },
   "outputs": [
    {
     "data": {
      "text/plain": "('Hello', 'Bye', 4757)"
     },
     "execution_count": 25,
     "metadata": {},
     "output_type": "execute_result"
    }
   ],
   "source": [
    "# Create a tuple of int, float, string\n",
    "ex_tuple = ('Hello', 'Bye', 4757)\n",
    "ex_tuple"
   ]
  },
  {
   "cell_type": "markdown",
   "metadata": {
    "id": "BrVHJy0igBFn"
   },
   "source": [
    "### Access Tuple Elements\n",
    "We use indexes to access the elements of a tuple"
   ]
  },
  {
   "cell_type": "code",
   "execution_count": 27,
   "metadata": {
    "id": "4FlBcwcsgBFn"
   },
   "outputs": [
    {
     "data": {
      "text/plain": "4757"
     },
     "execution_count": 27,
     "metadata": {},
     "output_type": "execute_result"
    }
   ],
   "source": [
    "# access the second element from the tuple\n",
    "ex_tuple[2]"
   ]
  },
  {
   "cell_type": "markdown",
   "metadata": {
    "id": "BGiFfk93gBFn"
   },
   "source": [
    "### Change Tuple Values\n",
    "We cannot change the elements of a tuple because elements of <span style=\"color:crimson\">tuples are immutable</span>."
   ]
  },
  {
   "cell_type": "code",
   "execution_count": 28,
   "metadata": {
    "id": "oXSuXF7CgBFo"
   },
   "outputs": [
    {
     "ename": "TypeError",
     "evalue": "'tuple' object does not support item assignment",
     "output_type": "error",
     "traceback": [
      "\u001B[1;31m---------------------------------------------------------------------------\u001B[0m",
      "\u001B[1;31mTypeError\u001B[0m                                 Traceback (most recent call last)",
      "\u001B[1;32m~\\AppData\\Local\\Temp\\ipykernel_30536\\2537845945.py\u001B[0m in \u001B[0;36m<module>\u001B[1;34m\u001B[0m\n\u001B[0;32m      1\u001B[0m \u001B[1;31m# change the second element from the tuple\u001B[0m\u001B[1;33m\u001B[0m\u001B[1;33m\u001B[0m\u001B[0m\n\u001B[1;32m----> 2\u001B[1;33m \u001B[0mex_tuple\u001B[0m\u001B[1;33m[\u001B[0m\u001B[1;36m1\u001B[0m\u001B[1;33m]\u001B[0m \u001B[1;33m=\u001B[0m \u001B[1;36m23\u001B[0m\u001B[1;33m\u001B[0m\u001B[1;33m\u001B[0m\u001B[0m\n\u001B[0m\u001B[0;32m      3\u001B[0m \u001B[0mex_tuple\u001B[0m\u001B[1;33m\u001B[0m\u001B[1;33m\u001B[0m\u001B[0m\n",
      "\u001B[1;31mTypeError\u001B[0m: 'tuple' object does not support item assignment"
     ]
    }
   ],
   "source": [
    "# change the second element from the tuple\n",
    "ex_tuple[1] = 23\n",
    "ex_tuple"
   ]
  },
  {
   "cell_type": "markdown",
   "metadata": {
    "id": "oadoHDJzgBFo"
   },
   "source": [
    "### Delete Operation on Tuple\n",
    "As discussed tuple elements are immutable which also means that we <span style=\"color:crimson\">cannot delete the elements of a tuple</span>. However deleting entire tuple is possible"
   ]
  },
  {
   "cell_type": "code",
   "execution_count": 6,
   "metadata": {
    "id": "9m-iGGaWgBFo"
   },
   "outputs": [],
   "source": [
    "# delete element from the tuple\n"
   ]
  },
  {
   "cell_type": "markdown",
   "metadata": {
    "id": "_Zw2-j80gBFp"
   },
   "source": [
    "### Tuple Methods"
   ]
  },
  {
   "cell_type": "markdown",
   "metadata": {
    "id": "B48uZoq8gBFp"
   },
   "source": [
    "Python has built-in methods that you can use on tuples:<br>\n",
    "\n",
    "`count()`<br>\n",
    "`index()`<br>\n",
    "\n",
    "You can press the `tab` key to see the list of available methods "
   ]
  },
  {
   "cell_type": "markdown",
   "metadata": {
    "id": "1IiNxLlngBFp"
   },
   "source": [
    "**`tuple.count()`**<br>\n",
    "Returns the **number of times** a specified value occurs in a tuple"
   ]
  },
  {
   "cell_type": "code",
   "execution_count": 36,
   "metadata": {
    "id": "6FBZXgEIgBFp"
   },
   "outputs": [
    {
     "data": {
      "text/plain": "5"
     },
     "execution_count": 36,
     "metadata": {},
     "output_type": "execute_result"
    }
   ],
   "source": [
    "ex2_tuple =(5, 6, 6, 7, 4, 4, 4, 7, 7, 7, 7)\n",
    "ex2_tuple.count(7)\n",
    "#in the param have to insert the value in the tuple"
   ]
  },
  {
   "cell_type": "markdown",
   "metadata": {
    "id": "kW-d6_X-gBFp"
   },
   "source": [
    "**`tuple.index()`**<br>\n",
    "Searches the tuple for a specified value and returns the position of **where** it was found"
   ]
  },
  {
   "cell_type": "code",
   "execution_count": 55,
   "metadata": {
    "id": "rY5qWJM_gBFq"
   },
   "outputs": [
    {
     "data": {
      "text/plain": "3"
     },
     "execution_count": 55,
     "metadata": {},
     "output_type": "execute_result"
    }
   ],
   "source": [
    "ex2_tuple.index(7)"
   ]
  },
  {
   "cell_type": "code",
   "execution_count": null,
   "outputs": [],
   "source": [
    "ind = []"
   ],
   "metadata": {
    "collapsed": false
   }
  },
  {
   "cell_type": "markdown",
   "metadata": {},
   "source": [
    "    "
   ]
  },
  {
   "cell_type": "markdown",
   "metadata": {},
   "source": [
    "    "
   ]
  },
  {
   "cell_type": "markdown",
   "metadata": {},
   "source": [
    "<a id=\"Dictionary\"> </a>\n",
    "## <span style=\"color:darkolivegreen\">**3. Introduction to Dictionary**</span>"
   ]
  },
  {
   "cell_type": "markdown",
   "metadata": {},
   "source": [
    "**General Syntax of Dictionary:**<br>\n",
    "dictionary_name = {&nbsp;key_1: value_1,<br>\n",
    "&nbsp;&nbsp;&nbsp;&nbsp;&nbsp;&nbsp;&nbsp;&nbsp;&nbsp;&nbsp;&nbsp;&nbsp;&nbsp;&nbsp;&nbsp;&nbsp;&nbsp;&nbsp;&nbsp;&nbsp;&nbsp;&nbsp;&nbsp;&nbsp;&nbsp;&nbsp;&nbsp;&nbsp;&nbsp;&nbsp;&nbsp;&nbsp;                   key_2: value_2,<br>\n",
    "&nbsp;&nbsp;&nbsp;&nbsp;&nbsp;&nbsp;&nbsp;&nbsp;&nbsp;&nbsp;&nbsp;&nbsp;&nbsp;&nbsp;&nbsp;&nbsp;&nbsp;&nbsp;&nbsp;&nbsp;&nbsp;&nbsp;&nbsp;&nbsp;&nbsp;&nbsp;&nbsp;&nbsp;&nbsp;&nbsp;&nbsp;&nbsp;                    key_3: value_3,<br>\n",
    "&nbsp;&nbsp;&nbsp;&nbsp;&nbsp;&nbsp;&nbsp;&nbsp;&nbsp;&nbsp;&nbsp;&nbsp;&nbsp;&nbsp;&nbsp;&nbsp;&nbsp;&nbsp;&nbsp;&nbsp;&nbsp;&nbsp;&nbsp;&nbsp;&nbsp;&nbsp;&nbsp;&nbsp;&nbsp;&nbsp;&nbsp;&nbsp;                    }"
   ]
  },
  {
   "cell_type": "markdown",
   "metadata": {},
   "source": [
    "    "
   ]
  },
  {
   "cell_type": "markdown",
   "metadata": {},
   "source": [
    "### Create a Dictionary\n",
    "Separate keys from values with a colon `:` and a pair from another by a comma `,` Put it all in curly `{}` braces"
   ]
  },
  {
   "cell_type": "code",
   "execution_count": 39,
   "metadata": {},
   "outputs": [
    {
     "data": {
      "text/plain": "{'name': 'Rushanthi', 'age': 24, 'dob': '1998/09/23'}"
     },
     "execution_count": 39,
     "metadata": {},
     "output_type": "execute_result"
    }
   ],
   "source": [
    "# Create a dictionary\n",
    "dic_ex = { \"name\" : 'Rushanthi',\n",
    "           \"age\"  : 24 ,\n",
    "           \"dob\" : \"1998/09/23\"}\n",
    "dic_ex"
   ]
  },
  {
   "cell_type": "code",
   "execution_count": 40,
   "outputs": [
    {
     "data": {
      "text/plain": "'Rushanthi'"
     },
     "execution_count": 40,
     "metadata": {},
     "output_type": "execute_result"
    }
   ],
   "source": [
    "dic_ex['name']"
   ],
   "metadata": {
    "collapsed": false
   }
  },
  {
   "cell_type": "code",
   "execution_count": 41,
   "outputs": [
    {
     "data": {
      "text/plain": "{'name': ('Rushanthi', 'Baskaran'),\n 'age': [24, 55],\n 'dob': ('1998/09/23', '1967/12/03')}"
     },
     "execution_count": 41,
     "metadata": {},
     "output_type": "execute_result"
    }
   ],
   "source": [
    "dic_ex2 = { \"name\" : ('Rushanthi', 'Baskaran'),\n",
    "           \"age\"  : [24, 55] ,\n",
    "           \"dob\" : (\"1998/09/23\", \"1967/12/03\")}\n",
    "dic_ex2"
   ],
   "metadata": {
    "collapsed": false
   }
  },
  {
   "cell_type": "code",
   "execution_count": null,
   "outputs": [],
   "source": [],
   "metadata": {
    "collapsed": false
   }
  },
  {
   "cell_type": "markdown",
   "metadata": {},
   "source": [
    "    "
   ]
  },
  {
   "cell_type": "markdown",
   "metadata": {},
   "source": [
    "### Accessing Items\n",
    "You can access the items of a dictionary by referring to its `key name`, inside square brackets"
   ]
  },
  {
   "cell_type": "code",
   "execution_count": 42,
   "metadata": {},
   "outputs": [
    {
     "data": {
      "text/plain": "'1998/09/23'"
     },
     "execution_count": 42,
     "metadata": {},
     "output_type": "execute_result"
    }
   ],
   "source": [
    "# Get the value of a key\n",
    "dic_ex[\"dob\"]"
   ]
  },
  {
   "cell_type": "markdown",
   "metadata": {},
   "source": [
    "    "
   ]
  },
  {
   "cell_type": "markdown",
   "metadata": {},
   "source": [
    "### Change Values\n",
    "Dictionary is <span style=\"color:crimson\">mutable</span>. You can change the value of a specific element by referring to its `key name`"
   ]
  },
  {
   "cell_type": "code",
   "execution_count": 43,
   "metadata": {},
   "outputs": [
    {
     "data": {
      "text/plain": "{'name': 'Saran', 'age': 24, 'dob': '1998/09/23'}"
     },
     "execution_count": 43,
     "metadata": {},
     "output_type": "execute_result"
    }
   ],
   "source": [
    "# Change a value\n",
    "dic_ex['name'] = 'Saran'\n",
    "dic_ex"
   ]
  },
  {
   "cell_type": "markdown",
   "metadata": {},
   "source": [
    "### **Adding Items**\n",
    "Adding an item to the dictionary is done by using a new index key and assigning a value to it."
   ]
  },
  {
   "cell_type": "code",
   "execution_count": 44,
   "metadata": {},
   "outputs": [
    {
     "data": {
      "text/plain": "{'name': 'Saran', 'age': 24, 'dob': '1998/09/23', 'gender': 'Male'}"
     },
     "execution_count": 44,
     "metadata": {},
     "output_type": "execute_result"
    }
   ],
   "source": [
    "# Add new item to the dictionary\n",
    "dic_ex[\"gender\"] = \"Male\"\n",
    "dic_ex"
   ]
  },
  {
   "cell_type": "markdown",
   "metadata": {},
   "source": [
    "    "
   ]
  },
  {
   "cell_type": "markdown",
   "metadata": {},
   "source": [
    "### Dictionary Methods"
   ]
  },
  {
   "cell_type": "markdown",
   "metadata": {},
   "source": [
    "There are several methods that you can use on a dictionary:<br>\n",
    "\n",
    "`pop()`<br>\n",
    "`clear()`\n",
    "\n",
    "You can press the `tab` key to see the list of available methods "
   ]
  },
  {
   "cell_type": "markdown",
   "metadata": {},
   "source": [
    "**`dict.pop()`**<br>\n",
    "This method removes the item with the specified key name"
   ]
  },
  {
   "cell_type": "code",
   "execution_count": 45,
   "metadata": {},
   "outputs": [
    {
     "data": {
      "text/plain": "{'name': 'Saran', 'age': 24, 'dob': '1998/09/23'}"
     },
     "execution_count": 45,
     "metadata": {},
     "output_type": "execute_result"
    }
   ],
   "source": [
    "#remove a key from the dictionary\n",
    "dic_ex.pop('gender')\n",
    "dic_ex"
   ]
  },
  {
   "cell_type": "markdown",
   "metadata": {},
   "source": [
    "    "
   ]
  },
  {
   "cell_type": "markdown",
   "metadata": {},
   "source": [
    "**`dict.clear()`**<br>\n",
    "This method empties the entire dictionary"
   ]
  },
  {
   "cell_type": "code",
   "execution_count": 46,
   "metadata": {},
   "outputs": [
    {
     "data": {
      "text/plain": "{}"
     },
     "execution_count": 46,
     "metadata": {},
     "output_type": "execute_result"
    }
   ],
   "source": [
    "#clear the dictionary\n",
    "dic_ex.clear()\n",
    "dic_ex"
   ]
  },
  {
   "cell_type": "markdown",
   "metadata": {},
   "source": [
    "    "
   ]
  },
  {
   "cell_type": "markdown",
   "metadata": {},
   "source": [
    "<a id=\"sets\"> </a>\n",
    "## <span style=\"color:darkolivegreen\">**4. Introduction to Sets**</span>"
   ]
  },
  {
   "cell_type": "markdown",
   "metadata": {},
   "source": [
    "### Creating a Set\n",
    "In Python sets are written with curly `{}`brackets "
   ]
  },
  {
   "cell_type": "code",
   "execution_count": 47,
   "metadata": {},
   "outputs": [
    {
     "data": {
      "text/plain": "{1, 2, 3}"
     },
     "execution_count": 47,
     "metadata": {},
     "output_type": "execute_result"
    }
   ],
   "source": [
    "# create a set\n",
    "s = {1,2,3}\n",
    "s"
   ]
  },
  {
   "cell_type": "markdown",
   "metadata": {},
   "source": [
    "    "
   ]
  },
  {
   "cell_type": "markdown",
   "metadata": {},
   "source": [
    "**Try it yourself.**\n",
    "\n",
    "Python has the following methods that you can use on sets:<br>\n",
    "\n",
    "`add()`<br>\n",
    "`update()`<br>\n",
    "`len()`<br>\n",
    "`pop()`<br>"
   ]
  },
  {
   "cell_type": "code",
   "execution_count": 48,
   "metadata": {},
   "outputs": [
    {
     "data": {
      "text/plain": "{1, 2, 3, 54}"
     },
     "execution_count": 48,
     "metadata": {},
     "output_type": "execute_result"
    }
   ],
   "source": [
    "s.add(54)\n",
    "s"
   ]
  },
  {
   "cell_type": "code",
   "execution_count": 52,
   "outputs": [
    {
     "ename": "TypeError",
     "evalue": "'int' object is not iterable",
     "output_type": "error",
     "traceback": [
      "\u001B[1;31m---------------------------------------------------------------------------\u001B[0m",
      "\u001B[1;31mTypeError\u001B[0m                                 Traceback (most recent call last)",
      "\u001B[1;32m~\\AppData\\Local\\Temp\\ipykernel_30536\\1223957204.py\u001B[0m in \u001B[0;36m<module>\u001B[1;34m\u001B[0m\n\u001B[1;32m----> 1\u001B[1;33m \u001B[0ms\u001B[0m\u001B[1;33m.\u001B[0m\u001B[0mupdate\u001B[0m\u001B[1;33m(\u001B[0m\u001B[1;36m34\u001B[0m\u001B[1;33m)\u001B[0m\u001B[1;33m\u001B[0m\u001B[1;33m\u001B[0m\u001B[0m\n\u001B[0m\u001B[0;32m      2\u001B[0m \u001B[0ms\u001B[0m\u001B[1;33m\u001B[0m\u001B[1;33m\u001B[0m\u001B[0m\n",
      "\u001B[1;31mTypeError\u001B[0m: 'int' object is not iterable"
     ]
    }
   ],
   "source": [
    "s.update(34)\n",
    "s"
   ],
   "metadata": {
    "collapsed": false
   }
  },
  {
   "cell_type": "code",
   "execution_count": 53,
   "outputs": [
    {
     "data": {
      "text/plain": "{1, 2, 3}"
     },
     "execution_count": 53,
     "metadata": {},
     "output_type": "execute_result"
    }
   ],
   "source": [
    "s2 = {1,2,3,3}\n",
    "s2"
   ],
   "metadata": {
    "collapsed": false
   }
  },
  {
   "cell_type": "code",
   "execution_count": 54,
   "outputs": [
    {
     "data": {
      "text/plain": "{1, 2, 3, 54}"
     },
     "execution_count": 54,
     "metadata": {},
     "output_type": "execute_result"
    }
   ],
   "source": [
    "s.update(s2)\n",
    "s"
   ],
   "metadata": {
    "collapsed": false
   }
  },
  {
   "cell_type": "code",
   "execution_count": null,
   "outputs": [],
   "source": [],
   "metadata": {
    "collapsed": false
   }
  }
 ],
 "metadata": {
  "colab": {
   "name": "Python Intro 2.ipynb",
   "provenance": []
  },
  "kernelspec": {
   "display_name": "Python 3 (ipykernel)",
   "language": "python",
   "name": "python3"
  },
  "language_info": {
   "codemirror_mode": {
    "name": "ipython",
    "version": 3
   },
   "file_extension": ".py",
   "mimetype": "text/x-python",
   "name": "python",
   "nbconvert_exporter": "python",
   "pygments_lexer": "ipython3",
   "version": "3.9.13"
  }
 },
 "nbformat": 4,
 "nbformat_minor": 1
}
