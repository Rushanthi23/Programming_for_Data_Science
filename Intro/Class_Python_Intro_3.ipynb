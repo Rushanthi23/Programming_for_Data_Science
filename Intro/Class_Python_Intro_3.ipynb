{
 "cells": [
  {
   "cell_type": "markdown",
   "id": "cd55126f",
   "metadata": {},
   "source": [
    "## <span style=\"color:darkolivegreen\">Conditional Statement and Loops</span>\n",
    "\n",
    "1. **[if statement](#if_statement)**\n",
    "2. **[if else statement](#if_else)**\n",
    "3. **[if elif else](#if_elif_else)**\n",
    "4. **[for loop](#forloop)**\n",
    "5. **[while loop](#whileloop)**\n",
    "6. **[break statement](#breakstatement)**\n",
    "7. **[continue statement](#continuestatement)**"
   ]
  },
  {
   "cell_type": "markdown",
   "id": "3fab5061",
   "metadata": {},
   "source": [
    "<a id=\"if_statement\"> </a>\n",
    "## 1. if statement\n"
   ]
  },
  {
   "cell_type": "markdown",
   "id": "3c3bfe49",
   "metadata": {},
   "source": [
    "**syntax:**<br><br>\n",
    "if EXPRESSION:<br>\n",
    "&nbsp;&nbsp;    STATEMENTS\n",
    "\n",
    "Use colon `:` and `indentation` correctly"
   ]
  },
  {
   "cell_type": "markdown",
   "id": "062d61c6",
   "metadata": {},
   "source": [
    "####  Now, we will see some examples on if statements"
   ]
  },
  {
   "cell_type": "code",
   "execution_count": 1,
   "id": "da85967d",
   "metadata": {},
   "outputs": [
    {
     "data": {
      "text/plain": "[1, 2, 3, 4]"
     },
     "execution_count": 1,
     "metadata": {},
     "output_type": "execute_result"
    }
   ],
   "source": [
    "# create a list and check for the element in the list\n",
    "ex_list = [1,2,3,4]\n",
    "ex_list"
   ]
  },
  {
   "cell_type": "code",
   "execution_count": 4,
   "outputs": [
    {
     "name": "stdout",
     "output_type": "stream",
     "text": [
      "Hello\n"
     ]
    }
   ],
   "source": [
    "if 3 in ex_list:\n",
    "    print(\"Hello\")"
   ],
   "metadata": {
    "collapsed": false
   }
  },
  {
   "cell_type": "code",
   "execution_count": 3,
   "outputs": [],
   "source": [
    "if 5 in ex_list:\n",
    "    print(3)"
   ],
   "metadata": {
    "collapsed": false
   }
  },
  {
   "cell_type": "markdown",
   "id": "6b666616",
   "metadata": {},
   "source": [
    "<a id=\"if_else\"> </a>\n",
    "## 2. if else statement\n"
   ]
  },
  {
   "cell_type": "markdown",
   "id": "6242bd7f",
   "metadata": {},
   "source": [
    "**Syntax of if...else**<br><br>\n",
    "if EXPRESSION:<br>\n",
    "&nbsp;&nbsp;    STATEMENT_1<br>\n",
    "else:<br>\n",
    "&nbsp;&nbsp;    STATEMENT_2\n",
    "\n",
    "\n",
    "The `else` keyword catches anything which isn't caught by the preceeding conditions."
   ]
  },
  {
   "cell_type": "code",
   "execution_count": 6,
   "id": "1a95b7a5",
   "metadata": {},
   "outputs": [
    {
     "name": "stdout",
     "output_type": "stream",
     "text": [
      "no\n"
     ]
    }
   ],
   "source": [
    "# 2 conditions - Check if a number is greater than 50 or less than 50\n",
    "# or write a username password program\n",
    "a = 50\n",
    "if a> 50:\n",
    "    print(\"yes\")\n",
    "else:\n",
    "    print(\"no\")"
   ]
  },
  {
   "cell_type": "markdown",
   "id": "8fb7ca1f",
   "metadata": {},
   "source": [
    "<a id=\"if_elif_else\"> </a>\n",
    "## 3. if elif else\n"
   ]
  },
  {
   "cell_type": "markdown",
   "id": "7536c275",
   "metadata": {},
   "source": [
    "**Syntax of if elif else:**<br><br>\n",
    "if expression 1:<br>\n",
    "&nbsp;&nbsp;    STATEMENTS_A<br>\n",
    "elif expression 2:<br>\n",
    "&nbsp;&nbsp;   STATEMENTS_B<br>\n",
    "else:<br>\n",
    "&nbsp;&nbsp;    STATEMENTS_C"
   ]
  },
  {
   "cell_type": "code",
   "execution_count": 8,
   "id": "bf59ff3d",
   "metadata": {},
   "outputs": [
    {
     "name": "stdout",
     "output_type": "stream",
     "text": [
      "<\n"
     ]
    }
   ],
   "source": [
    "# 3 or more conditions - Check whether the given number equals 0, greater than 50 or less than 50.\n",
    "b = 6\n",
    "c = 5\n",
    "d = 90\n",
    "if b > 50:\n",
    "    print('>')\n",
    "elif b < 50:\n",
    "    print('<')\n",
    "else:\n",
    "    print(\"equal\")"
   ]
  },
  {
   "cell_type": "markdown",
   "id": "4d0bc081",
   "metadata": {},
   "source": [
    "<a id=\"forloop\"> </a>\n",
    "## 4. for loop\n"
   ]
  },
  {
   "cell_type": "markdown",
   "id": "5e03ee14",
   "metadata": {},
   "source": [
    "**Syntax of for loop:**<br><br>\n",
    "for val in sequence:<br>\n",
    "&nbsp;&nbsp;\tBody of for <br><br>\n",
    "\n",
    "\n",
    "\n",
    "A `for` loop is used for iterating over a sequence (that is either a list, a tuple, a dictionary, a set)."
   ]
  },
  {
   "cell_type": "code",
   "execution_count": 9,
   "id": "e425d96e",
   "metadata": {
    "scrolled": true
   },
   "outputs": [],
   "source": [
    "# create a list of numbers, using for loop, square each number\n",
    "ex1 = [1,2,3,4,5,6]"
   ]
  },
  {
   "cell_type": "code",
   "execution_count": 10,
   "outputs": [
    {
     "name": "stdout",
     "output_type": "stream",
     "text": [
      "1\n",
      "4\n",
      "9\n",
      "16\n",
      "25\n",
      "36\n"
     ]
    }
   ],
   "source": [
    "for x in ex1:\n",
    "    print(x**2)"
   ],
   "metadata": {
    "collapsed": false
   }
  },
  {
   "cell_type": "code",
   "execution_count": 12,
   "outputs": [
    {
     "name": "stdout",
     "output_type": "stream",
     "text": [
      "4\n",
      "16\n",
      "36\n"
     ]
    }
   ],
   "source": [
    "for x in ex1:\n",
    "    if x % 2 ==0:\n",
    "        print(x**2)"
   ],
   "metadata": {
    "collapsed": false
   }
  },
  {
   "cell_type": "code",
   "execution_count": 13,
   "outputs": [],
   "source": [
    "ex2 = [1,2,3,4,5,6,7]"
   ],
   "metadata": {
    "collapsed": false
   }
  },
  {
   "cell_type": "code",
   "execution_count": 16,
   "outputs": [
    {
     "name": "stdout",
     "output_type": "stream",
     "text": [
      "9\n",
      "36\n"
     ]
    }
   ],
   "source": [
    "for x in ex2:\n",
    "    if x >= 3 and x%3 ==0:\n",
    "        print(x**2)"
   ],
   "metadata": {
    "collapsed": false
   }
  },
  {
   "cell_type": "markdown",
   "id": "ed721a34",
   "metadata": {},
   "source": [
    "<a id=\"whileloop\"> </a>\n",
    "## 5. while loop"
   ]
  },
  {
   "cell_type": "markdown",
   "id": "d8a793f8",
   "metadata": {},
   "source": [
    "**Syntax of for loop:**<br><br>\n",
    "while (expression):<br>\n",
    "&nbsp;&nbsp;     statement_1<br>\n",
    "&nbsp;&nbsp;     statement_2<br>\n",
    "    .... \n",
    "<br><br>\n",
    "With the `while` loop we can execute a set of statements as long as a condition is true."
   ]
  },
  {
   "cell_type": "code",
   "execution_count": 20,
   "id": "16f65cf5",
   "metadata": {},
   "outputs": [
    {
     "ename": "TypeError",
     "evalue": "insert expected 2 arguments, got 1",
     "output_type": "error",
     "traceback": [
      "\u001B[1;31m---------------------------------------------------------------------------\u001B[0m",
      "\u001B[1;31mTypeError\u001B[0m                                 Traceback (most recent call last)",
      "\u001B[1;32m~\\AppData\\Local\\Temp\\ipykernel_24876\\3932025237.py\u001B[0m in \u001B[0;36m<module>\u001B[1;34m\u001B[0m\n\u001B[0;32m      3\u001B[0m \u001B[0mex3\u001B[0m \u001B[1;33m=\u001B[0m \u001B[1;33m[\u001B[0m\u001B[1;33m]\u001B[0m\u001B[1;33m\u001B[0m\u001B[1;33m\u001B[0m\u001B[0m\n\u001B[0;32m      4\u001B[0m \u001B[1;32mwhile\u001B[0m \u001B[0mx\u001B[0m\u001B[1;33m<\u001B[0m\u001B[1;36m6\u001B[0m\u001B[1;33m:\u001B[0m\u001B[1;33m\u001B[0m\u001B[1;33m\u001B[0m\u001B[0m\n\u001B[1;32m----> 5\u001B[1;33m     \u001B[0mex3\u001B[0m\u001B[1;33m.\u001B[0m\u001B[0minsert\u001B[0m\u001B[1;33m(\u001B[0m\u001B[0mex2\u001B[0m\u001B[1;33m[\u001B[0m\u001B[0mx\u001B[0m\u001B[1;33m]\u001B[0m\u001B[1;33m)\u001B[0m\u001B[1;33m\u001B[0m\u001B[1;33m\u001B[0m\u001B[0m\n\u001B[0m\u001B[0;32m      6\u001B[0m     \u001B[0mprint\u001B[0m\u001B[1;33m(\u001B[0m\u001B[0mx\u001B[0m\u001B[1;33m)\u001B[0m\u001B[1;33m\u001B[0m\u001B[1;33m\u001B[0m\u001B[0m\n\u001B[0;32m      7\u001B[0m     \u001B[0mx\u001B[0m\u001B[1;33m+=\u001B[0m\u001B[1;36m1\u001B[0m\u001B[1;33m\u001B[0m\u001B[1;33m\u001B[0m\u001B[0m\n",
      "\u001B[1;31mTypeError\u001B[0m: insert expected 2 arguments, got 1"
     ]
    }
   ],
   "source": [
    "# print the first 5 digits\n",
    "x = 0\n",
    "ex3 = []\n",
    "while x<6:\n",
    "    ex3.insert(ex2[x])\n",
    "    print(x)\n",
    "    x+=1"
   ]
  },
  {
   "cell_type": "code",
   "execution_count": 21,
   "outputs": [
    {
     "name": "stdout",
     "output_type": "stream",
     "text": [
      "0\n",
      "1\n",
      "2\n",
      "3\n",
      "4\n",
      "5\n"
     ]
    }
   ],
   "source": [
    "x = 0\n",
    "while x<6:\n",
    "    print(x)\n",
    "    x+=1"
   ],
   "metadata": {
    "collapsed": false
   }
  },
  {
   "cell_type": "markdown",
   "id": "231f652c",
   "metadata": {},
   "source": [
    "<a id=\"breakstatement\"> </a>\n",
    "## 6. break statement\n",
    "\n",
    "\n",
    "<br>The `break` keyword is used to break out of a loop completely."
   ]
  },
  {
   "cell_type": "code",
   "execution_count": 22,
   "id": "ba12280f",
   "metadata": {},
   "outputs": [
    {
     "name": "stdout",
     "output_type": "stream",
     "text": [
      "1\n",
      "4\n",
      "9\n",
      "16\n"
     ]
    }
   ],
   "source": [
    "# create a list of numbers, and if number is 4; break out\n",
    "for x in ex2:\n",
    "    if x >4 :\n",
    "        break\n",
    "    print(x**2)"
   ]
  },
  {
   "cell_type": "markdown",
   "id": "fea1b8b8",
   "metadata": {},
   "source": [
    "### <a id=\"continuestatement\"> </a>\n",
    "## 7. continue statement\n",
    "\n",
    "\n",
    "The `continue` keyword is used to end the current iteration in a loop, and continue to the next iteration."
   ]
  },
  {
   "cell_type": "code",
   "execution_count": 27,
   "id": "a12178bc",
   "metadata": {},
   "outputs": [
    {
     "name": "stdout",
     "output_type": "stream",
     "text": [
      "16\n",
      "25\n",
      "36\n",
      "49\n"
     ]
    }
   ],
   "source": [
    "# create a list of numbers, and if numebr is 4; continue to next iteration\n",
    "for x in ex2:\n",
    "    if x <4:\n",
    "        continue\n",
    "    print(x**2)"
   ]
  },
  {
   "cell_type": "code",
   "execution_count": 1,
   "outputs": [],
   "source": [
    "t = (1,2,3,4,5,5)"
   ],
   "metadata": {
    "collapsed": false
   }
  },
  {
   "cell_type": "code",
   "execution_count": 2,
   "outputs": [
    {
     "data": {
      "text/plain": "[4, 5]"
     },
     "execution_count": 2,
     "metadata": {},
     "output_type": "execute_result"
    }
   ],
   "source": [
    "ind = []\n",
    "for i in range(0,6):\n",
    "    if t[i] == 5:\n",
    "        ind.append(i)\n",
    "\n",
    "ind"
   ],
   "metadata": {
    "collapsed": false
   }
  },
  {
   "cell_type": "code",
   "execution_count": 3,
   "outputs": [
    {
     "name": "stdout",
     "output_type": "stream",
     "text": [
      "[2, 4, 6, 8, 10]\n"
     ]
    }
   ],
   "source": [
    "num = [1,2,3,4,5,6,7,8,9,10]\n",
    "new = []\n",
    "for i in num:\n",
    "    if i%2 == 0:\n",
    "        new.append(i)\n",
    "print(new)"
   ],
   "metadata": {
    "collapsed": false
   }
  },
  {
   "cell_type": "code",
   "execution_count": 4,
   "outputs": [
    {
     "name": "stdout",
     "output_type": "stream",
     "text": [
      "Python is a high-level programming language\n"
     ]
    }
   ],
   "source": [
    "print (\"Python is a high-level programming language\")"
   ],
   "metadata": {
    "collapsed": false
   }
  },
  {
   "cell_type": "code",
   "execution_count": 5,
   "outputs": [
    {
     "name": "stdout",
     "output_type": "stream",
     "text": [
      "Python is a high-level programming language!\n"
     ]
    }
   ],
   "source": [
    "print (\"Python is a high-level programming language!\")"
   ],
   "metadata": {
    "collapsed": false
   }
  },
  {
   "cell_type": "code",
   "execution_count": 6,
   "outputs": [
    {
     "data": {
      "text/plain": "False"
     },
     "execution_count": 6,
     "metadata": {},
     "output_type": "execute_result"
    }
   ],
   "source": [
    "print ==(\"Python is a high-level programming language\")"
   ],
   "metadata": {
    "collapsed": false
   }
  },
  {
   "cell_type": "code",
   "execution_count": 7,
   "outputs": [
    {
     "data": {
      "text/plain": "str"
     },
     "execution_count": 7,
     "metadata": {},
     "output_type": "execute_result"
    }
   ],
   "source": [
    "type (\"Python is a high-level programming language\")"
   ],
   "metadata": {
    "collapsed": false
   }
  },
  {
   "cell_type": "code",
   "execution_count": 8,
   "outputs": [
    {
     "name": "stdout",
     "output_type": "stream",
     "text": [
      "50\n",
      "20\n"
     ]
    }
   ],
   "source": [
    "X = 50\n",
    "print(X)\n",
    "x = 20\n",
    "print(x)"
   ],
   "metadata": {
    "collapsed": false
   }
  },
  {
   "cell_type": "code",
   "execution_count": 12,
   "outputs": [
    {
     "data": {
      "text/plain": "str"
     },
     "execution_count": 12,
     "metadata": {},
     "output_type": "execute_result"
    }
   ],
   "source": [
    "Var1 = 'HeLLo'\n",
    "\n",
    "Var2 = \"python\"\n",
    "\n",
    "Var3 = \"123Hi\"\n",
    "\n",
    "type(Var1)\n"
   ],
   "metadata": {
    "collapsed": false
   }
  },
  {
   "cell_type": "code",
   "execution_count": 10,
   "outputs": [
    {
     "data": {
      "text/plain": "str"
     },
     "execution_count": 10,
     "metadata": {},
     "output_type": "execute_result"
    }
   ],
   "source": [
    "type(Var3)\n"
   ],
   "metadata": {
    "collapsed": false
   }
  },
  {
   "cell_type": "code",
   "execution_count": 11,
   "outputs": [
    {
     "data": {
      "text/plain": "str"
     },
     "execution_count": 11,
     "metadata": {},
     "output_type": "execute_result"
    }
   ],
   "source": [
    "type(Var2)\n"
   ],
   "metadata": {
    "collapsed": false
   }
  },
  {
   "cell_type": "code",
   "execution_count": 13,
   "outputs": [
    {
     "data": {
      "text/plain": "'C++'"
     },
     "execution_count": 13,
     "metadata": {},
     "output_type": "execute_result"
    }
   ],
   "source": [
    "languages= ['Python','Java','C++']\n",
    "languages[-1]"
   ],
   "metadata": {
    "collapsed": false
   }
  },
  {
   "cell_type": "code",
   "execution_count": 15,
   "outputs": [
    {
     "name": "stdout",
     "output_type": "stream",
     "text": [
      "9\n"
     ]
    }
   ],
   "source": [
    "name, age, dave = 'Mark', 13, 9\n",
    "print(dave)"
   ],
   "metadata": {
    "collapsed": false
   }
  },
  {
   "cell_type": "code",
   "execution_count": 16,
   "outputs": [
    {
     "data": {
      "text/plain": "int"
     },
     "execution_count": 16,
     "metadata": {},
     "output_type": "execute_result"
    }
   ],
   "source": [
    "Var4 = 1234\n",
    "type(Var4)"
   ],
   "metadata": {
    "collapsed": false
   }
  },
  {
   "cell_type": "code",
   "execution_count": null,
   "outputs": [],
   "source": [],
   "metadata": {
    "collapsed": false
   }
  }
 ],
 "metadata": {
  "kernelspec": {
   "display_name": "Python 3 (ipykernel)",
   "language": "python",
   "name": "python3"
  },
  "language_info": {
   "codemirror_mode": {
    "name": "ipython",
    "version": 3
   },
   "file_extension": ".py",
   "mimetype": "text/x-python",
   "name": "python",
   "nbconvert_exporter": "python",
   "pygments_lexer": "ipython3",
   "version": "3.9.13"
  }
 },
 "nbformat": 4,
 "nbformat_minor": 5
}
